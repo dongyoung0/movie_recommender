{
 "cells": [
  {
   "cell_type": "markdown",
   "metadata": {
    "id": "e6JGoY1PEdY8"
   },
   "source": [
    "# 필요한 라이브러리 설치 및 import"
   ]
  },
  {
   "cell_type": "code",
   "execution_count": null,
   "metadata": {
    "colab": {
     "base_uri": "https://localhost:8080/"
    },
    "executionInfo": {
     "elapsed": 3251,
     "status": "ok",
     "timestamp": 1639036801688,
     "user": {
      "displayName": "김동영",
      "photoUrl": "https://lh3.googleusercontent.com/a/default-user=s64",
      "userId": "17835880286856113214"
     },
     "user_tz": -540
    },
    "id": "sCmYNEXZEfoS",
    "outputId": "e8c2c6aa-9568-4cfd-9469-88ed3c508e9b"
   },
   "outputs": [
    {
     "name": "stdout",
     "output_type": "stream",
     "text": [
      "Requirement already satisfied: surprise in /usr/local/lib/python3.7/dist-packages (0.1)\n",
      "Requirement already satisfied: scikit-surprise in /usr/local/lib/python3.7/dist-packages (from surprise) (1.1.1)\n",
      "Requirement already satisfied: six>=1.10.0 in /usr/local/lib/python3.7/dist-packages (from scikit-surprise->surprise) (1.15.0)\n",
      "Requirement already satisfied: scipy>=1.0.0 in /usr/local/lib/python3.7/dist-packages (from scikit-surprise->surprise) (1.4.1)\n",
      "Requirement already satisfied: numpy>=1.11.2 in /usr/local/lib/python3.7/dist-packages (from scikit-surprise->surprise) (1.19.5)\n",
      "Requirement already satisfied: joblib>=0.11 in /usr/local/lib/python3.7/dist-packages (from scikit-surprise->surprise) (1.1.0)\n"
     ]
    }
   ],
   "source": [
    "!pip install surprise"
   ]
  },
  {
   "cell_type": "code",
   "execution_count": null,
   "metadata": {
    "id": "QwlLhfT6EhmP"
   },
   "outputs": [],
   "source": [
    "from surprise import Dataset, Reader\n",
    "from surprise import SVD\n",
    "from surprise import KNNBasic\n",
    "from google.colab import drive\n",
    "from surprise import accuracy\n",
    "import scipy\n",
    "import pandas as pd\n",
    "import numpy as np\n",
    "import matplotlib.pyplot as plt\n",
    "import time\n",
    "import multiprocessing\n",
    "import warnings\n",
    "warnings.filterwarnings(\"ignore\")"
   ]
  },
  {
   "cell_type": "markdown",
   "metadata": {
    "id": "A31jEvTyEsz9"
   },
   "source": [
    "# 데이터 준비"
   ]
  },
  {
   "cell_type": "markdown",
   "metadata": {
    "id": "ilb4WoTOFON1"
   },
   "source": [
    "데이터 불러오기"
   ]
  },
  {
   "cell_type": "code",
   "execution_count": null,
   "metadata": {
    "colab": {
     "base_uri": "https://localhost:8080/"
    },
    "executionInfo": {
     "elapsed": 2013,
     "status": "ok",
     "timestamp": 1639036807212,
     "user": {
      "displayName": "김동영",
      "photoUrl": "https://lh3.googleusercontent.com/a/default-user=s64",
      "userId": "17835880286856113214"
     },
     "user_tz": -540
    },
    "id": "mW0SYLEa_x-p",
    "outputId": "8949dae7-77e7-419a-915f-d63f86dee123"
   },
   "outputs": [
    {
     "data": {
      "text/plain": [
       "(982121, 7)"
      ]
     },
     "execution_count": 560,
     "metadata": {},
     "output_type": "execute_result"
    }
   ],
   "source": [
    "user_movie_df = pd.read_csv('/content/drive/MyDrive/SSAC/4조/코드/Dataset/2019 movie/rating_movie_opt2.csv')\n",
    "user_movie_df.shape"
   ]
  },
  {
   "cell_type": "code",
   "execution_count": null,
   "metadata": {
    "colab": {
     "base_uri": "https://localhost:8080/"
    },
    "executionInfo": {
     "elapsed": 6,
     "status": "ok",
     "timestamp": 1639036807212,
     "user": {
      "displayName": "김동영",
      "photoUrl": "https://lh3.googleusercontent.com/a/default-user=s64",
      "userId": "17835880286856113214"
     },
     "user_tz": -540
    },
    "id": "72FkBxWNPGy7",
    "outputId": "92574503-cee1-4f6f-b31e-d7bd5b46dde4"
   },
   "outputs": [
    {
     "data": {
      "text/plain": [
       "(100000, 7)"
      ]
     },
     "execution_count": 561,
     "metadata": {},
     "output_type": "execute_result"
    }
   ],
   "source": [
    "user_movie_df = user_movie_df[-100000:]\n",
    "user_movie_df.shape"
   ]
  },
  {
   "cell_type": "code",
   "execution_count": null,
   "metadata": {
    "colab": {
     "base_uri": "https://localhost:8080/",
     "height": 206
    },
    "executionInfo": {
     "elapsed": 5,
     "status": "ok",
     "timestamp": 1639036807213,
     "user": {
      "displayName": "김동영",
      "photoUrl": "https://lh3.googleusercontent.com/a/default-user=s64",
      "userId": "17835880286856113214"
     },
     "user_tz": -540
    },
    "id": "urIx9k4OO_F8",
    "outputId": "50782e81-24bd-4fdc-cff0-8f8b23a6f2ff"
   },
   "outputs": [
    {
     "data": {
      "text/html": [
       "<div>\n",
       "<style scoped>\n",
       "    .dataframe tbody tr th:only-of-type {\n",
       "        vertical-align: middle;\n",
       "    }\n",
       "\n",
       "    .dataframe tbody tr th {\n",
       "        vertical-align: top;\n",
       "    }\n",
       "\n",
       "    .dataframe thead th {\n",
       "        text-align: right;\n",
       "    }\n",
       "</style>\n",
       "<table border=\"1\" class=\"dataframe\">\n",
       "  <thead>\n",
       "    <tr style=\"text-align: right;\">\n",
       "      <th></th>\n",
       "      <th>movieId</th>\n",
       "      <th>rating</th>\n",
       "      <th>timestamp</th>\n",
       "      <th>title</th>\n",
       "      <th>genres</th>\n",
       "      <th>year</th>\n",
       "      <th>userId</th>\n",
       "    </tr>\n",
       "  </thead>\n",
       "  <tbody>\n",
       "    <tr>\n",
       "      <th>882121</th>\n",
       "      <td>71535</td>\n",
       "      <td>2.0</td>\n",
       "      <td>1319325123</td>\n",
       "      <td>Zombieland (2009)</td>\n",
       "      <td>Action|Comedy|Horror</td>\n",
       "      <td>2009</td>\n",
       "      <td>28742</td>\n",
       "    </tr>\n",
       "    <tr>\n",
       "      <th>882122</th>\n",
       "      <td>71535</td>\n",
       "      <td>3.5</td>\n",
       "      <td>1376151921</td>\n",
       "      <td>Zombieland (2009)</td>\n",
       "      <td>Action|Comedy|Horror</td>\n",
       "      <td>2009</td>\n",
       "      <td>15963</td>\n",
       "    </tr>\n",
       "    <tr>\n",
       "      <th>882123</th>\n",
       "      <td>71535</td>\n",
       "      <td>5.0</td>\n",
       "      <td>1489259849</td>\n",
       "      <td>Zombieland (2009)</td>\n",
       "      <td>Action|Comedy|Horror</td>\n",
       "      <td>2009</td>\n",
       "      <td>93135</td>\n",
       "    </tr>\n",
       "    <tr>\n",
       "      <th>882124</th>\n",
       "      <td>71535</td>\n",
       "      <td>5.0</td>\n",
       "      <td>1318187352</td>\n",
       "      <td>Zombieland (2009)</td>\n",
       "      <td>Action|Comedy|Horror</td>\n",
       "      <td>2009</td>\n",
       "      <td>56452</td>\n",
       "    </tr>\n",
       "    <tr>\n",
       "      <th>882125</th>\n",
       "      <td>71535</td>\n",
       "      <td>3.0</td>\n",
       "      <td>1345174137</td>\n",
       "      <td>Zombieland (2009)</td>\n",
       "      <td>Action|Comedy|Horror</td>\n",
       "      <td>2009</td>\n",
       "      <td>72120</td>\n",
       "    </tr>\n",
       "  </tbody>\n",
       "</table>\n",
       "</div>"
      ],
      "text/plain": [
       "        movieId  rating   timestamp  ...                genres  year  userId\n",
       "882121    71535     2.0  1319325123  ...  Action|Comedy|Horror  2009   28742\n",
       "882122    71535     3.5  1376151921  ...  Action|Comedy|Horror  2009   15963\n",
       "882123    71535     5.0  1489259849  ...  Action|Comedy|Horror  2009   93135\n",
       "882124    71535     5.0  1318187352  ...  Action|Comedy|Horror  2009   56452\n",
       "882125    71535     3.0  1345174137  ...  Action|Comedy|Horror  2009   72120\n",
       "\n",
       "[5 rows x 7 columns]"
      ]
     },
     "execution_count": 562,
     "metadata": {},
     "output_type": "execute_result"
    }
   ],
   "source": [
    "user_movie_df.head()"
   ]
  },
  {
   "cell_type": "code",
   "execution_count": null,
   "metadata": {
    "id": "WdPaGLeJOza_"
   },
   "outputs": [],
   "source": [
    "user_movie_df['userId'] = user_movie_df['userId'].astype('category').cat.codes.values + 1\n",
    "user_movie_df['movieId'] = user_movie_df['movieId'].astype('category').cat.codes.values + 1"
   ]
  },
  {
   "cell_type": "code",
   "execution_count": null,
   "metadata": {
    "colab": {
     "base_uri": "https://localhost:8080/",
     "height": 206
    },
    "executionInfo": {
     "elapsed": 3,
     "status": "ok",
     "timestamp": 1639036808562,
     "user": {
      "displayName": "김동영",
      "photoUrl": "https://lh3.googleusercontent.com/a/default-user=s64",
      "userId": "17835880286856113214"
     },
     "user_tz": -540
    },
    "id": "EF8QhYUoO-sO",
    "outputId": "d168914d-69ed-4760-b045-951da6b6e243"
   },
   "outputs": [
    {
     "data": {
      "text/html": [
       "<div>\n",
       "<style scoped>\n",
       "    .dataframe tbody tr th:only-of-type {\n",
       "        vertical-align: middle;\n",
       "    }\n",
       "\n",
       "    .dataframe tbody tr th {\n",
       "        vertical-align: top;\n",
       "    }\n",
       "\n",
       "    .dataframe thead th {\n",
       "        text-align: right;\n",
       "    }\n",
       "</style>\n",
       "<table border=\"1\" class=\"dataframe\">\n",
       "  <thead>\n",
       "    <tr style=\"text-align: right;\">\n",
       "      <th></th>\n",
       "      <th>movieId</th>\n",
       "      <th>rating</th>\n",
       "      <th>timestamp</th>\n",
       "      <th>title</th>\n",
       "      <th>genres</th>\n",
       "      <th>year</th>\n",
       "      <th>userId</th>\n",
       "    </tr>\n",
       "  </thead>\n",
       "  <tbody>\n",
       "    <tr>\n",
       "      <th>882121</th>\n",
       "      <td>1</td>\n",
       "      <td>2.0</td>\n",
       "      <td>1319325123</td>\n",
       "      <td>Zombieland (2009)</td>\n",
       "      <td>Action|Comedy|Horror</td>\n",
       "      <td>2009</td>\n",
       "      <td>325</td>\n",
       "    </tr>\n",
       "    <tr>\n",
       "      <th>882122</th>\n",
       "      <td>1</td>\n",
       "      <td>3.5</td>\n",
       "      <td>1376151921</td>\n",
       "      <td>Zombieland (2009)</td>\n",
       "      <td>Action|Comedy|Horror</td>\n",
       "      <td>2009</td>\n",
       "      <td>188</td>\n",
       "    </tr>\n",
       "    <tr>\n",
       "      <th>882123</th>\n",
       "      <td>1</td>\n",
       "      <td>5.0</td>\n",
       "      <td>1489259849</td>\n",
       "      <td>Zombieland (2009)</td>\n",
       "      <td>Action|Comedy|Horror</td>\n",
       "      <td>2009</td>\n",
       "      <td>1032</td>\n",
       "    </tr>\n",
       "    <tr>\n",
       "      <th>882124</th>\n",
       "      <td>1</td>\n",
       "      <td>5.0</td>\n",
       "      <td>1318187352</td>\n",
       "      <td>Zombieland (2009)</td>\n",
       "      <td>Action|Comedy|Horror</td>\n",
       "      <td>2009</td>\n",
       "      <td>641</td>\n",
       "    </tr>\n",
       "    <tr>\n",
       "      <th>882125</th>\n",
       "      <td>1</td>\n",
       "      <td>3.0</td>\n",
       "      <td>1345174137</td>\n",
       "      <td>Zombieland (2009)</td>\n",
       "      <td>Action|Comedy|Horror</td>\n",
       "      <td>2009</td>\n",
       "      <td>806</td>\n",
       "    </tr>\n",
       "  </tbody>\n",
       "</table>\n",
       "</div>"
      ],
      "text/plain": [
       "        movieId  rating   timestamp  ...                genres  year  userId\n",
       "882121        1     2.0  1319325123  ...  Action|Comedy|Horror  2009     325\n",
       "882122        1     3.5  1376151921  ...  Action|Comedy|Horror  2009     188\n",
       "882123        1     5.0  1489259849  ...  Action|Comedy|Horror  2009    1032\n",
       "882124        1     5.0  1318187352  ...  Action|Comedy|Horror  2009     641\n",
       "882125        1     3.0  1345174137  ...  Action|Comedy|Horror  2009     806\n",
       "\n",
       "[5 rows x 7 columns]"
      ]
     },
     "execution_count": 564,
     "metadata": {},
     "output_type": "execute_result"
    }
   ],
   "source": [
    "user_movie_df.head()"
   ]
  },
  {
   "cell_type": "code",
   "execution_count": null,
   "metadata": {
    "colab": {
     "base_uri": "https://localhost:8080/",
     "height": 441
    },
    "executionInfo": {
     "elapsed": 4,
     "status": "ok",
     "timestamp": 1639036809167,
     "user": {
      "displayName": "김동영",
      "photoUrl": "https://lh3.googleusercontent.com/a/default-user=s64",
      "userId": "17835880286856113214"
     },
     "user_tz": -540
    },
    "id": "Zep1PoGB1ecJ",
    "outputId": "094d2652-ed1d-4eed-cc84-7d9a7a745146"
   },
   "outputs": [
    {
     "data": {
      "text/html": [
       "<div>\n",
       "<style scoped>\n",
       "    .dataframe tbody tr th:only-of-type {\n",
       "        vertical-align: middle;\n",
       "    }\n",
       "\n",
       "    .dataframe tbody tr th {\n",
       "        vertical-align: top;\n",
       "    }\n",
       "\n",
       "    .dataframe thead th {\n",
       "        text-align: right;\n",
       "    }\n",
       "</style>\n",
       "<table border=\"1\" class=\"dataframe\">\n",
       "  <thead>\n",
       "    <tr style=\"text-align: right;\">\n",
       "      <th></th>\n",
       "      <th>movieId</th>\n",
       "      <th>rating</th>\n",
       "      <th>timestamp</th>\n",
       "      <th>title</th>\n",
       "      <th>genres</th>\n",
       "      <th>year</th>\n",
       "      <th>userId</th>\n",
       "    </tr>\n",
       "  </thead>\n",
       "  <tbody>\n",
       "    <tr>\n",
       "      <th>922929</th>\n",
       "      <td>214</td>\n",
       "      <td>4.5</td>\n",
       "      <td>1346231333</td>\n",
       "      <td>Jiro Dreams of Sushi (2011)</td>\n",
       "      <td>Documentary</td>\n",
       "      <td>2011</td>\n",
       "      <td>1</td>\n",
       "    </tr>\n",
       "    <tr>\n",
       "      <th>901869</th>\n",
       "      <td>104</td>\n",
       "      <td>3.0</td>\n",
       "      <td>1327220235</td>\n",
       "      <td>Harry Potter and the Deathly Hallows: Part 1 (...</td>\n",
       "      <td>Action|Adventure|Fantasy|IMAX</td>\n",
       "      <td>2010</td>\n",
       "      <td>1</td>\n",
       "    </tr>\n",
       "    <tr>\n",
       "      <th>886455</th>\n",
       "      <td>21</td>\n",
       "      <td>4.0</td>\n",
       "      <td>1285210981</td>\n",
       "      <td>Sherlock Holmes (2009)</td>\n",
       "      <td>Action|Crime|Mystery|Thriller</td>\n",
       "      <td>2009</td>\n",
       "      <td>1</td>\n",
       "    </tr>\n",
       "    <tr>\n",
       "      <th>911665</th>\n",
       "      <td>160</td>\n",
       "      <td>4.5</td>\n",
       "      <td>1319312775</td>\n",
       "      <td>Horrible Bosses (2011)</td>\n",
       "      <td>Comedy|Crime</td>\n",
       "      <td>2011</td>\n",
       "      <td>1</td>\n",
       "    </tr>\n",
       "    <tr>\n",
       "      <th>897354</th>\n",
       "      <td>81</td>\n",
       "      <td>2.0</td>\n",
       "      <td>1286094911</td>\n",
       "      <td>Scott Pilgrim vs. the World (2010)</td>\n",
       "      <td>Action|Comedy|Fantasy|Musical|Romance</td>\n",
       "      <td>2010</td>\n",
       "      <td>1</td>\n",
       "    </tr>\n",
       "    <tr>\n",
       "      <th>...</th>\n",
       "      <td>...</td>\n",
       "      <td>...</td>\n",
       "      <td>...</td>\n",
       "      <td>...</td>\n",
       "      <td>...</td>\n",
       "      <td>...</td>\n",
       "      <td>...</td>\n",
       "    </tr>\n",
       "    <tr>\n",
       "      <th>890956</th>\n",
       "      <td>49</td>\n",
       "      <td>3.5</td>\n",
       "      <td>1281407573</td>\n",
       "      <td>Dogtooth (Kynodontas) (2009)</td>\n",
       "      <td>Drama</td>\n",
       "      <td>2009</td>\n",
       "      <td>1800</td>\n",
       "    </tr>\n",
       "    <tr>\n",
       "      <th>897565</th>\n",
       "      <td>84</td>\n",
       "      <td>4.0</td>\n",
       "      <td>1297812070</td>\n",
       "      <td>Machete (2010)</td>\n",
       "      <td>Action|Adventure|Comedy|Crime|Thriller</td>\n",
       "      <td>2010</td>\n",
       "      <td>1800</td>\n",
       "    </tr>\n",
       "    <tr>\n",
       "      <th>913912</th>\n",
       "      <td>168</td>\n",
       "      <td>1.5</td>\n",
       "      <td>1329514370</td>\n",
       "      <td>Rise of the Planet of the Apes (2011)</td>\n",
       "      <td>Action|Drama|Sci-Fi|Thriller</td>\n",
       "      <td>2011</td>\n",
       "      <td>1800</td>\n",
       "    </tr>\n",
       "    <tr>\n",
       "      <th>883076</th>\n",
       "      <td>7</td>\n",
       "      <td>4.0</td>\n",
       "      <td>1280920671</td>\n",
       "      <td>Fantastic Mr. Fox (2009)</td>\n",
       "      <td>Adventure|Animation|Children|Comedy|Crime</td>\n",
       "      <td>2009</td>\n",
       "      <td>1800</td>\n",
       "    </tr>\n",
       "    <tr>\n",
       "      <th>887251</th>\n",
       "      <td>28</td>\n",
       "      <td>4.0</td>\n",
       "      <td>1280834193</td>\n",
       "      <td>Prophet, A (Un Prophète) (2009)</td>\n",
       "      <td>Crime|Drama</td>\n",
       "      <td>2009</td>\n",
       "      <td>1800</td>\n",
       "    </tr>\n",
       "  </tbody>\n",
       "</table>\n",
       "<p>100000 rows × 7 columns</p>\n",
       "</div>"
      ],
      "text/plain": [
       "        movieId  rating  ...  year userId\n",
       "922929      214     4.5  ...  2011      1\n",
       "901869      104     3.0  ...  2010      1\n",
       "886455       21     4.0  ...  2009      1\n",
       "911665      160     4.5  ...  2011      1\n",
       "897354       81     2.0  ...  2010      1\n",
       "...         ...     ...  ...   ...    ...\n",
       "890956       49     3.5  ...  2009   1800\n",
       "897565       84     4.0  ...  2010   1800\n",
       "913912      168     1.5  ...  2011   1800\n",
       "883076        7     4.0  ...  2009   1800\n",
       "887251       28     4.0  ...  2009   1800\n",
       "\n",
       "[100000 rows x 7 columns]"
      ]
     },
     "execution_count": 565,
     "metadata": {},
     "output_type": "execute_result"
    }
   ],
   "source": [
    "user_movie_df = user_movie_df.sort_values(by='userId')\n",
    "user_movie_df"
   ]
  },
  {
   "cell_type": "code",
   "execution_count": null,
   "metadata": {
    "colab": {
     "base_uri": "https://localhost:8080/"
    },
    "executionInfo": {
     "elapsed": 538,
     "status": "ok",
     "timestamp": 1639036810341,
     "user": {
      "displayName": "김동영",
      "photoUrl": "https://lh3.googleusercontent.com/a/default-user=s64",
      "userId": "17835880286856113214"
     },
     "user_tz": -540
    },
    "id": "EYqjizXri9Rh",
    "outputId": "58409f03-6c09-41c1-d8df-633a9d6be687"
   },
   "outputs": [
    {
     "data": {
      "text/plain": [
       "1800"
      ]
     },
     "execution_count": 566,
     "metadata": {},
     "output_type": "execute_result"
    }
   ],
   "source": [
    "# unique() 함수로 사용자 수와 영화 수 탐색\n",
    "len(user_movie_df['userId'].unique())"
   ]
  },
  {
   "cell_type": "code",
   "execution_count": null,
   "metadata": {
    "colab": {
     "base_uri": "https://localhost:8080/",
     "height": 284
    },
    "executionInfo": {
     "elapsed": 5,
     "status": "ok",
     "timestamp": 1639036810341,
     "user": {
      "displayName": "김동영",
      "photoUrl": "https://lh3.googleusercontent.com/a/default-user=s64",
      "userId": "17835880286856113214"
     },
     "user_tz": -540
    },
    "id": "fZYcq50uj5g7",
    "outputId": "4e83a452-3dc4-46a2-f813-6060e7a5f2d4"
   },
   "outputs": [
    {
     "data": {
      "text/plain": [
       "<matplotlib.axes._subplots.AxesSubplot at 0x7fb0ff063dd0>"
      ]
     },
     "execution_count": 567,
     "metadata": {},
     "output_type": "execute_result"
    },
    {
     "data": {
      "image/png": "[encoded data removed]",
      "text/plain": [
       "<Figure size 432x288 with 1 Axes>"
      ]
     },
     "metadata": {
      "needs_background": "light"
     },
     "output_type": "display_data"
    }
   ],
   "source": [
    "# hist() 함수로 히스토그램 그래프 생성\n",
    "user_movie_df['rating'].hist() #점수 분포 확인"
   ]
  },
  {
   "cell_type": "markdown",
   "metadata": {
    "id": "N2VHyGY-FCh1"
   },
   "source": [
    "# Suprise"
   ]
  },
  {
   "cell_type": "markdown",
   "metadata": {
    "id": "w12ZwE8RNHmK"
   },
   "source": [
    "## 데이터 준비"
   ]
  },
  {
   "cell_type": "markdown",
   "metadata": {
    "id": "TLaiuytvL3JT"
   },
   "source": [
    "사이킷런 train_test_split으로 train/test set 분리"
   ]
  },
  {
   "cell_type": "code",
   "execution_count": null,
   "metadata": {
    "id": "780PsbyQKpY0"
   },
   "outputs": [],
   "source": [
    "from sklearn.model_selection import train_test_split\n",
    "\n",
    "train, test = train_test_split(user_movie_df, test_size=0.2, random_state=4)"
   ]
  },
  {
   "cell_type": "code",
   "execution_count": null,
   "metadata": {
    "id": "gBh8SSZaWTZp"
   },
   "outputs": [],
   "source": [
    "drop_list = []\n",
    "for u in test.userId.unique():\n",
    "    if u not in train.userId.unique():\n",
    "        drop_list.append(u)\n",
    "test = test.set_index('userId').drop(drop_list).reset_index()"
   ]
  },
  {
   "cell_type": "markdown",
   "metadata": {
    "id": "78c3VHyEKeZL"
   },
   "source": [
    "사이킷런에서 나눈 데이터 surprise 형식에 맞게 변환"
   ]
  },
  {
   "cell_type": "code",
   "execution_count": null,
   "metadata": {
    "id": "p3QOvWMokGX8"
   },
   "outputs": [],
   "source": [
    "# # Reader, Dataset 오브젝트로 학습용 데이터셋 생성 및 분리\n",
    "reader = Reader(rating_scale = (1,5)) # Reader: 레이팅 테이블을 분석하기 위한 클래스. user ; item ; rating ; [timestamp] 이런 구조로 된 테이블을 써야함. (1,5) : 레이팅 점수 범위\n",
    "data = Dataset.load_from_df(user_movie_df[['userId', 'movieId', 'rating']], reader) #Dataset: 데이터 관리하는 클래스. 위에서 읽은 데이터중 시간을 빼고 읽음\n",
    "# 불러온 레이팅 데이터를 학습테스트 데이터 80프로 테스트 데이터 20프로로 분리\n",
    "# train 데이터 프레임을 surprise.trainset 형식으로 변환\n",
    "trainset = Dataset.load_from_df(train[['userId', 'movieId', 'rating']], reader).build_full_trainset()\n",
    "test_data = trainset.build_anti_testset()\n",
    " # 형식에 맞게 test set 생성\n",
    "testset = []\n",
    "for i in range(len(test)):\n",
    "    testset.append((test['userId'].iloc[i], test['movieId'].iloc[i], test['rating'].iloc[i]))"
   ]
  },
  {
   "cell_type": "markdown",
   "metadata": {
    "id": "yavSpybxNCaZ"
   },
   "source": [
    "### map 계산하는 함수 정의"
   ]
  },
  {
   "cell_type": "code",
   "execution_count": null,
   "metadata": {
    "id": "Zm6eZMuYIEKx"
   },
   "outputs": [],
   "source": [
    "# k를 인자로 받아 3개의 추천 후보를 담는 user metric 로 mean average precision 계산하는 함수 (위에 두부분을 합친것)\n",
    "def get_map(k,predictions):\n",
    "\n",
    "  estimated_unwatched_dict = {} \n",
    "  for uid, iid, _, predicted_rating, _ in predictions:\n",
    "    if uid in estimated_unwatched_dict:\n",
    "      estimated_unwatched_dict[uid].append((iid, predicted_rating))\n",
    "    else:\n",
    "      estimated_unwatched_dict[uid] = [(iid, predicted_rating)]\n",
    "\n",
    "# test 데이터 중에 4점 이상 평가 된 영화들중에\n",
    "# 각 유저별로 4점이상 평가한 영화들에 대한 리스트를 만든다\n",
    "  user_watch_dict_list = test[test['rating']>0].groupby('userId')[['userId', 'movieId']].apply(lambda x: x['movieId'].tolist())\n",
    "  \n",
    "\n",
    "  user_metric = []\n",
    "  for user in estimated_unwatched_dict:\n",
    "    estimated_list = estimated_unwatched_dict[user].copy()\n",
    "    estimated_list.sort(key=lambda tup: tup[1], reverse=True)#tup[1] 점수에 해당하는 부분. reverse -> 내림차순\n",
    "    #유저별 영화에 대한 예측평가점수들을 내림차순으로 정렬함 (리스트가 점수에따라 정렬이 됨)\n",
    "    try: \n",
    "      top_k_prefer_list = [movie[0] for movie in estimated_list[:k]] #유저별로 높게 평가했을거라고 예측된 상위 k의 영화를 가져옴\n",
    "      actual_watch_list = user_watch_dict_list[int(user)] #실제로 본 영화평가중 4점 이상으로 평가한것\n",
    "      user_metric.append((user, top_k_prefer_list, actual_watch_list)) # '유저'별로 '예측된 평가중 상위 k개'와 '실제로 4점이상준 영화'를 짝지어 user_metric 리스트에 튜플로 넣어줌\n",
    "    except: #특정시점 이전엔 영화를 봤지만 특정시점 이후에는 영화를 안본 유저를 걸러주기 위함\n",
    "      pass\n",
    "  \n",
    "  precision_list = []\n",
    "  for user in user_metric:\n",
    "    predictive_values = user[1] #높게 평가했을 거라고 예측한 상위 k개 영화중 하나\n",
    "    actual_values = set(user[2]) #유저가 실제로 4점이상이라고 평가한 영화\n",
    "    tp = [pv for pv in predictive_values if pv in actual_values] #Confusion Matrix를 통한 precision 계산1\n",
    "    precision = len(tp) / len(predictive_values) ##Confusion Matrix를 통한 precision 계산2 여기서 나온값 ex) 0.33 -> 추천한 3개중 1개는 만족했다\n",
    "    precision_list.append(precision) #각 유저별 precision 값을 저장\n",
    "  return sum(precision_list) / len(precision_list) #유저 전반적으로 만족함을 평가한 값 -> 0.1449 -> 100개를 추천했다고 치면 14정도는 만족을 했다\n"
   ]
  },
  {
   "cell_type": "markdown",
   "metadata": {
    "id": "FBJo1XP8NUH2"
   },
   "source": [
    "## KNN 학습"
   ]
  },
  {
   "cell_type": "code",
   "execution_count": null,
   "metadata": {
    "colab": {
     "base_uri": "https://localhost:8080/"
    },
    "executionInfo": {
     "elapsed": 19615,
     "status": "ok",
     "timestamp": 1639037835059,
     "user": {
      "displayName": "김동영",
      "photoUrl": "https://lh3.googleusercontent.com/a/default-user=s64",
      "userId": "17835880286856113214"
     },
     "user_tz": -540
    },
    "id": "ebfTXN7nUlp1",
    "outputId": "be5cd9a3-19c7-40ed-b043-e56750e8bd77"
   },
   "outputs": [
    {
     "name": "stdout",
     "output_type": "stream",
     "text": [
      "Computing the cosine similarity matrix...\n",
      "Done computing similarity matrix.\n",
      "FCP:  0.6637\n",
      "RMSE: 0.9545\n",
      "MAP@10: 0.0201\n"
     ]
    }
   ],
   "source": [
    "# KNNBasic 모델 학습\n",
    "algo = KNNBasic(k = 30, min_k = 3, sim_options={'user_based': True, 'name':'cosine'}) #sim_options. itembase 또는 user base, 어떤 방식으로 유사도 찾을지\n",
    "algo.fit(trainset)\n",
    "pred_test = algo.test(testset) # 각 유저별로 아직 안본 영화들의 평점 예측\n",
    "accuracy.fcp(pred_test)  # FCP를 구해 평가\n",
    "accuracy.rmse(pred_test) # RMSE를 구해 평가\n",
    "\n",
    "pred_all = mf_model.test(test_data)\n",
    "map_score = round(get_map(k,pred_all),4) # MAP를 구해 평가\n",
    "print(f'MAP@10: {map_score}')\n"
   ]
  },
  {
   "cell_type": "code",
   "execution_count": null,
   "metadata": {
    "colab": {
     "base_uri": "https://localhost:8080/"
    },
    "executionInfo": {
     "elapsed": 9468,
     "status": "ok",
     "timestamp": 1639038905800,
     "user": {
      "displayName": "김동영",
      "photoUrl": "https://lh3.googleusercontent.com/a/default-user=s64",
      "userId": "17835880286856113214"
     },
     "user_tz": -540
    },
    "id": "A4OSne1KVKc8",
    "outputId": "912fa2af-65f9-4c1b-9674-0d62101b9504"
   },
   "outputs": [
    {
     "name": "stdout",
     "output_type": "stream",
     "text": [
      "Computing the cosine similarity matrix...\n",
      "Done computing similarity matrix.\n"
     ]
    }
   ],
   "source": [
    "# KNNBasic 모델 학습\n",
    "algo = KNNBasic(k = 30, min_k = 3, sim_options={'user_based': True, 'name':'cosine'}) #sim_options. itembase 또는 user base, 어떤 방식으로 유사도 찾을지\n",
    "algo.fit(trainset)\n",
    "pred_test = algo.test(testset) # 각 유저별로 아직 안본 영화들의 평점 예측"
   ]
  },
  {
   "cell_type": "markdown",
   "metadata": {
    "id": "wT35SnjoMjlQ"
   },
   "source": [
    "### 테스트 셋과 예측 비교 - KNN"
   ]
  },
  {
   "cell_type": "code",
   "execution_count": null,
   "metadata": {
    "colab": {
     "base_uri": "https://localhost:8080/"
    },
    "executionInfo": {
     "elapsed": 359,
     "status": "ok",
     "timestamp": 1639037850983,
     "user": {
      "displayName": "김동영",
      "photoUrl": "https://lh3.googleusercontent.com/a/default-user=s64",
      "userId": "17835880286856113214"
     },
     "user_tz": -540
    },
    "id": "MSU_I8jpLpIQ",
    "outputId": "e2d9e0b3-afe4-4597-ba64-db1ef3cbf822"
   },
   "outputs": [
    {
     "name": "stdout",
     "output_type": "stream",
     "text": [
      "- 유저 10의 18번 영화에 대한 평점 -\n",
      "실제 : 4.0, 예측 : 3.6\n",
      "\n",
      "- 유저 10의 20번 영화에 대한 평점 -\n",
      "실제 : 3.5, 예측 : 3.4\n",
      "\n",
      "- 유저 10의 88번 영화에 대한 평점 -\n",
      "실제 : 4.0, 예측 : 3.7\n",
      "\n",
      "- 유저 10의 110번 영화에 대한 평점 -\n",
      "실제 : 3.5, 예측 : 3.1\n",
      "\n"
     ]
    }
   ],
   "source": [
    "for uid, iid, real, pred, _ in pred_test:\n",
    "    if uid == 10:\n",
    "        print(f'- 유저 {uid}의 {iid}번 영화에 대한 평점 -')\n",
    "        print(f'실제 : {real}, 예측 : {round(pred,1)}\\n')"
   ]
  },
  {
   "cell_type": "markdown",
   "metadata": {
    "id": "ErybcU6PNXCa"
   },
   "source": [
    "### SVD 학습"
   ]
  },
  {
   "cell_type": "code",
   "execution_count": null,
   "metadata": {
    "id": "rYh6-lGkVQI4"
   },
   "outputs": [],
   "source": [
    "# SVD 모델 학습\n",
    "n = 10 # latent factor\n",
    "k = 10 # 영화를 몇개나 추천할지\n",
    "\n",
    "mf_model = SVD(n_factors=n) #Latent Factor N개로 측정\n",
    "mf_model.fit(trainset) #학습하기\n",
    "pred_test = mf_model.test(testset) # 각 유저별로 아직 안본 영화들의 평점 예측"
   ]
  },
  {
   "cell_type": "code",
   "execution_count": null,
   "metadata": {
    "colab": {
     "base_uri": "https://localhost:8080/"
    },
    "executionInfo": {
     "elapsed": 11842,
     "status": "ok",
     "timestamp": 1639036949487,
     "user": {
      "displayName": "김동영",
      "photoUrl": "https://lh3.googleusercontent.com/a/default-user=s64",
      "userId": "17835880286856113214"
     },
     "user_tz": -540
    },
    "id": "EfNky9EC6HEH",
    "outputId": "7da59edd-d882-453a-e224-443a4f5b7cbd"
   },
   "outputs": [
    {
     "name": "stdout",
     "output_type": "stream",
     "text": [
      "FCP:  0.6732\n",
      "RMSE: 0.8050\n",
      "MAP@10: 0.0201\n"
     ]
    }
   ],
   "source": [
    "# 학습\n",
    "n = 10 # latent factor\n",
    "k = 10 # 영화를 몇개나 추천할지\n",
    "\n",
    "mf_model = SVD(n_factors=n) #Latent Factor N개로 측정\n",
    "mf_model.fit(trainset) #학습하기\n",
    "pred_test = mf_model.test(testset) # 각 유저별로 아직 안본 영화들의 평점 예측\n",
    "accuracy.fcp(pred_test)\n",
    "accuracy.rmse(pred_test) #RMSE를 구해 평가\n",
    "#print(f'RMSE: {rmse_score}')\n",
    "pred_all = mf_model.test(test_data)\n",
    "map_score = round(get_map(k,pred_all),4)\n",
    "print(f'MAP@10: {map_score}')\n"
   ]
  },
  {
   "cell_type": "markdown",
   "metadata": {
    "id": "0GI1alsbMpcb"
   },
   "source": [
    "### 테스트 셋과 예측 비교 - SVD"
   ]
  },
  {
   "cell_type": "code",
   "execution_count": null,
   "metadata": {
    "colab": {
     "base_uri": "https://localhost:8080/"
    },
    "executionInfo": {
     "elapsed": 15,
     "status": "ok",
     "timestamp": 1639036949488,
     "user": {
      "displayName": "김동영",
      "photoUrl": "https://lh3.googleusercontent.com/a/default-user=s64",
      "userId": "17835880286856113214"
     },
     "user_tz": -540
    },
    "id": "sHNMi1kjNy1b",
    "outputId": "c6568af5-76e2-471c-a42d-e3a64b6c0d0d"
   },
   "outputs": [
    {
     "name": "stdout",
     "output_type": "stream",
     "text": [
      "- 유저 10의 18번 영화에 대한 평점 -\n",
      "실제 : 4.0, 예측 : 3.9\n",
      "\n",
      "- 유저 10의 20번 영화에 대한 평점 -\n",
      "실제 : 3.5, 예측 : 3.8\n",
      "\n",
      "- 유저 10의 88번 영화에 대한 평점 -\n",
      "실제 : 4.0, 예측 : 4.0\n",
      "\n",
      "- 유저 10의 110번 영화에 대한 평점 -\n",
      "실제 : 3.5, 예측 : 3.4\n",
      "\n"
     ]
    }
   ],
   "source": [
    "for uid, iid, real, pred, _ in pred_test:\n",
    "    if uid == 10:\n",
    "        print(f'- 유저 {uid}의 {iid}번 영화에 대한 평점 -')\n",
    "        print(f'실제 : {real}, 예측 : {round(pred,1)}\\n')"
   ]
  },
  {
   "cell_type": "markdown",
   "metadata": {
    "id": "IZt5-9CiNaC4"
   },
   "source": [
    "### 최적의 latent factor 찾기"
   ]
  },
  {
   "cell_type": "code",
   "execution_count": null,
   "metadata": {
    "colab": {
     "base_uri": "https://localhost:8080/"
    },
    "executionInfo": {
     "elapsed": 62674,
     "status": "ok",
     "timestamp": 1639036907835,
     "user": {
      "displayName": "김동영",
      "photoUrl": "https://lh3.googleusercontent.com/a/default-user=s64",
      "userId": "17835880286856113214"
     },
     "user_tz": -540
    },
    "id": "_SpRlrIEqoKc",
    "outputId": "65b06120-52d3-4833-ce80-6e731df3a5b0"
   },
   "outputs": [
    {
     "name": "stdout",
     "output_type": "stream",
     "text": [
      "CPU times: user 3 µs, sys: 1e+03 ns, total: 4 µs\n",
      "Wall time: 6.2 µs\n",
      "latent factor: 5\n",
      "FCP:  0.6679\n",
      "RMSE: 0.8067\n",
      "MAP@10: 0.0193\n",
      "------------------------------------\n",
      "latent factor: 10\n",
      "FCP:  0.6746\n",
      "RMSE: 0.8016\n",
      "MAP@10: 0.0222\n",
      "------------------------------------\n",
      "latent factor: 15\n",
      "FCP:  0.6688\n",
      "RMSE: 0.8045\n",
      "MAP@10: 0.0203\n",
      "------------------------------------\n",
      "latent factor: 20\n",
      "FCP:  0.6689\n",
      "RMSE: 0.8051\n",
      "MAP@10: 0.0225\n",
      "------------------------------------\n",
      "latent factor: 25\n",
      "FCP:  0.6686\n",
      "RMSE: 0.8052\n",
      "MAP@10: 0.0207\n",
      "------------------------------------\n",
      "searching n_factors is finish.\n"
     ]
    }
   ],
   "source": [
    "%time\n",
    "#Latent Factor 수를 조절하여 최상의 학습결과를 내는것을 찾음 -> 더많은 후보군\n",
    "#param_list = [x for x in range(5,100,5)] #Latent Factor 후보군\n",
    "param_list = range(5,30,5)\n",
    "fcp_list = []\n",
    "rmse_list = []\n",
    "map_list = []\n",
    "for n in param_list:    \n",
    "    train_start = time.time() #학습에 걸린 시간을 측정하기위함\n",
    "    print(f'latent factor: {n}')\n",
    "    mf_model = SVD(n_factors=n) #Latent Factor N개로 측정\n",
    "    mf_model.fit(trainset) #학습하기\n",
    "    \n",
    "    # 테스트 셋에서 평점을 얼마나 잘 예측했는지\n",
    "    pred_test = mf_model.test(testset) \n",
    "    fcp_list.append(accuracy.fcp(pred_test))\n",
    "    rmse_list.append(accuracy.rmse(pred_test)) #RMSE를 구해 평가\n",
    "\n",
    "    # 각 유저별로 아직 안본 영화들의 평점 예측\n",
    "    pred_all = mf_model.test(test_data) \n",
    "    map_score = round(get_map(k,pred_all),4) # MAP 점수 계산(k=10개 추천할때에)\n",
    "    map_list.append(map_score)  \n",
    "    print(f'MAP@10: {map_score}')\n",
    "    print(\"------------------------------------\")\n",
    "print(\"searching n_factors is finish.\")\n",
    "\n",
    "# #범위를 좁혀 했을때 15개가 성능이 제일 좋았다"
   ]
  },
  {
   "cell_type": "markdown",
   "metadata": {
    "id": "OEBSnvAZNccA"
   },
   "source": [
    "#### Latent Factor에 따른 평가 확인"
   ]
  },
  {
   "cell_type": "code",
   "execution_count": null,
   "metadata": {
    "colab": {
     "base_uri": "https://localhost:8080/",
     "height": 298
    },
    "executionInfo": {
     "elapsed": 36,
     "status": "ok",
     "timestamp": 1639022500124,
     "user": {
      "displayName": "김동영",
      "photoUrl": "https://lh3.googleusercontent.com/a/default-user=s64",
      "userId": "17835880286856113214"
     },
     "user_tz": -540
    },
    "id": "Pkm5KzQnI6AL",
    "outputId": "5e6391e2-bfbb-4321-96f2-98641859ac5a"
   },
   "outputs": [
    {
     "data": {
      "image/png": "[encoded data removed]",
      "text/plain": [
       "<Figure size 432x288 with 1 Axes>"
      ]
     },
     "metadata": {
      "needs_background": "light"
     },
     "output_type": "display_data"
    }
   ],
   "source": [
    "#위에 5~200개 중 5단위로 있는 Latent Factor들 중 가장 성능이 좋은것을 찾음 \n",
    "plt.plot(param_list, fcp_list) \n",
    "plt.title('FCP by n_factors of SVD')\n",
    "plt.ylabel('FCP', fontsize=12)\n",
    "plt.xlabel('n_factors', fontsize=12)\n",
    "plt.show()"
   ]
  },
  {
   "cell_type": "code",
   "execution_count": null,
   "metadata": {
    "colab": {
     "base_uri": "https://localhost:8080/",
     "height": 298
    },
    "executionInfo": {
     "elapsed": 808,
     "status": "ok",
     "timestamp": 1639022500900,
     "user": {
      "displayName": "김동영",
      "photoUrl": "https://lh3.googleusercontent.com/a/default-user=s64",
      "userId": "17835880286856113214"
     },
     "user_tz": -540
    },
    "id": "VYGOJW7Xrf9w",
    "outputId": "e3e361dd-8acc-495e-fff6-e6c0bc4cd3b2"
   },
   "outputs": [
    {
     "data": {
      "image/png": "[encoded data removed]",
      "text/plain": [
       "<Figure size 432x288 with 1 Axes>"
      ]
     },
     "metadata": {
      "needs_background": "light"
     },
     "output_type": "display_data"
    }
   ],
   "source": [
    "#위에 5~200개 중 5단위로 있는 Latent Factor들 중 가장 성능이 좋은것을 찾음 \n",
    "plt.plot(param_list, rmse_list) \n",
    "plt.title('RMSE by n_factors of SVD')\n",
    "plt.ylabel('RMSE', fontsize=12)\n",
    "plt.xlabel('n_factors', fontsize=12)\n",
    "plt.show()"
   ]
  },
  {
   "cell_type": "code",
   "execution_count": null,
   "metadata": {
    "colab": {
     "base_uri": "https://localhost:8080/",
     "height": 298
    },
    "executionInfo": {
     "elapsed": 13,
     "status": "ok",
     "timestamp": 1639022500901,
     "user": {
      "displayName": "김동영",
      "photoUrl": "https://lh3.googleusercontent.com/a/default-user=s64",
      "userId": "17835880286856113214"
     },
     "user_tz": -540
    },
    "id": "PfAQTzMSAJZa",
    "outputId": "eebfffa3-bf19-444d-ef04-df1e7b5ea409"
   },
   "outputs": [
    {
     "data": {
      "image/png": "[encoded data removed]",
      "text/plain": [
       "<Figure size 432x288 with 1 Axes>"
      ]
     },
     "metadata": {
      "needs_background": "light"
     },
     "output_type": "display_data"
    }
   ],
   "source": [
    "#위에 5~200개 중 5단위로 있는 Latent Factor들 중 가장 성능이 좋은것을 찾음 \n",
    "plt.plot(param_list, map_list) \n",
    "plt.title('MAP by n_factors of SVD')\n",
    "plt.ylabel('MAP@10', fontsize=12)\n",
    "plt.xlabel('n_factors', fontsize=12)\n",
    "plt.show()"
   ]
  },
  {
   "cell_type": "markdown",
   "metadata": {
    "id": "Hw3Jp8fhM_wR"
   },
   "source": [
    "## 시간순으로 데이터 나눠서 학습"
   ]
  },
  {
   "cell_type": "code",
   "execution_count": null,
   "metadata": {
    "id": "VlJx4IDTtKdF"
   },
   "outputs": [],
   "source": [
    "###################################################################################################\n",
    "#                               시간순으로 데이터를 나눠 학습해보기                               #\n",
    "###################################################################################################"
   ]
  },
  {
   "cell_type": "code",
   "execution_count": null,
   "metadata": {
    "colab": {
     "base_uri": "https://localhost:8080/",
     "height": 278
    },
    "executionInfo": {
     "elapsed": 711,
     "status": "ok",
     "timestamp": 1639022501603,
     "user": {
      "displayName": "김동영",
      "photoUrl": "https://lh3.googleusercontent.com/a/default-user=s64",
      "userId": "17835880286856113214"
     },
     "user_tz": -540
    },
    "id": "iaFIHVNzt3eZ",
    "outputId": "f606e21b-0380-42e9-e791-239e053210b1"
   },
   "outputs": [
    {
     "data": {
      "image/png": "[encoded data removed]",
      "text/plain": [
       "<Figure size 432x288 with 1 Axes>"
      ]
     },
     "metadata": {
      "needs_background": "light"
     },
     "output_type": "display_data"
    }
   ],
   "source": [
    "user_movie_df['timestamp'].hist(bins=100); #유져별 각 영화 시청 시간의 분포를 알아보기"
   ]
  },
  {
   "cell_type": "code",
   "execution_count": null,
   "metadata": {
    "colab": {
     "base_uri": "https://localhost:8080/"
    },
    "executionInfo": {
     "elapsed": 29,
     "status": "ok",
     "timestamp": 1639022501605,
     "user": {
      "displayName": "김동영",
      "photoUrl": "https://lh3.googleusercontent.com/a/default-user=s64",
      "userId": "17835880286856113214"
     },
     "user_tz": -540
    },
    "id": "ga95_fqTt6Yb",
    "outputId": "d17aaa03-0d47-41ab-e870-5232fb2c92e7"
   },
   "outputs": [
    {
     "data": {
      "text/plain": [
       "1533058781"
      ]
     },
     "execution_count": 174,
     "metadata": {},
     "output_type": "execute_result"
    }
   ],
   "source": [
    "# Quantile을 통해 전체 시간대 중 과거 80프로 미래 20프로로 나누는 특정 시간을 찾는다\n",
    "that_time = user_movie_df['timestamp'].quantile(q=0.8, interpolation='nearest')\n",
    "that_time"
   ]
  },
  {
   "cell_type": "code",
   "execution_count": null,
   "metadata": {
    "id": "Z73fQb5Augtp"
   },
   "outputs": [],
   "source": [
    "# 위에서 찾은 특정 시간으로 데이터를 나눈다\n",
    "# 데이터를 8대 2로 나누는 시간이므로\n",
    "# 전체데이터중 학습용 80프로 테스트용 20프로로 나뉜다\n",
    "past_df = user_movie_df[user_movie_df['timestamp']< that_time][['userId','movieId','rating']]\n",
    "future_df = user_movie_df[user_movie_df['timestamp'] >= that_time][['userId','movieId','rating']]\n",
    "\n",
    "#여기서 과거용 데이터를 기준으로 위에서 한것처럼 학습을 시키고\n",
    "#과거용 데이터에서 채워넣은 값들 (미래에 대한걸 예측한 값) 이랑 실제 미래값이랑 비교해본다."
   ]
  },
  {
   "cell_type": "code",
   "execution_count": null,
   "metadata": {
    "colab": {
     "base_uri": "https://localhost:8080/"
    },
    "executionInfo": {
     "elapsed": 23,
     "status": "ok",
     "timestamp": 1639022501608,
     "user": {
      "displayName": "김동영",
      "photoUrl": "https://lh3.googleusercontent.com/a/default-user=s64",
      "userId": "17835880286856113214"
     },
     "user_tz": -540
    },
    "id": "eeUHnPDguyTX",
    "outputId": "35586fc6-fd55-448d-a27b-df6028ba2f4a"
   },
   "outputs": [
    {
     "data": {
      "text/plain": [
       "(79999, 3)"
      ]
     },
     "execution_count": 176,
     "metadata": {},
     "output_type": "execute_result"
    }
   ],
   "source": [
    "past_df.shape #총 8만개의 시청 기록"
   ]
  },
  {
   "cell_type": "code",
   "execution_count": null,
   "metadata": {
    "colab": {
     "base_uri": "https://localhost:8080/"
    },
    "executionInfo": {
     "elapsed": 17,
     "status": "ok",
     "timestamp": 1639022501609,
     "user": {
      "displayName": "김동영",
      "photoUrl": "https://lh3.googleusercontent.com/a/default-user=s64",
      "userId": "17835880286856113214"
     },
     "user_tz": -540
    },
    "id": "RBtBkj1vuzB_",
    "outputId": "dcf3fa8e-0a78-4922-dae0-d8ca43b30ad7"
   },
   "outputs": [
    {
     "data": {
      "text/plain": [
       "(1579, 469)"
      ]
     },
     "execution_count": 177,
     "metadata": {},
     "output_type": "execute_result"
    }
   ],
   "source": [
    "len(past_df['userId'].unique()), len(future_df['userId'].unique()) #학습엔 547명의 유저, #테스트엔 147명의 유저"
   ]
  },
  {
   "cell_type": "code",
   "execution_count": null,
   "metadata": {
    "id": "8GFmM60AOKyF"
   },
   "outputs": [],
   "source": [
    "future_data = []\n",
    "for i in range(len(test)):\n",
    "    future_data.append((future_df['userId'].iloc[i], future_df['movieId'].iloc[i], future_df['rating'].iloc[i]))"
   ]
  },
  {
   "cell_type": "markdown",
   "metadata": {
    "id": "qQTAZlVWNd59"
   },
   "source": [
    "## 시간순으로 학습"
   ]
  },
  {
   "cell_type": "code",
   "execution_count": null,
   "metadata": {
    "colab": {
     "base_uri": "https://localhost:8080/"
    },
    "executionInfo": {
     "elapsed": 3965,
     "status": "ok",
     "timestamp": 1639022506031,
     "user": {
      "displayName": "김동영",
      "photoUrl": "https://lh3.googleusercontent.com/a/default-user=s64",
      "userId": "17835880286856113214"
     },
     "user_tz": -540
    },
    "id": "Fpe-Rz6hDBQk",
    "outputId": "3a485165-f196-4071-c1a9-ddaff8986647"
   },
   "outputs": [
    {
     "data": {
      "text/plain": [
       "<surprise.prediction_algorithms.matrix_factorization.SVD at 0x7fb0d2d3d210>"
      ]
     },
     "execution_count": 179,
     "metadata": {},
     "output_type": "execute_result"
    }
   ],
   "source": [
    "# 위 For문에서 얻은 최적의 Latent Factor의 수로 학습\n",
    "# 위에서 추출한 학습 데이터셋으로 SVD 모델 다시 학습\n",
    "data = Dataset.load_from_df(df = past_df, reader = reader) #과거 데이터를 불러오기\n",
    "train_data = data.build_full_trainset() #과거데이터에서 랜덤으로 학습할 것을 뽑음\n",
    "test_data = train_data.build_anti_testset() # anti dataset 생성 -> 윗줄코드 과거데이터에서 학습데이터를 뽑은걸 바탕으로 테스트데이터를 추출\n",
    "mf_model = SVD(n_factors = 50) ######################이전에 이 가장 학습성능이 좋아서 10으로 진행########################\n",
    "mf_model.fit(train_data)\n"
   ]
  },
  {
   "cell_type": "code",
   "execution_count": null,
   "metadata": {
    "id": "ZPRSdFcYxbvB"
   },
   "outputs": [],
   "source": [
    "future_predictions = mf_model.test(future_data) #과거데이터에서 뽑은 학습데이터로 학습한걸로 과거데이터에서 뽑은 테스트데이터를 적용시켜봄\n",
    "predictions = mf_model.test(test_data)"
   ]
  },
  {
   "cell_type": "code",
   "execution_count": null,
   "metadata": {
    "colab": {
     "base_uri": "https://localhost:8080/"
    },
    "executionInfo": {
     "elapsed": 20,
     "status": "ok",
     "timestamp": 1639022513429,
     "user": {
      "displayName": "김동영",
      "photoUrl": "https://lh3.googleusercontent.com/a/default-user=s64",
      "userId": "17835880286856113214"
     },
     "user_tz": -540
    },
    "id": "to3g535KReAz",
    "outputId": "4d8a560f-d095-4c64-8496-c6e73d74bc8d"
   },
   "outputs": [
    {
     "name": "stdout",
     "output_type": "stream",
     "text": [
      "- 유저 40의 581번 영화에 대한 평점 -\n",
      "실제 : 4.0, 예측 : 3.0\n",
      "\n",
      "- 유저 40의 441번 영화에 대한 평점 -\n",
      "실제 : 3.0, 예측 : 3.3\n",
      "\n",
      "- 유저 40의 442번 영화에 대한 평점 -\n",
      "실제 : 3.5, 예측 : 3.1\n",
      "\n",
      "- 유저 40의 439번 영화에 대한 평점 -\n",
      "실제 : 3.5, 예측 : 3.3\n",
      "\n",
      "- 유저 40의 571번 영화에 대한 평점 -\n",
      "실제 : 4.0, 예측 : 3.2\n",
      "\n"
     ]
    }
   ],
   "source": [
    "for uid, iid, real, pred, _ in future_predictions:\n",
    "    if uid ==40:\n",
    "        print(f'- 유저 {uid}의 {iid}번 영화에 대한 평점 -')\n",
    "        print(f'실제 : {real}, 예측 : {round(pred,1)}\\n')"
   ]
  },
  {
   "cell_type": "markdown",
   "metadata": {
    "id": "pxwNueS-DAIk"
   },
   "source": [
    "# MF - sklearn (SVD, SGD, ALS)"
   ]
  },
  {
   "cell_type": "markdown",
   "metadata": {
    "id": "1vCFn9Dxm9P7"
   },
   "source": [
    "## 학습 준비"
   ]
  },
  {
   "cell_type": "markdown",
   "metadata": {
    "id": "kwBQX0vEoXQX"
   },
   "source": [
    "### rating matrix 만들기"
   ]
  },
  {
   "cell_type": "code",
   "execution_count": null,
   "metadata": {
    "colab": {
     "base_uri": "https://localhost:8080/",
     "height": 391
    },
    "executionInfo": {
     "elapsed": 563,
     "status": "ok",
     "timestamp": 1639033113321,
     "user": {
      "displayName": "김동영",
      "photoUrl": "https://lh3.googleusercontent.com/a/default-user=s64",
      "userId": "17835880286856113214"
     },
     "user_tz": -540
    },
    "id": "fsh7ABBvo89A",
    "outputId": "8e5e5a84-6def-48f1-8326-c28011fc97d9"
   },
   "outputs": [
    {
     "data": {
      "text/html": [
       "<div>\n",
       "<style scoped>\n",
       "    .dataframe tbody tr th:only-of-type {\n",
       "        vertical-align: middle;\n",
       "    }\n",
       "\n",
       "    .dataframe tbody tr th {\n",
       "        vertical-align: top;\n",
       "    }\n",
       "\n",
       "    .dataframe thead th {\n",
       "        text-align: right;\n",
       "    }\n",
       "</style>\n",
       "<table border=\"1\" class=\"dataframe\">\n",
       "  <thead>\n",
       "    <tr style=\"text-align: right;\">\n",
       "      <th>title</th>\n",
       "      <th>10 Cloverfield Lane (2016)</th>\n",
       "      <th>12 Years a Slave (2013)</th>\n",
       "      <th>127 Hours (2010)</th>\n",
       "      <th>2 Guns (2013)</th>\n",
       "      <th>2012 (2009)</th>\n",
       "      <th>21 Jump Street (2012)</th>\n",
       "      <th>22 Jump Street (2014)</th>\n",
       "      <th>3 Idiots (2009)</th>\n",
       "      <th>300: Rise of an Empire (2014)</th>\n",
       "      <th>50/50 (2011)</th>\n",
       "      <th>A Million Ways to Die in the West (2014)</th>\n",
       "      <th>A Quiet Place (2018)</th>\n",
       "      <th>A-Team, The (2010)</th>\n",
       "      <th>About Time (2013)</th>\n",
       "      <th>Abraham Lincoln: Vampire Hunter (2012)</th>\n",
       "      <th>Adjustment Bureau, The (2011)</th>\n",
       "      <th>Adventures of Tintin, The (2011)</th>\n",
       "      <th>After Earth (2013)</th>\n",
       "      <th>Alice in Wonderland (2010)</th>\n",
       "      <th>Alien: Covenant (2017)</th>\n",
       "      <th>Amazing Spider-Man, The (2012)</th>\n",
       "      <th>American Hustle (2013)</th>\n",
       "      <th>American Reunion (American Pie 4) (2012)</th>\n",
       "      <th>American Sniper (2014)</th>\n",
       "      <th>American, The (2010)</th>\n",
       "      <th>Anchorman 2: The Legend Continues (2013)</th>\n",
       "      <th>Annihilation (2018)</th>\n",
       "      <th>Another Earth (2011)</th>\n",
       "      <th>Ant-Man (2015)</th>\n",
       "      <th>Ant-Man and the Wasp (2018)</th>\n",
       "      <th>Argo (2012)</th>\n",
       "      <th>Arrival (2016)</th>\n",
       "      <th>Atomic Blonde (2017)</th>\n",
       "      <th>Attack the Block (2011)</th>\n",
       "      <th>Avatar (2009)</th>\n",
       "      <th>Avengers, The (2012)</th>\n",
       "      <th>Avengers: Age of Ultron (2015)</th>\n",
       "      <th>Avengers: Infinity War - Part I (2018)</th>\n",
       "      <th>Avengers: Infinity War - Part II (2019)</th>\n",
       "      <th>Baby Driver (2017)</th>\n",
       "      <th>...</th>\n",
       "      <th>Untitled Spider-Man Reboot (2017)</th>\n",
       "      <th>Up in the Air (2009)</th>\n",
       "      <th>Upgrade (2018)</th>\n",
       "      <th>Valentine's Day (2010)</th>\n",
       "      <th>Valerian and the City of a Thousand Planets (2017)</th>\n",
       "      <th>Wall Street: Money Never Sleeps (2010)</th>\n",
       "      <th>War Dogs (2016)</th>\n",
       "      <th>War for the Planet of the Apes (2017)</th>\n",
       "      <th>Warcraft (2016)</th>\n",
       "      <th>Warm Bodies (2013)</th>\n",
       "      <th>Warrior (2011)</th>\n",
       "      <th>Way, Way Back, The (2013)</th>\n",
       "      <th>We Bought a Zoo (2011)</th>\n",
       "      <th>We Need to Talk About Kevin (2011)</th>\n",
       "      <th>We're the Millers (2013)</th>\n",
       "      <th>What We Do in the Shadows (2014)</th>\n",
       "      <th>Where the Wild Things Are (2009)</th>\n",
       "      <th>Whiplash (2013)</th>\n",
       "      <th>Whiplash (2014)</th>\n",
       "      <th>White House Down (2013)</th>\n",
       "      <th>Wild (2014)</th>\n",
       "      <th>Wild Tales (2014)</th>\n",
       "      <th>Win Win (2011)</th>\n",
       "      <th>Wind Rises, The (Kaze tachinu) (2013)</th>\n",
       "      <th>Wind River (2017)</th>\n",
       "      <th>Winter's Bone (2010)</th>\n",
       "      <th>Wolf of Wall Street, The (2013)</th>\n",
       "      <th>Wolverine, The (2013)</th>\n",
       "      <th>Wonder Woman (2017)</th>\n",
       "      <th>World War Z (2013)</th>\n",
       "      <th>World's End, The (2013)</th>\n",
       "      <th>Wreck-It Ralph (2012)</th>\n",
       "      <th>X-Men: Apocalypse (2016)</th>\n",
       "      <th>X-Men: Days of Future Past (2014)</th>\n",
       "      <th>X-Men: First Class (2011)</th>\n",
       "      <th>Your Name. (2016)</th>\n",
       "      <th>Youth in Revolt (2009)</th>\n",
       "      <th>Zero Dark Thirty (2012)</th>\n",
       "      <th>Zombieland (2009)</th>\n",
       "      <th>Zootopia (2016)</th>\n",
       "    </tr>\n",
       "    <tr>\n",
       "      <th>userId</th>\n",
       "      <th></th>\n",
       "      <th></th>\n",
       "      <th></th>\n",
       "      <th></th>\n",
       "      <th></th>\n",
       "      <th></th>\n",
       "      <th></th>\n",
       "      <th></th>\n",
       "      <th></th>\n",
       "      <th></th>\n",
       "      <th></th>\n",
       "      <th></th>\n",
       "      <th></th>\n",
       "      <th></th>\n",
       "      <th></th>\n",
       "      <th></th>\n",
       "      <th></th>\n",
       "      <th></th>\n",
       "      <th></th>\n",
       "      <th></th>\n",
       "      <th></th>\n",
       "      <th></th>\n",
       "      <th></th>\n",
       "      <th></th>\n",
       "      <th></th>\n",
       "      <th></th>\n",
       "      <th></th>\n",
       "      <th></th>\n",
       "      <th></th>\n",
       "      <th></th>\n",
       "      <th></th>\n",
       "      <th></th>\n",
       "      <th></th>\n",
       "      <th></th>\n",
       "      <th></th>\n",
       "      <th></th>\n",
       "      <th></th>\n",
       "      <th></th>\n",
       "      <th></th>\n",
       "      <th></th>\n",
       "      <th></th>\n",
       "      <th></th>\n",
       "      <th></th>\n",
       "      <th></th>\n",
       "      <th></th>\n",
       "      <th></th>\n",
       "      <th></th>\n",
       "      <th></th>\n",
       "      <th></th>\n",
       "      <th></th>\n",
       "      <th></th>\n",
       "      <th></th>\n",
       "      <th></th>\n",
       "      <th></th>\n",
       "      <th></th>\n",
       "      <th></th>\n",
       "      <th></th>\n",
       "      <th></th>\n",
       "      <th></th>\n",
       "      <th></th>\n",
       "      <th></th>\n",
       "      <th></th>\n",
       "      <th></th>\n",
       "      <th></th>\n",
       "      <th></th>\n",
       "      <th></th>\n",
       "      <th></th>\n",
       "      <th></th>\n",
       "      <th></th>\n",
       "      <th></th>\n",
       "      <th></th>\n",
       "      <th></th>\n",
       "      <th></th>\n",
       "      <th></th>\n",
       "      <th></th>\n",
       "      <th></th>\n",
       "      <th></th>\n",
       "      <th></th>\n",
       "      <th></th>\n",
       "      <th></th>\n",
       "      <th></th>\n",
       "    </tr>\n",
       "  </thead>\n",
       "  <tbody>\n",
       "    <tr>\n",
       "      <th>1</th>\n",
       "      <td>0.0</td>\n",
       "      <td>0.0</td>\n",
       "      <td>0.0</td>\n",
       "      <td>0.0</td>\n",
       "      <td>0.0</td>\n",
       "      <td>0.0</td>\n",
       "      <td>0.0</td>\n",
       "      <td>0.0</td>\n",
       "      <td>0.0</td>\n",
       "      <td>0.0</td>\n",
       "      <td>0.0</td>\n",
       "      <td>0.0</td>\n",
       "      <td>0.0</td>\n",
       "      <td>0.0</td>\n",
       "      <td>0.0</td>\n",
       "      <td>0.0</td>\n",
       "      <td>0.0</td>\n",
       "      <td>0.0</td>\n",
       "      <td>0.0</td>\n",
       "      <td>0.0</td>\n",
       "      <td>0.0</td>\n",
       "      <td>0.0</td>\n",
       "      <td>0.0</td>\n",
       "      <td>0.0</td>\n",
       "      <td>0.0</td>\n",
       "      <td>0.0</td>\n",
       "      <td>0.0</td>\n",
       "      <td>0.0</td>\n",
       "      <td>0.0</td>\n",
       "      <td>0.0</td>\n",
       "      <td>0.0</td>\n",
       "      <td>0.0</td>\n",
       "      <td>0.0</td>\n",
       "      <td>0.0</td>\n",
       "      <td>0.0</td>\n",
       "      <td>0.0</td>\n",
       "      <td>0.0</td>\n",
       "      <td>0.0</td>\n",
       "      <td>0.0</td>\n",
       "      <td>0.0</td>\n",
       "      <td>...</td>\n",
       "      <td>0.0</td>\n",
       "      <td>0.0</td>\n",
       "      <td>0.0</td>\n",
       "      <td>0.0</td>\n",
       "      <td>0.0</td>\n",
       "      <td>0.0</td>\n",
       "      <td>0.0</td>\n",
       "      <td>0.0</td>\n",
       "      <td>0.0</td>\n",
       "      <td>0.0</td>\n",
       "      <td>0.0</td>\n",
       "      <td>0.0</td>\n",
       "      <td>0.0</td>\n",
       "      <td>0.0</td>\n",
       "      <td>0.0</td>\n",
       "      <td>0.0</td>\n",
       "      <td>2.5</td>\n",
       "      <td>0.0</td>\n",
       "      <td>0.0</td>\n",
       "      <td>0.0</td>\n",
       "      <td>0.0</td>\n",
       "      <td>0.0</td>\n",
       "      <td>0.0</td>\n",
       "      <td>0.0</td>\n",
       "      <td>0.0</td>\n",
       "      <td>0.0</td>\n",
       "      <td>0.0</td>\n",
       "      <td>0.0</td>\n",
       "      <td>0.0</td>\n",
       "      <td>0.0</td>\n",
       "      <td>0.0</td>\n",
       "      <td>0.0</td>\n",
       "      <td>0.0</td>\n",
       "      <td>0.0</td>\n",
       "      <td>0.0</td>\n",
       "      <td>0.0</td>\n",
       "      <td>0.0</td>\n",
       "      <td>0.0</td>\n",
       "      <td>0.0</td>\n",
       "      <td>0.0</td>\n",
       "    </tr>\n",
       "    <tr>\n",
       "      <th>2</th>\n",
       "      <td>0.0</td>\n",
       "      <td>0.0</td>\n",
       "      <td>0.0</td>\n",
       "      <td>0.0</td>\n",
       "      <td>0.0</td>\n",
       "      <td>0.0</td>\n",
       "      <td>0.0</td>\n",
       "      <td>0.0</td>\n",
       "      <td>0.0</td>\n",
       "      <td>0.0</td>\n",
       "      <td>0.0</td>\n",
       "      <td>0.0</td>\n",
       "      <td>0.0</td>\n",
       "      <td>0.0</td>\n",
       "      <td>0.0</td>\n",
       "      <td>0.0</td>\n",
       "      <td>0.0</td>\n",
       "      <td>0.0</td>\n",
       "      <td>0.0</td>\n",
       "      <td>0.0</td>\n",
       "      <td>0.0</td>\n",
       "      <td>0.0</td>\n",
       "      <td>0.0</td>\n",
       "      <td>0.0</td>\n",
       "      <td>0.0</td>\n",
       "      <td>0.0</td>\n",
       "      <td>0.0</td>\n",
       "      <td>0.0</td>\n",
       "      <td>0.0</td>\n",
       "      <td>0.0</td>\n",
       "      <td>0.0</td>\n",
       "      <td>0.0</td>\n",
       "      <td>0.0</td>\n",
       "      <td>0.0</td>\n",
       "      <td>0.0</td>\n",
       "      <td>0.0</td>\n",
       "      <td>0.0</td>\n",
       "      <td>0.0</td>\n",
       "      <td>0.0</td>\n",
       "      <td>0.0</td>\n",
       "      <td>...</td>\n",
       "      <td>0.0</td>\n",
       "      <td>0.0</td>\n",
       "      <td>0.0</td>\n",
       "      <td>0.0</td>\n",
       "      <td>0.0</td>\n",
       "      <td>0.0</td>\n",
       "      <td>0.0</td>\n",
       "      <td>0.0</td>\n",
       "      <td>0.0</td>\n",
       "      <td>0.0</td>\n",
       "      <td>0.0</td>\n",
       "      <td>0.0</td>\n",
       "      <td>0.0</td>\n",
       "      <td>0.0</td>\n",
       "      <td>0.0</td>\n",
       "      <td>0.0</td>\n",
       "      <td>0.0</td>\n",
       "      <td>0.0</td>\n",
       "      <td>0.0</td>\n",
       "      <td>0.0</td>\n",
       "      <td>0.0</td>\n",
       "      <td>0.0</td>\n",
       "      <td>0.0</td>\n",
       "      <td>0.0</td>\n",
       "      <td>0.0</td>\n",
       "      <td>0.0</td>\n",
       "      <td>0.0</td>\n",
       "      <td>0.0</td>\n",
       "      <td>0.0</td>\n",
       "      <td>0.0</td>\n",
       "      <td>0.0</td>\n",
       "      <td>0.0</td>\n",
       "      <td>0.0</td>\n",
       "      <td>0.0</td>\n",
       "      <td>0.0</td>\n",
       "      <td>0.0</td>\n",
       "      <td>0.0</td>\n",
       "      <td>0.0</td>\n",
       "      <td>0.0</td>\n",
       "      <td>0.0</td>\n",
       "    </tr>\n",
       "    <tr>\n",
       "      <th>3</th>\n",
       "      <td>0.0</td>\n",
       "      <td>0.0</td>\n",
       "      <td>0.0</td>\n",
       "      <td>0.0</td>\n",
       "      <td>0.0</td>\n",
       "      <td>0.0</td>\n",
       "      <td>0.0</td>\n",
       "      <td>0.0</td>\n",
       "      <td>0.0</td>\n",
       "      <td>0.0</td>\n",
       "      <td>0.0</td>\n",
       "      <td>0.0</td>\n",
       "      <td>0.0</td>\n",
       "      <td>0.0</td>\n",
       "      <td>0.0</td>\n",
       "      <td>0.0</td>\n",
       "      <td>0.0</td>\n",
       "      <td>0.0</td>\n",
       "      <td>1.0</td>\n",
       "      <td>0.0</td>\n",
       "      <td>0.0</td>\n",
       "      <td>0.0</td>\n",
       "      <td>0.0</td>\n",
       "      <td>0.0</td>\n",
       "      <td>0.0</td>\n",
       "      <td>0.0</td>\n",
       "      <td>0.0</td>\n",
       "      <td>0.0</td>\n",
       "      <td>0.0</td>\n",
       "      <td>0.0</td>\n",
       "      <td>0.0</td>\n",
       "      <td>0.0</td>\n",
       "      <td>0.0</td>\n",
       "      <td>0.0</td>\n",
       "      <td>4.0</td>\n",
       "      <td>0.0</td>\n",
       "      <td>0.0</td>\n",
       "      <td>0.0</td>\n",
       "      <td>0.0</td>\n",
       "      <td>0.0</td>\n",
       "      <td>...</td>\n",
       "      <td>0.0</td>\n",
       "      <td>0.0</td>\n",
       "      <td>0.0</td>\n",
       "      <td>0.0</td>\n",
       "      <td>0.0</td>\n",
       "      <td>0.0</td>\n",
       "      <td>0.0</td>\n",
       "      <td>0.0</td>\n",
       "      <td>0.0</td>\n",
       "      <td>0.0</td>\n",
       "      <td>0.0</td>\n",
       "      <td>0.0</td>\n",
       "      <td>0.0</td>\n",
       "      <td>0.0</td>\n",
       "      <td>0.0</td>\n",
       "      <td>0.0</td>\n",
       "      <td>0.0</td>\n",
       "      <td>0.0</td>\n",
       "      <td>0.0</td>\n",
       "      <td>0.0</td>\n",
       "      <td>0.0</td>\n",
       "      <td>0.0</td>\n",
       "      <td>0.0</td>\n",
       "      <td>0.0</td>\n",
       "      <td>0.0</td>\n",
       "      <td>0.0</td>\n",
       "      <td>0.0</td>\n",
       "      <td>0.0</td>\n",
       "      <td>0.0</td>\n",
       "      <td>0.0</td>\n",
       "      <td>0.0</td>\n",
       "      <td>0.0</td>\n",
       "      <td>0.0</td>\n",
       "      <td>0.0</td>\n",
       "      <td>0.0</td>\n",
       "      <td>0.0</td>\n",
       "      <td>0.0</td>\n",
       "      <td>0.0</td>\n",
       "      <td>0.0</td>\n",
       "      <td>0.0</td>\n",
       "    </tr>\n",
       "    <tr>\n",
       "      <th>4</th>\n",
       "      <td>0.0</td>\n",
       "      <td>0.0</td>\n",
       "      <td>0.0</td>\n",
       "      <td>0.0</td>\n",
       "      <td>0.0</td>\n",
       "      <td>0.0</td>\n",
       "      <td>0.0</td>\n",
       "      <td>0.0</td>\n",
       "      <td>0.0</td>\n",
       "      <td>0.0</td>\n",
       "      <td>0.0</td>\n",
       "      <td>0.0</td>\n",
       "      <td>0.0</td>\n",
       "      <td>0.0</td>\n",
       "      <td>0.0</td>\n",
       "      <td>0.0</td>\n",
       "      <td>0.0</td>\n",
       "      <td>0.0</td>\n",
       "      <td>0.0</td>\n",
       "      <td>0.0</td>\n",
       "      <td>0.0</td>\n",
       "      <td>0.0</td>\n",
       "      <td>0.0</td>\n",
       "      <td>0.0</td>\n",
       "      <td>0.0</td>\n",
       "      <td>0.0</td>\n",
       "      <td>0.0</td>\n",
       "      <td>0.0</td>\n",
       "      <td>0.0</td>\n",
       "      <td>0.0</td>\n",
       "      <td>0.0</td>\n",
       "      <td>4.0</td>\n",
       "      <td>0.0</td>\n",
       "      <td>0.0</td>\n",
       "      <td>5.0</td>\n",
       "      <td>0.0</td>\n",
       "      <td>0.0</td>\n",
       "      <td>0.0</td>\n",
       "      <td>0.0</td>\n",
       "      <td>0.0</td>\n",
       "      <td>...</td>\n",
       "      <td>0.0</td>\n",
       "      <td>0.0</td>\n",
       "      <td>0.0</td>\n",
       "      <td>0.0</td>\n",
       "      <td>0.0</td>\n",
       "      <td>0.0</td>\n",
       "      <td>0.0</td>\n",
       "      <td>0.0</td>\n",
       "      <td>0.0</td>\n",
       "      <td>0.0</td>\n",
       "      <td>0.0</td>\n",
       "      <td>0.0</td>\n",
       "      <td>0.0</td>\n",
       "      <td>0.0</td>\n",
       "      <td>0.0</td>\n",
       "      <td>0.0</td>\n",
       "      <td>0.0</td>\n",
       "      <td>0.0</td>\n",
       "      <td>0.0</td>\n",
       "      <td>0.0</td>\n",
       "      <td>0.0</td>\n",
       "      <td>0.0</td>\n",
       "      <td>0.0</td>\n",
       "      <td>0.0</td>\n",
       "      <td>0.0</td>\n",
       "      <td>0.0</td>\n",
       "      <td>4.5</td>\n",
       "      <td>0.0</td>\n",
       "      <td>0.0</td>\n",
       "      <td>2.0</td>\n",
       "      <td>0.0</td>\n",
       "      <td>0.0</td>\n",
       "      <td>0.0</td>\n",
       "      <td>0.0</td>\n",
       "      <td>0.0</td>\n",
       "      <td>0.0</td>\n",
       "      <td>0.0</td>\n",
       "      <td>0.0</td>\n",
       "      <td>0.0</td>\n",
       "      <td>0.0</td>\n",
       "    </tr>\n",
       "    <tr>\n",
       "      <th>5</th>\n",
       "      <td>0.0</td>\n",
       "      <td>0.0</td>\n",
       "      <td>0.0</td>\n",
       "      <td>0.0</td>\n",
       "      <td>0.0</td>\n",
       "      <td>0.0</td>\n",
       "      <td>0.0</td>\n",
       "      <td>0.0</td>\n",
       "      <td>0.0</td>\n",
       "      <td>0.0</td>\n",
       "      <td>0.0</td>\n",
       "      <td>0.0</td>\n",
       "      <td>0.0</td>\n",
       "      <td>0.0</td>\n",
       "      <td>0.0</td>\n",
       "      <td>0.0</td>\n",
       "      <td>0.0</td>\n",
       "      <td>0.0</td>\n",
       "      <td>0.0</td>\n",
       "      <td>0.0</td>\n",
       "      <td>0.0</td>\n",
       "      <td>0.0</td>\n",
       "      <td>0.0</td>\n",
       "      <td>0.0</td>\n",
       "      <td>0.0</td>\n",
       "      <td>0.0</td>\n",
       "      <td>0.0</td>\n",
       "      <td>0.0</td>\n",
       "      <td>4.5</td>\n",
       "      <td>0.0</td>\n",
       "      <td>0.0</td>\n",
       "      <td>0.0</td>\n",
       "      <td>0.0</td>\n",
       "      <td>0.0</td>\n",
       "      <td>3.0</td>\n",
       "      <td>0.0</td>\n",
       "      <td>4.5</td>\n",
       "      <td>0.0</td>\n",
       "      <td>0.0</td>\n",
       "      <td>0.0</td>\n",
       "      <td>...</td>\n",
       "      <td>0.0</td>\n",
       "      <td>0.0</td>\n",
       "      <td>0.0</td>\n",
       "      <td>0.0</td>\n",
       "      <td>0.0</td>\n",
       "      <td>0.0</td>\n",
       "      <td>0.0</td>\n",
       "      <td>0.0</td>\n",
       "      <td>0.0</td>\n",
       "      <td>0.0</td>\n",
       "      <td>0.0</td>\n",
       "      <td>0.0</td>\n",
       "      <td>0.0</td>\n",
       "      <td>0.0</td>\n",
       "      <td>0.0</td>\n",
       "      <td>0.0</td>\n",
       "      <td>0.0</td>\n",
       "      <td>0.0</td>\n",
       "      <td>0.0</td>\n",
       "      <td>0.0</td>\n",
       "      <td>0.0</td>\n",
       "      <td>0.0</td>\n",
       "      <td>0.0</td>\n",
       "      <td>0.0</td>\n",
       "      <td>0.0</td>\n",
       "      <td>0.0</td>\n",
       "      <td>0.0</td>\n",
       "      <td>4.5</td>\n",
       "      <td>0.0</td>\n",
       "      <td>0.0</td>\n",
       "      <td>0.0</td>\n",
       "      <td>4.5</td>\n",
       "      <td>0.0</td>\n",
       "      <td>4.0</td>\n",
       "      <td>0.0</td>\n",
       "      <td>0.0</td>\n",
       "      <td>0.0</td>\n",
       "      <td>0.0</td>\n",
       "      <td>0.0</td>\n",
       "      <td>4.5</td>\n",
       "    </tr>\n",
       "  </tbody>\n",
       "</table>\n",
       "<p>5 rows × 581 columns</p>\n",
       "</div>"
      ],
      "text/plain": [
       "title   10 Cloverfield Lane (2016)  ...  Zootopia (2016)\n",
       "userId                              ...                 \n",
       "1                              0.0  ...              0.0\n",
       "2                              0.0  ...              0.0\n",
       "3                              0.0  ...              0.0\n",
       "4                              0.0  ...              0.0\n",
       "5                              0.0  ...              4.5\n",
       "\n",
       "[5 rows x 581 columns]"
      ]
     },
     "execution_count": 385,
     "metadata": {},
     "output_type": "execute_result"
    }
   ],
   "source": [
    "# user - movie 데이터프레임 생성\n",
    "user_movie_rating = train.pivot_table('rating', index = 'userId', columns='title').fillna(0)\n",
    "user_movie_rating.head()"
   ]
  },
  {
   "cell_type": "code",
   "execution_count": null,
   "metadata": {
    "colab": {
     "base_uri": "https://localhost:8080/"
    },
    "executionInfo": {
     "elapsed": 2,
     "status": "ok",
     "timestamp": 1639033113937,
     "user": {
      "displayName": "김동영",
      "photoUrl": "https://lh3.googleusercontent.com/a/default-user=s64",
      "userId": "17835880286856113214"
     },
     "user_tz": -540
    },
    "id": "_G0oG1oZpNlf",
    "outputId": "011205e6-5ec1-4ae8-fca6-f6cbfa669698"
   },
   "outputs": [
    {
     "data": {
      "text/plain": [
       "(1788, 581)"
      ]
     },
     "execution_count": 386,
     "metadata": {},
     "output_type": "execute_result"
    }
   ],
   "source": [
    "# user - movie 데이터 프레임을 행렬로 변환\n",
    "rating_matrix = user_movie_rating.values\n",
    "rating_matrix.shape"
   ]
  },
  {
   "cell_type": "markdown",
   "metadata": {
    "id": "UEzPGXgL2qST"
   },
   "source": [
    "### id에 해당하는 인덱스 찾는 딕셔너리 생성"
   ]
  },
  {
   "cell_type": "code",
   "execution_count": null,
   "metadata": {
    "id": "ENlaX186wlDv"
   },
   "outputs": [],
   "source": [
    "user2idx = {}\n",
    "for i, l in enumerate(train['userId'].unique()):\n",
    "    user2idx[l] = i\n",
    "    \n",
    "movie2idx = {}\n",
    "for i, l in enumerate(train['movieId'].unique()):\n",
    "    movie2idx[l] = i\n",
    "idx2user = {i: user for user, i in user2idx.items()}\n",
    "idx2movie = {i: item for item, i in movie2idx.items()}"
   ]
  },
  {
   "cell_type": "markdown",
   "metadata": {
    "id": "EqHdzVGPoibM"
   },
   "source": [
    "## SVD"
   ]
  },
  {
   "cell_type": "markdown",
   "metadata": {
    "id": "bvIlJACkQloG"
   },
   "source": [
    "- 학습 진행"
   ]
  },
  {
   "cell_type": "code",
   "execution_count": null,
   "metadata": {
    "id": "bI76xTvqq4Ba"
   },
   "outputs": [],
   "source": [
    "from sklearn.decomposition import TruncatedSVD\n",
    "from scipy.sparse.linalg import svds\n",
    "\n",
    "SVD_sk = TruncatedSVD(n_components=12)"
   ]
  },
  {
   "cell_type": "markdown",
   "metadata": {
    "id": "jxYDrs2ORD_C"
   },
   "source": [
    "- 다른 방식들과 통일을 위해 matrix 생성, 저장"
   ]
  },
  {
   "cell_type": "code",
   "execution_count": null,
   "metadata": {
    "id": "LSMq52AcRMq7"
   },
   "outputs": [],
   "source": [
    "left = SVD_sk.fit_transform(rating_matrix)\n",
    "right = SVD_sk.components_\n",
    "sing = np.diag(SVD_sk.explained_variance_)"
   ]
  },
  {
   "cell_type": "code",
   "execution_count": null,
   "metadata": {
    "colab": {
     "base_uri": "https://localhost:8080/"
    },
    "executionInfo": {
     "elapsed": 3,
     "status": "ok",
     "timestamp": 1639033116718,
     "user": {
      "displayName": "김동영",
      "photoUrl": "https://lh3.googleusercontent.com/a/default-user=s64",
      "userId": "17835880286856113214"
     },
     "user_tz": -540
    },
    "id": "NNMDvht0_lHU",
    "outputId": "f009e2fc-79ba-498e-bc9e-aff3e7cf6f09"
   },
   "outputs": [
    {
     "name": "stdout",
     "output_type": "stream",
     "text": [
      "left : (1788, 12), sing : (12, 12),  right : (12, 581)\n"
     ]
    }
   ],
   "source": [
    "print(f'left : {left.shape}, sing : {sing.shape},  right : {right.shape}')"
   ]
  },
  {
   "cell_type": "code",
   "execution_count": null,
   "metadata": {
    "colab": {
     "base_uri": "https://localhost:8080/"
    },
    "executionInfo": {
     "elapsed": 3,
     "status": "ok",
     "timestamp": 1639033117316,
     "user": {
      "displayName": "김동영",
      "photoUrl": "https://lh3.googleusercontent.com/a/default-user=s64",
      "userId": "17835880286856113214"
     },
     "user_tz": -540
    },
    "id": "2bhv03yT_nY0",
    "outputId": "91114494-4279-4676-ca05-b33628a398d0"
   },
   "outputs": [
    {
     "data": {
      "text/plain": [
       "(1788, 581)"
      ]
     },
     "execution_count": 391,
     "metadata": {},
     "output_type": "execute_result"
    }
   ],
   "source": [
    "svd_matrix = left.dot(sing).dot(right)\n",
    "svd_matrix.shape"
   ]
  },
  {
   "cell_type": "code",
   "execution_count": null,
   "metadata": {
    "id": "Q2y13IIKQt3o"
   },
   "outputs": [],
   "source": [
    "# 모델 저장\n",
    "# path = ''\n",
    "# np.save(path + 'svd', svd_matrix)"
   ]
  },
  {
   "cell_type": "markdown",
   "metadata": {
    "id": "FqV92Avj2neb"
   },
   "source": [
    "## SGD"
   ]
  },
  {
   "cell_type": "markdown",
   "metadata": {
    "id": "hZt45oaSpaXh"
   },
   "source": [
    "### SGD 함수 정의\n",
    "\n"
   ]
  },
  {
   "cell_type": "code",
   "execution_count": null,
   "metadata": {
    "id": "aMlkmrTOrhiB"
   },
   "outputs": [],
   "source": [
    "from tqdm import tqdm_notebook as tqdm\n",
    "\n",
    "# Base code : https://yamalab.tistory.com/92\n",
    "class MatrixFactorization():\n",
    "    def __init__(self, R, k, learning_rate, reg_param, epochs, verbose=False):\n",
    "        \"\"\"\n",
    "        :param R: rating matrix\n",
    "        :param k: latent parameter\n",
    "        :param learning_rate: alpha on weight update\n",
    "        :param reg_param: beta on weight update\n",
    "        :param epochs: training epochs\n",
    "        :param verbose: print status\n",
    "        \"\"\"\n",
    "        self._R = R\n",
    "        self._num_users, self._num_items = R.shape\n",
    "        self._k = k\n",
    "        self._learning_rate = learning_rate\n",
    "        self._reg_param = reg_param\n",
    "        self._epochs = epochs\n",
    "        self._verbose = verbose\n",
    "\n",
    "\n",
    "    def fit(self):\n",
    "        \"\"\"\n",
    "        training Matrix Factorization : Update matrix latent weight and bias\n",
    "\n",
    "        참고: self._b에 대한 설명\n",
    "        - global bias: input R에서 평가가 매겨진 rating의 평균값을 global bias로 사용\n",
    "        - 정규화 기능. 최종 rating에 음수가 들어가는 것 대신 latent feature에 음수가 포함되도록 해줌.\n",
    "\n",
    "        :return: training_process\n",
    "        \"\"\"\n",
    "\n",
    "        # init latent features\n",
    "        self._P = np.random.normal(size=(self._num_users, self._k))\n",
    "        self._Q = np.random.normal(size=(self._num_items, self._k))\n",
    "\n",
    "        # init biases\n",
    "        self._b_P = np.zeros(self._num_users)\n",
    "        self._b_Q = np.zeros(self._num_items)\n",
    "        self._b = np.mean(self._R[np.where(self._R != 0)])\n",
    "\n",
    "        # train while epochs\n",
    "        self._training_process = []\n",
    "        for epoch in range(self._epochs):\n",
    "            # rating이 존재하는 index를 기준으로 training\n",
    "            xi, yi = self._R.nonzero()\n",
    "            for i, j in zip(xi, yi):\n",
    "                self.gradient_descent(i, j, self._R[i, j])\n",
    "            cost = self.cost()\n",
    "            self._training_process.append((epoch, cost))\n",
    "\n",
    "            # print status\n",
    "            if self._verbose == True and ((epoch + 1) % 10 == 0):\n",
    "                print(\"Iteration: %d ; cost = %.4f\" % (epoch + 1, cost))\n",
    "\n",
    "\n",
    "    def cost(self):\n",
    "        \"\"\"\n",
    "        compute root mean square error\n",
    "        :return: rmse cost\n",
    "        \"\"\"\n",
    "\n",
    "        # xi, yi: R[xi, yi]는 nonzero인 value를 의미한다.\n",
    "        # 참고: http://codepractice.tistory.com/90\n",
    "        xi, yi = self._R.nonzero()\n",
    "        # predicted = self.get_complete_matrix()\n",
    "        cost = 0\n",
    "        for x, y in zip(xi, yi):\n",
    "            cost += pow(self._R[x, y] - self.get_prediction(x, y), 2)\n",
    "        return np.sqrt(cost/len(xi))\n",
    "\n",
    "\n",
    "    def gradient(self, error, i, j):\n",
    "        \"\"\"\n",
    "        gradient of latent feature for GD\n",
    "\n",
    "        :param error: rating - prediction error\n",
    "        :param i: user index\n",
    "        :param j: item index\n",
    "        :return: gradient of latent feature tuple\n",
    "        \"\"\"\n",
    "\n",
    "        dp = (error * self._Q[j, :]) - (self._reg_param * self._P[i, :])\n",
    "        dq = (error * self._P[i, :]) - (self._reg_param * self._Q[j, :])\n",
    "        return dp, dq\n",
    "\n",
    "\n",
    "    def gradient_descent(self, i, j, rating):\n",
    "        \"\"\"\n",
    "        graident descent function\n",
    "\n",
    "        :param i: user index of matrix\n",
    "        :param j: item index of matrix\n",
    "        :param rating: rating of (i,j)\n",
    "        \"\"\"\n",
    "\n",
    "        # get error\n",
    "        prediction = self.get_prediction(i, j)\n",
    "        error = rating - prediction\n",
    "\n",
    "        # update biases\n",
    "        self._b_P[i] += self._learning_rate * (error - self._reg_param * self._b_P[i])\n",
    "        self._b_Q[j] += self._learning_rate * (error - self._reg_param * self._b_Q[j])\n",
    "\n",
    "        # update latent feature\n",
    "        dp, dq = self.gradient(error, i, j)\n",
    "        self._P[i, :] += self._learning_rate * dp\n",
    "        self._Q[j, :] += self._learning_rate * dq\n",
    "\n",
    "\n",
    "    def get_prediction(self, i, j):\n",
    "        \"\"\"\n",
    "        get predicted rating: user_i, item_j\n",
    "        :return: prediction of r_ij\n",
    "        \"\"\"\n",
    "        return self._b + self._b_P[i] + self._b_Q[j] + self._P[i, :].dot(self._Q[j, :].T)\n",
    "\n",
    "\n",
    "    def get_complete_matrix(self):\n",
    "        \"\"\"\n",
    "        computer complete matrix PXQ + P.bias + Q.bias + global bias\n",
    "\n",
    "        - PXQ 행렬에 b_P[:, np.newaxis]를 더하는 것은 각 열마다 bias를 더해주는 것\n",
    "        - b_Q[np.newaxis:, ]를 더하는 것은 각 행마다 bias를 더해주는 것\n",
    "        - b를 더하는 것은 각 element마다 bias를 더해주는 것\n",
    "\n",
    "        - newaxis: 차원을 추가해줌. 1차원인 Latent들로 2차원의 R에 행/열 단위 연산을 해주기위해 차원을 추가하는 것.\n",
    "\n",
    "        :return: complete matrix R^\n",
    "        \"\"\"\n",
    "        return self._b + self._b_P[:, np.newaxis] + self._b_Q[np.newaxis:, ] + self._P.dot(self._Q.T)"
   ]
  },
  {
   "cell_type": "markdown",
   "metadata": {
    "id": "0GNo-MbU2iUx"
   },
   "source": [
    "### 학습"
   ]
  },
  {
   "cell_type": "markdown",
   "metadata": {
    "id": "gViwQbPA2yO5"
   },
   "source": [
    "### rating matrix를 sparse matrix로"
   ]
  },
  {
   "cell_type": "code",
   "execution_count": null,
   "metadata": {
    "id": "2lIyQ9NZwwNQ"
   },
   "outputs": [],
   "source": [
    "data = train[['userId', 'movieId']]#.reset_index(drop=True)\n",
    "useridx = data['useridx'] = train['userId'].apply(lambda x: user2idx[x]).values\n",
    "movieidx = data['movieId'] = train['movieId'].apply(lambda x: movie2idx[x]).values\n",
    "rating = train['rating']\n",
    "\n",
    "rating_sparse = scipy.sparse.csr_matrix((rating, (useridx, movieidx)), shape=(len(set(useridx)), len(set(movieidx))))\n",
    "\n",
    "rating_matrix = rating_sparse.toarray()"
   ]
  },
  {
   "cell_type": "markdown",
   "metadata": {
    "id": "mUcSlSqz91Qz"
   },
   "source": [
    "### SGD 학습"
   ]
  },
  {
   "cell_type": "code",
   "execution_count": null,
   "metadata": {
    "colab": {
     "base_uri": "https://localhost:8080/"
    },
    "executionInfo": {
     "elapsed": 261603,
     "status": "ok",
     "timestamp": 1639035004238,
     "user": {
      "displayName": "김동영",
      "photoUrl": "https://lh3.googleusercontent.com/a/default-user=s64",
      "userId": "17835880286856113214"
     },
     "user_tz": -540
    },
    "id": "Yb4-4r4UwlIq",
    "outputId": "4e0f546b-14d8-4146-ea39-7f3c024761ca"
   },
   "outputs": [
    {
     "name": "stdout",
     "output_type": "stream",
     "text": [
      "Iteration: 10 ; cost = 0.7320\n",
      "Iteration: 20 ; cost = 0.7118\n",
      "Iteration: 30 ; cost = 0.7071\n",
      "Iteration: 40 ; cost = 0.7042\n",
      "Iteration: 50 ; cost = 0.7027\n",
      "Iteration: 60 ; cost = 0.7019\n",
      "Iteration: 70 ; cost = 0.7016\n",
      "Iteration: 80 ; cost = 0.7015\n",
      "Iteration: 90 ; cost = 0.7014\n",
      "Iteration: 100 ; cost = 0.7013\n",
      "CPU times: user 4min 24s, sys: 23.4 s, total: 4min 47s\n",
      "Wall time: 4min 21s\n"
     ]
    }
   ],
   "source": [
    "%%time\n",
    "factorizer = MatrixFactorization(rating_matrix, k = 10, learning_rate=0.1, reg_param=0.1, epochs=100, verbose=True)\n",
    "factorizer.fit()"
   ]
  },
  {
   "cell_type": "markdown",
   "metadata": {
    "id": "2YacC8CGQ8HR"
   },
   "source": [
    "- 다른 방식들과 통일을 위해 matrix 생성, 저장"
   ]
  },
  {
   "cell_type": "code",
   "execution_count": null,
   "metadata": {
    "colab": {
     "base_uri": "https://localhost:8080/"
    },
    "executionInfo": {
     "elapsed": 376,
     "status": "ok",
     "timestamp": 1639035012348,
     "user": {
      "displayName": "김동영",
      "photoUrl": "https://lh3.googleusercontent.com/a/default-user=s64",
      "userId": "17835880286856113214"
     },
     "user_tz": -540
    },
    "id": "oNKTl3TJxPH8",
    "outputId": "4527d6a2-e3f4-4830-db52-b183d41d2491"
   },
   "outputs": [
    {
     "data": {
      "text/plain": [
       "(1788, 581)"
      ]
     },
     "execution_count": 492,
     "metadata": {},
     "output_type": "execute_result"
    }
   ],
   "source": [
    "sgd_matrix = factorizer.get_complete_matrix()\n",
    "sgd_matrix.shape"
   ]
  },
  {
   "cell_type": "code",
   "execution_count": null,
   "metadata": {
    "id": "3WVx8VjZEqwV"
   },
   "outputs": [],
   "source": [
    "# 모델 저장\n",
    "# np.save('코드/sgd', sgd_matrix)"
   ]
  },
  {
   "cell_type": "markdown",
   "metadata": {
    "id": "ek0eo0gsIy_v"
   },
   "source": [
    "## ALS"
   ]
  },
  {
   "cell_type": "code",
   "execution_count": null,
   "metadata": {
    "colab": {
     "base_uri": "https://localhost:8080/"
    },
    "executionInfo": {
     "elapsed": 3267,
     "status": "ok",
     "timestamp": 1639035017531,
     "user": {
      "displayName": "김동영",
      "photoUrl": "https://lh3.googleusercontent.com/a/default-user=s64",
      "userId": "17835880286856113214"
     },
     "user_tz": -540
    },
    "id": "SFiHcwr-EMoq",
    "outputId": "88bd2e95-1a21-4c7d-d4fd-9da64145db40"
   },
   "outputs": [
    {
     "name": "stdout",
     "output_type": "stream",
     "text": [
      "Requirement already satisfied: implicit in /usr/local/lib/python3.7/dist-packages (0.4.8)\n",
      "Requirement already satisfied: numpy in /usr/local/lib/python3.7/dist-packages (from implicit) (1.19.5)\n",
      "Requirement already satisfied: tqdm>=4.27 in /usr/local/lib/python3.7/dist-packages (from implicit) (4.62.3)\n",
      "Requirement already satisfied: scipy>=0.16 in /usr/local/lib/python3.7/dist-packages (from implicit) (1.4.1)\n"
     ]
    }
   ],
   "source": [
    "!pip install implicit"
   ]
  },
  {
   "cell_type": "code",
   "execution_count": null,
   "metadata": {
    "colab": {
     "base_uri": "https://localhost:8080/",
     "height": 49,
     "referenced_widgets": [
      "9bde3d9f218f4583a024e2142105517d",
      "63cf33cb9b6e43bcb5c01fe3269d8d87",
      "4beadf5a6fdd4b6f9c2618a4375c371b",
      "ac29cefeffb247b39d821ccf94f34282",
      "7c317d9df072473880d926abec5f5e20",
      "50322b77f3c44702adb7830f4c76a154",
      "a54235b8e4904b6e84a497e70a0f4c03",
      "11f2f97405204c959af3287b9f544010",
      "e140a3226b27434c9b601c69755bf67f",
      "930633f85df94a5d8d2fc906b3f05593",
      "f5e8d68098c94afd8f8d6af167b20164"
     ]
    },
    "executionInfo": {
     "elapsed": 18563,
     "status": "ok",
     "timestamp": 1639035037278,
     "user": {
      "displayName": "김동영",
      "photoUrl": "https://lh3.googleusercontent.com/a/default-user=s64",
      "userId": "17835880286856113214"
     },
     "user_tz": -540
    },
    "id": "R6Q-HT8gk5cg",
    "outputId": "8a4362f3-8f5c-4ff3-861d-0f4aaa3cedb6"
   },
   "outputs": [
    {
     "data": {
      "application/vnd.jupyter.widget-view+json": {
       "model_id": "9bde3d9f218f4583a024e2142105517d",
       "version_major": 2,
       "version_minor": 0
      },
      "text/plain": [
       "  0%|          | 0/100 [00:00<?, ?it/s]"
      ]
     },
     "metadata": {},
     "output_type": "display_data"
    }
   ],
   "source": [
    "from implicit.evaluation import  *\n",
    "from implicit.als import AlternatingLeastSquares as ALS\n",
    "from implicit.bpr import BayesianPersonalizedRanking as BPR\n",
    "\n",
    "als_model = ALS(factors=10, regularization=0.1, iterations = 100, use_gpu=False)\n",
    "als_model.fit(rating_sparse.T)"
   ]
  },
  {
   "cell_type": "markdown",
   "metadata": {
    "id": "td_ICi1BQ_cp"
   },
   "source": [
    "- 다른 방식들과 통일을 위해 matrix 생성, 저장"
   ]
  },
  {
   "cell_type": "code",
   "execution_count": null,
   "metadata": {
    "id": "ZExKjZAxvvd_"
   },
   "outputs": [],
   "source": [
    "item_factor = als_model.item_factors\n",
    "user_factor = als_model.user_factors"
   ]
  },
  {
   "cell_type": "code",
   "execution_count": null,
   "metadata": {
    "colab": {
     "base_uri": "https://localhost:8080/"
    },
    "executionInfo": {
     "elapsed": 28,
     "status": "ok",
     "timestamp": 1639035037279,
     "user": {
      "displayName": "김동영",
      "photoUrl": "https://lh3.googleusercontent.com/a/default-user=s64",
      "userId": "17835880286856113214"
     },
     "user_tz": -540
    },
    "id": "Vb2SlnOO-hsV",
    "outputId": "3f0efb21-6737-496e-c66f-1c155a0991c9"
   },
   "outputs": [
    {
     "data": {
      "text/plain": [
       "1788"
      ]
     },
     "execution_count": 497,
     "metadata": {},
     "output_type": "execute_result"
    }
   ],
   "source": [
    "len(train.userId.unique())"
   ]
  },
  {
   "cell_type": "code",
   "execution_count": null,
   "metadata": {
    "colab": {
     "base_uri": "https://localhost:8080/"
    },
    "executionInfo": {
     "elapsed": 26,
     "status": "ok",
     "timestamp": 1639035037279,
     "user": {
      "displayName": "김동영",
      "photoUrl": "https://lh3.googleusercontent.com/a/default-user=s64",
      "userId": "17835880286856113214"
     },
     "user_tz": -540
    },
    "id": "-SPRwazDxQVH",
    "outputId": "f7b0aec6-234b-49b4-ac6e-a22a83043d37"
   },
   "outputs": [
    {
     "name": "stdout",
     "output_type": "stream",
     "text": [
      "item factor : (581, 10), user factor : (1788, 10)\n"
     ]
    }
   ],
   "source": [
    "print(f'item factor : {item_factor.shape}, user factor : {user_factor.shape}')"
   ]
  },
  {
   "cell_type": "code",
   "execution_count": null,
   "metadata": {
    "id": "2WAvvoHcIy_x"
   },
   "outputs": [],
   "source": [
    "als_matrix = np.dot(user_factor, item_factor.T)"
   ]
  },
  {
   "cell_type": "code",
   "execution_count": null,
   "metadata": {
    "colab": {
     "base_uri": "https://localhost:8080/"
    },
    "executionInfo": {
     "elapsed": 23,
     "status": "ok",
     "timestamp": 1639035037280,
     "user": {
      "displayName": "김동영",
      "photoUrl": "https://lh3.googleusercontent.com/a/default-user=s64",
      "userId": "17835880286856113214"
     },
     "user_tz": -540
    },
    "id": "FWnB8Te0odvs",
    "outputId": "a8ce462f-1cd4-420c-8fcd-11aab480c7c8"
   },
   "outputs": [
    {
     "name": "stdout",
     "output_type": "stream",
     "text": [
      "(1788, 581) (1788, 581) (1788, 581)\n"
     ]
    }
   ],
   "source": [
    "print(svd_matrix.shape, sgd_matrix.shape, als_matrix.shape)"
   ]
  },
  {
   "cell_type": "code",
   "execution_count": null,
   "metadata": {
    "colab": {
     "base_uri": "https://localhost:8080/"
    },
    "executionInfo": {
     "elapsed": 20,
     "status": "ok",
     "timestamp": 1639035037280,
     "user": {
      "displayName": "김동영",
      "photoUrl": "https://lh3.googleusercontent.com/a/default-user=s64",
      "userId": "17835880286856113214"
     },
     "user_tz": -540
    },
    "id": "RCiOZ2wEofMh",
    "outputId": "1f3715fc-6c16-4c8e-969d-7ecdb3068a40"
   },
   "outputs": [
    {
     "data": {
      "text/plain": [
       "(1788, 581)"
      ]
     },
     "execution_count": 501,
     "metadata": {},
     "output_type": "execute_result"
    }
   ],
   "source": [
    "len(train.userId.unique()), len(train.movieId.unique())"
   ]
  },
  {
   "cell_type": "code",
   "execution_count": null,
   "metadata": {
    "id": "NBpx7LmGIy_x"
   },
   "outputs": [],
   "source": [
    "# 모델 저장\n",
    "# np.save('코드/als', als_matrix)"
   ]
  },
  {
   "cell_type": "markdown",
   "metadata": {
    "id": "Z76CQs7zEtHL"
   },
   "source": [
    "# 평가"
   ]
  },
  {
   "cell_type": "markdown",
   "metadata": {
    "id": "LJS_8MmiPFPf"
   },
   "source": [
    "## 위 과정 설명\n",
    "- 위 과정 (SVD, SGD, ALS) 과정들은 user-item 행렬을 학습?하는 과정이었음  \n",
    "- 행렬 $M : user \\times item(movie)$ 의 원소 $M(i, j)$는 $i$번째 $user$가 $j$번째 영화를 얼마나 좋아할 지를 나타냄\n",
    "- 위에서 구한 `svd_matirx`, `sgd_matrix`, `als_matrix`는 각각의 방법으로 행렬 $M$을 구한 것\n",
    "\n",
    "- 이제 아래에서 각 방법들로 구한 $M$들로 각 유저에게 영화를 추천해 줄거임"
   ]
  },
  {
   "cell_type": "markdown",
   "metadata": {
    "id": "GYTwWs5CSTb3"
   },
   "source": [
    "## 함수 정의"
   ]
  },
  {
   "cell_type": "markdown",
   "metadata": {
    "id": "kaYoDd4OQ1nF"
   },
   "source": [
    "### `get_predictions`\n",
    "- 행렬 $M$에서 각 유저마다 점수가 높은 순으로 영화들을 정렬 후 $top~k$개 만큼 뽑아서 `predictions`에 $(영화제목, 점수)$ 형태로 저장"
   ]
  },
  {
   "cell_type": "code",
   "execution_count": null,
   "metadata": {
    "colab": {
     "base_uri": "https://localhost:8080/"
    },
    "executionInfo": {
     "elapsed": 17,
     "status": "ok",
     "timestamp": 1639035037280,
     "user": {
      "displayName": "김동영",
      "photoUrl": "https://lh3.googleusercontent.com/a/default-user=s64",
      "userId": "17835880286856113214"
     },
     "user_tz": -540
    },
    "id": "2gZyaWW9T00e",
    "outputId": "f66a0b52-ed2b-4743-8bf7-6284f52c1714"
   },
   "outputs": [
    {
     "data": {
      "text/plain": [
       "(1788, 581)"
      ]
     },
     "execution_count": 503,
     "metadata": {},
     "output_type": "execute_result"
    }
   ],
   "source": [
    "svd_matrix.shape"
   ]
  },
  {
   "cell_type": "code",
   "execution_count": null,
   "metadata": {
    "id": "ae7JvOjML4_R"
   },
   "outputs": [],
   "source": [
    "matrix = svd_matrix\n",
    "def get_predictions(matrix, topk=10):\n",
    "    predictions = {}\n",
    "    for user in train['userId'].unique():\n",
    "        predicted_rating = [(idx2movie[i], score) for i, score in enumerate(matrix[user2idx[user]])]\n",
    "        predicted_rating = sorted(predicted_rating, key = lambda x : x[1], reverse=True)\n",
    "        predictions[user] = predicted_rating[:topk]\n",
    "\n",
    "    return predictions"
   ]
  },
  {
   "cell_type": "markdown",
   "metadata": {
    "id": "DhaL-zazRG7E"
   },
   "source": [
    "SVD로 구한 `svd_matrix`에서 prediction 구해 봄"
   ]
  },
  {
   "cell_type": "code",
   "execution_count": null,
   "metadata": {
    "id": "wTjE-n6qQOJi"
   },
   "outputs": [],
   "source": [
    "svd_predictions = get_predictions(svd_matrix)"
   ]
  },
  {
   "cell_type": "markdown",
   "metadata": {
    "id": "NL6Zb3EpRNA9"
   },
   "source": [
    "\n",
    "### `get_user_metric`\n",
    "- `prefer_list` : `get_predictions`에서 구한 `predictions`(영화제목, 점수) 에서 영화 제목만 추출  \n",
    "- `actual_watch_list` : test set에서 각 유저가 4점 이상으로 평가한 영화들 모음  \n",
    "- `user_metric` : 위 내용을 (user, prefer_list, actual_watch_list) 형식으로 저장"
   ]
  },
  {
   "cell_type": "code",
   "execution_count": null,
   "metadata": {
    "id": "yguiEMmkAeLQ"
   },
   "outputs": [],
   "source": [
    "watch_list = train.groupby('userId')['movieId'].agg({'unique'}).reset_index()\n",
    "popular_rec_model = user_movie_df.groupby('movieId').count().sort_values(by='rating', ascending=False).index.tolist()[0:50]"
   ]
  },
  {
   "cell_type": "code",
   "execution_count": null,
   "metadata": {
    "id": "hsivvMI0L5BX"
   },
   "outputs": [],
   "source": [
    "def get_user_metric(predictions, topk=10):\n",
    "    user_metric = []\n",
    "    for user in train['userId'].unique():\n",
    "        # 유저가 높게 평가했을 것이라고 예측된 영화\n",
    "        prefer_list = []\n",
    "        for pred in predictions[user]:\n",
    "            # 이미 본 영화는 추천하지 않음\n",
    "            if pred[0] not in watch_list[watch_list['userId'] == user].unique.values[0]:\n",
    "                prefer_list.append(pred[0])\n",
    "        # 추천할만한 영화가 없는 경우 유명한 영화 추천\n",
    "        if len(prefer_list) < topk:\n",
    "            prefer_list.extend(popular_rec_model[:topk])\n",
    "        # 유저가(테스트셋 내에서) 평점 4점 이상으로 평가한 영화\n",
    "        actual_watch_list = []\n",
    "        for id in test[test['userId'] == user][['movieId']][test.rating >= 0].values:\n",
    "            actual_watch_list.append(id[0])\n",
    "\n",
    "        user_metric.append((user, prefer_list[:topk], actual_watch_list))\n",
    "    return user_metric"
   ]
  },
  {
   "cell_type": "markdown",
   "metadata": {
    "id": "b2XMv5WnSYUZ"
   },
   "source": [
    "SVD로 구한 `svd_prediction`으로 `user_metric` 만들기"
   ]
  },
  {
   "cell_type": "code",
   "execution_count": null,
   "metadata": {
    "colab": {
     "base_uri": "https://localhost:8080/"
    },
    "executionInfo": {
     "elapsed": 15253,
     "status": "ok",
     "timestamp": 1639037105698,
     "user": {
      "displayName": "김동영",
      "photoUrl": "https://lh3.googleusercontent.com/a/default-user=s64",
      "userId": "17835880286856113214"
     },
     "user_tz": -540
    },
    "id": "3ell18D8Qa5f",
    "outputId": "0832dc60-210c-4416-a32d-48183981f6a4"
   },
   "outputs": [
    {
     "data": {
      "text/plain": [
       "(827,\n",
       " [39, 41, 32, 169, 135],\n",
       " [370,\n",
       "  138,\n",
       "  72,\n",
       "  469,\n",
       "  378,\n",
       "  500,\n",
       "  164,\n",
       "  132,\n",
       "  53,\n",
       "  60,\n",
       "  258,\n",
       "  481,\n",
       "  189,\n",
       "  412,\n",
       "  526,\n",
       "  108,\n",
       "  212,\n",
       "  285,\n",
       "  239,\n",
       "  545,\n",
       "  157])"
      ]
     },
     "execution_count": 584,
     "metadata": {},
     "output_type": "execute_result"
    }
   ],
   "source": [
    "svd_user_metric = get_user_metric(svd_predictions)\n",
    "svd_user_metric[2]"
   ]
  },
  {
   "cell_type": "markdown",
   "metadata": {
    "id": "5QCgI_TwShvU"
   },
   "source": [
    "### `get_map`\n",
    "- 위에서 계산한 `user_metric`으로 $MAP$ 점수 계산"
   ]
  },
  {
   "cell_type": "code",
   "execution_count": null,
   "metadata": {
    "id": "G--mB7BNL5DU"
   },
   "outputs": [],
   "source": [
    "# user metric를 인자로 받는 mean average precision 계산하는 함수\n",
    "def get_map(user_metric):\n",
    "  precision_list = []\n",
    "  for user in user_metric:\n",
    "    predictive_values = user[1] #높게 평가했을 거라고 예측한 상위 k개 영화중 하나\n",
    "    actual_values = set(user[2]) #유저가 실제로 4점이상이라고 평가한 영화\n",
    "    tp = [pv for pv in predictive_values if pv in actual_values] #Confusion Matrix를 통한 precision 계산1\n",
    "    precision = len(tp) / len(predictive_values) ##Confusion Matrix를 통한 precision 계산2 여기서 나온값 ex) 0.33 -> 추천한 3개중 1개는 만족했다\n",
    "    precision_list.append(precision) #각 유저별 precision 값을 저장\n",
    "  return sum(precision_list) / len(precision_list) #유저 전반적으로 만족함을 평가한 값 -> 0.1449 -> 100개를 추천했다고 치면 14정도는 만족을 했다"
   ]
  },
  {
   "cell_type": "markdown",
   "metadata": {
    "id": "p28PyFW9Spsj"
   },
   "source": [
    "SVD로 구한 `svd_user_metric`의 $MAP$ 점수 구해보기"
   ]
  },
  {
   "cell_type": "code",
   "execution_count": null,
   "metadata": {
    "colab": {
     "base_uri": "https://localhost:8080/"
    },
    "executionInfo": {
     "elapsed": 6,
     "status": "ok",
     "timestamp": 1639037105699,
     "user": {
      "displayName": "김동영",
      "photoUrl": "https://lh3.googleusercontent.com/a/default-user=s64",
      "userId": "17835880286856113214"
     },
     "user_tz": -540
    },
    "id": "SDcDcfyDQu0z",
    "outputId": "1ac0411c-ca69-4d60-e926-e564e5a6ce2e"
   },
   "outputs": [
    {
     "data": {
      "text/plain": [
       "0.015212527964205786"
      ]
     },
     "execution_count": 586,
     "metadata": {},
     "output_type": "execute_result"
    }
   ],
   "source": [
    "get_map(svd_user_metric)"
   ]
  },
  {
   "cell_type": "markdown",
   "metadata": {
    "id": "dsVBXehsB9p6"
   },
   "source": [
    "#### SGD 평가"
   ]
  },
  {
   "cell_type": "code",
   "execution_count": null,
   "metadata": {
    "colab": {
     "base_uri": "https://localhost:8080/"
    },
    "executionInfo": {
     "elapsed": 16241,
     "status": "ok",
     "timestamp": 1639037224705,
     "user": {
      "displayName": "김동영",
      "photoUrl": "https://lh3.googleusercontent.com/a/default-user=s64",
      "userId": "17835880286856113214"
     },
     "user_tz": -540
    },
    "id": "D6xXRbVaQ0SF",
    "outputId": "2a03bd80-a0a5-4ef5-f3b8-1014b5262ceb"
   },
   "outputs": [
    {
     "data": {
      "text/plain": [
       "0.036633109619687014"
      ]
     },
     "execution_count": 590,
     "metadata": {},
     "output_type": "execute_result"
    }
   ],
   "source": [
    "sgd_predictions = get_predictions(sgd_matrix)\n",
    "sgd_user_metric = get_user_metric(sgd_predictions)\n",
    "get_map(sgd_user_metric)"
   ]
  },
  {
   "cell_type": "markdown",
   "metadata": {
    "id": "Qna-QBDEOeGy"
   },
   "source": [
    "#### ALS 평가"
   ]
  },
  {
   "cell_type": "code",
   "execution_count": null,
   "metadata": {
    "colab": {
     "base_uri": "https://localhost:8080/"
    },
    "executionInfo": {
     "elapsed": 16701,
     "status": "ok",
     "timestamp": 1639037241399,
     "user": {
      "displayName": "김동영",
      "photoUrl": "https://lh3.googleusercontent.com/a/default-user=s64",
      "userId": "17835880286856113214"
     },
     "user_tz": -540
    },
    "id": "T33mk8BCS4f7",
    "outputId": "4d60af9f-f24d-4088-eb88-1d79ccbfb16b"
   },
   "outputs": [
    {
     "data": {
      "text/plain": [
       "0.1750559284116336"
      ]
     },
     "execution_count": 591,
     "metadata": {},
     "output_type": "execute_result"
    }
   ],
   "source": [
    "als_predictions = get_predictions(als_matrix)\n",
    "als_user_metric = get_user_metric(als_predictions)\n",
    "get_map(als_user_metric)"
   ]
  },
  {
   "cell_type": "markdown",
   "metadata": {
    "id": "LOLZwtQeTXVu"
   },
   "source": [
    "# 영화 추천"
   ]
  },
  {
   "cell_type": "markdown",
   "metadata": {
    "id": "phUhmCTZTnam"
   },
   "source": [
    "- 위 평가 과정에서 구한 `user_metric`랑 원하는 \n",
    "`id_num`(user id), `topk`를 입력\n",
    "- 해당 유저가 4점 이상이라고 평가한 영화 중 상위 k개\n",
    "- 해당 유저가 좋아할 것이라고 우리가 추천한 영화 k개 출력"
   ]
  },
  {
   "cell_type": "code",
   "execution_count": null,
   "metadata": {
    "id": "ywyIffkdS8ap"
   },
   "outputs": [],
   "source": [
    "def recommend(user_metric, id_num, topk=5): #i번째 유저가 높게 평가한 영화들과 좋아할거라 예상되는 영화 리스트\n",
    "    print(f'user_Id: {id_num}')\n",
    "    print('highly rated movie:')\n",
    "    for i in user_metric[id_num][2][:topk]: \n",
    "        print('-', user_movie_df[user_movie_df['movieId'] == i]['title'].iloc[0]) #해당유저가 4점이상 평가한 영화\n",
    "    print()\n",
    "    print('predicted favorite movie:')\n",
    "    for i in user_metric[id_num][1][:topk]: \n",
    "        print('-', user_movie_df[user_movie_df['movieId'] == i]['title'].iloc[0]) #해당유거 좋아하리라 예측한 영화 k개"
   ]
  },
  {
   "cell_type": "markdown",
   "metadata": {
    "id": "FZSPt7tkHmFi"
   },
   "source": []
  },
  {
   "cell_type": "markdown",
   "metadata": {
    "id": "-LeXhekjUPCl"
   },
   "source": [
    "#### SVD로 영화 추천"
   ]
  },
  {
   "cell_type": "code",
   "execution_count": null,
   "metadata": {
    "colab": {
     "base_uri": "https://localhost:8080/"
    },
    "executionInfo": {
     "elapsed": 7,
     "status": "ok",
     "timestamp": 1639035415365,
     "user": {
      "displayName": "김동영",
      "photoUrl": "https://lh3.googleusercontent.com/a/default-user=s64",
      "userId": "17835880286856113214"
     },
     "user_tz": -540
    },
    "id": "7huHqC_jTiZX",
    "outputId": "c63b35b2-c0aa-426d-df35-79d5008e2c68"
   },
   "outputs": [
    {
     "name": "stdout",
     "output_type": "stream",
     "text": [
      "user_Id: 1\n",
      "highly rated movie:\n",
      "- Big Hero 6 (2014)\n",
      "- Iron Man 3 (2013)\n",
      "- Man of Steel (2013)\n",
      "- Fighter, The (2010)\n",
      "- X-Men: Days of Future Past (2014)\n",
      "\n",
      "predicted favorite movie:\n",
      "- Green Zone (2010)\n",
      "- Thor: The Dark World (2013)\n",
      "- Valentine's Day (2010)\n",
      "- Let Me In (2010)\n",
      "- Hunt, The (Jagten) (2012)\n"
     ]
    }
   ],
   "source": [
    "recommend(svd_user_metric, 1)"
   ]
  },
  {
   "cell_type": "markdown",
   "metadata": {
    "id": "mXkyEoinURq-"
   },
   "source": [
    "#### SGD로 영화 추천"
   ]
  },
  {
   "cell_type": "code",
   "execution_count": null,
   "metadata": {
    "colab": {
     "base_uri": "https://localhost:8080/"
    },
    "executionInfo": {
     "elapsed": 6,
     "status": "ok",
     "timestamp": 1639035415366,
     "user": {
      "displayName": "김동영",
      "photoUrl": "https://lh3.googleusercontent.com/a/default-user=s64",
      "userId": "17835880286856113214"
     },
     "user_tz": -540
    },
    "id": "v1_xyEaJTkYt",
    "outputId": "0dcbf8a5-16ff-47aa-8b1f-a0fa74a90fe3"
   },
   "outputs": [
    {
     "name": "stdout",
     "output_type": "stream",
     "text": [
      "user_Id: 1\n",
      "highly rated movie:\n",
      "- Big Hero 6 (2014)\n",
      "- Iron Man 3 (2013)\n",
      "- Man of Steel (2013)\n",
      "- Fighter, The (2010)\n",
      "- X-Men: Days of Future Past (2014)\n",
      "\n",
      "predicted favorite movie:\n",
      "- Band of Brothers (2001)\n",
      "- Planet Earth (2006)\n",
      "- Hunt, The (Jagten) (2012)\n",
      "- Piper (2016)\n",
      "- Exit Through the Gift Shop (2010)\n"
     ]
    }
   ],
   "source": [
    "recommend(sgd_user_metric, 1)"
   ]
  },
  {
   "cell_type": "markdown",
   "metadata": {
    "id": "k9VcF0AgUU68"
   },
   "source": [
    "#### ALS로 영화 추천"
   ]
  },
  {
   "cell_type": "code",
   "execution_count": null,
   "metadata": {
    "colab": {
     "base_uri": "https://localhost:8080/"
    },
    "executionInfo": {
     "elapsed": 12,
     "status": "ok",
     "timestamp": 1639035416054,
     "user": {
      "displayName": "김동영",
      "photoUrl": "https://lh3.googleusercontent.com/a/default-user=s64",
      "userId": "17835880286856113214"
     },
     "user_tz": -540
    },
    "id": "uaMHVSJCUMXH",
    "outputId": "e54e31d2-bb9b-4bb1-d2ab-860ad67f5817"
   },
   "outputs": [
    {
     "name": "stdout",
     "output_type": "stream",
     "text": [
      "user_Id: 1\n",
      "highly rated movie:\n",
      "- Big Hero 6 (2014)\n",
      "- Iron Man 3 (2013)\n",
      "- Man of Steel (2013)\n",
      "- Fighter, The (2010)\n",
      "- X-Men: Days of Future Past (2014)\n",
      "\n",
      "predicted favorite movie:\n",
      "- The Imitation Game (2014)\n",
      "- Guardians of the Galaxy (2014)\n",
      "- The Martian (2015)\n",
      "- Gravity (2013)\n",
      "- Skyfall (2012)\n"
     ]
    }
   ],
   "source": [
    "recommend(als_user_metric, 1)"
   ]
  }
 ],
 "metadata": {
  "colab": {
   "collapsed_sections": [],
   "name": "Collaborative_Filtering.ipynb",
   "provenance": []
  },
  "kernelspec": {
   "display_name": "Python 3",
   "language": "python",
   "name": "python3"
  },
  "language_info": {
   "codemirror_mode": {
    "name": "ipython",
    "version": 3
   },
   "file_extension": ".py",
   "mimetype": "text/x-python",
   "name": "python",
   "nbconvert_exporter": "python",
   "pygments_lexer": "ipython3",
   "version": "3.7.4"
  },
  "toc": {
   "base_numbering": 1,
   "nav_menu": {},
   "number_sections": true,
   "sideBar": true,
   "skip_h1_title": false,
   "title_cell": "Table of Contents",
   "title_sidebar": "Contents",
   "toc_cell": false,
   "toc_position": {},
   "toc_section_display": true,
   "toc_window_display": false
  },
  "varInspector": {
   "cols": {
    "lenName": 16,
    "lenType": 16,
    "lenVar": 40
   },
   "kernels_config": {
    "python": {
     "delete_cmd_postfix": "",
     "delete_cmd_prefix": "del ",
     "library": "var_list.py",
     "varRefreshCmd": "print(var_dic_list())"
    },
    "r": {
     "delete_cmd_postfix": ") ",
     "delete_cmd_prefix": "rm(",
     "library": "var_list.r",
     "varRefreshCmd": "cat(var_dic_list()) "
    }
   },
   "types_to_exclude": [
    "module",
    "function",
    "builtin_function_or_method",
    "instance",
    "_Feature"
   ],
   "window_display": false
  },
  "widgets": {
   "application/vnd.jupyter.widget-state+json": {
    "11f2f97405204c959af3287b9f544010": {
     "model_module": "@jupyter-widgets/controls",
     "model_module_version": "1.5.0",
     "model_name": "ProgressStyleModel",
     "state": {
      "_model_module": "@jupyter-widgets/controls",
      "_model_module_version": "1.5.0",
      "_model_name": "ProgressStyleModel",
      "_view_count": null,
      "_view_module": "@jupyter-widgets/base",
      "_view_module_version": "1.2.0",
      "_view_name": "StyleView",
      "bar_color": null,
      "description_width": ""
     }
    },
    "4beadf5a6fdd4b6f9c2618a4375c371b": {
     "model_module": "@jupyter-widgets/controls",
     "model_module_version": "1.5.0",
     "model_name": "HTMLModel",
     "state": {
      "_dom_classes": [],
      "_model_module": "@jupyter-widgets/controls",
      "_model_module_version": "1.5.0",
      "_model_name": "HTMLModel",
      "_view_count": null,
      "_view_module": "@jupyter-widgets/controls",
      "_view_module_version": "1.5.0",
      "_view_name": "HTMLView",
      "description": "",
      "description_tooltip": null,
      "layout": "IPY_MODEL_a54235b8e4904b6e84a497e70a0f4c03",
      "placeholder": "​",
      "style": "IPY_MODEL_50322b77f3c44702adb7830f4c76a154",
      "value": "100%"
     }
    },
    "50322b77f3c44702adb7830f4c76a154": {
     "model_module": "@jupyter-widgets/controls",
     "model_module_version": "1.5.0",
     "model_name": "DescriptionStyleModel",
     "state": {
      "_model_module": "@jupyter-widgets/controls",
      "_model_module_version": "1.5.0",
      "_model_name": "DescriptionStyleModel",
      "_view_count": null,
      "_view_module": "@jupyter-widgets/base",
      "_view_module_version": "1.2.0",
      "_view_name": "StyleView",
      "description_width": ""
     }
    },
    "63cf33cb9b6e43bcb5c01fe3269d8d87": {
     "model_module": "@jupyter-widgets/base",
     "model_module_version": "1.2.0",
     "model_name": "LayoutModel",
     "state": {
      "_model_module": "@jupyter-widgets/base",
      "_model_module_version": "1.2.0",
      "_model_name": "LayoutModel",
      "_view_count": null,
      "_view_module": "@jupyter-widgets/base",
      "_view_module_version": "1.2.0",
      "_view_name": "LayoutView",
      "align_content": null,
      "align_items": null,
      "align_self": null,
      "border": null,
      "bottom": null,
      "display": null,
      "flex": null,
      "flex_flow": null,
      "grid_area": null,
      "grid_auto_columns": null,
      "grid_auto_flow": null,
      "grid_auto_rows": null,
      "grid_column": null,
      "grid_gap": null,
      "grid_row": null,
      "grid_template_areas": null,
      "grid_template_columns": null,
      "grid_template_rows": null,
      "height": null,
      "justify_content": null,
      "justify_items": null,
      "left": null,
      "margin": null,
      "max_height": null,
      "max_width": null,
      "min_height": null,
      "min_width": null,
      "object_fit": null,
      "object_position": null,
      "order": null,
      "overflow": null,
      "overflow_x": null,
      "overflow_y": null,
      "padding": null,
      "right": null,
      "top": null,
      "visibility": null,
      "width": null
     }
    },
    "7c317d9df072473880d926abec5f5e20": {
     "model_module": "@jupyter-widgets/controls",
     "model_module_version": "1.5.0",
     "model_name": "HTMLModel",
     "state": {
      "_dom_classes": [],
      "_model_module": "@jupyter-widgets/controls",
      "_model_module_version": "1.5.0",
      "_model_name": "HTMLModel",
      "_view_count": null,
      "_view_module": "@jupyter-widgets/controls",
      "_view_module_version": "1.5.0",
      "_view_name": "HTMLView",
      "description": "",
      "description_tooltip": null,
      "layout": "IPY_MODEL_f5e8d68098c94afd8f8d6af167b20164",
      "placeholder": "​",
      "style": "IPY_MODEL_930633f85df94a5d8d2fc906b3f05593",
      "value": " 100/100 [00:18&lt;00:00,  7.38it/s]"
     }
    },
    "930633f85df94a5d8d2fc906b3f05593": {
     "model_module": "@jupyter-widgets/controls",
     "model_module_version": "1.5.0",
     "model_name": "DescriptionStyleModel",
     "state": {
      "_model_module": "@jupyter-widgets/controls",
      "_model_module_version": "1.5.0",
      "_model_name": "DescriptionStyleModel",
      "_view_count": null,
      "_view_module": "@jupyter-widgets/base",
      "_view_module_version": "1.2.0",
      "_view_name": "StyleView",
      "description_width": ""
     }
    },
    "9bde3d9f218f4583a024e2142105517d": {
     "model_module": "@jupyter-widgets/controls",
     "model_module_version": "1.5.0",
     "model_name": "HBoxModel",
     "state": {
      "_dom_classes": [],
      "_model_module": "@jupyter-widgets/controls",
      "_model_module_version": "1.5.0",
      "_model_name": "HBoxModel",
      "_view_count": null,
      "_view_module": "@jupyter-widgets/controls",
      "_view_module_version": "1.5.0",
      "_view_name": "HBoxView",
      "box_style": "",
      "children": [
       "IPY_MODEL_4beadf5a6fdd4b6f9c2618a4375c371b",
       "IPY_MODEL_ac29cefeffb247b39d821ccf94f34282",
       "IPY_MODEL_7c317d9df072473880d926abec5f5e20"
      ],
      "layout": "IPY_MODEL_63cf33cb9b6e43bcb5c01fe3269d8d87"
     }
    },
    "a54235b8e4904b6e84a497e70a0f4c03": {
     "model_module": "@jupyter-widgets/base",
     "model_module_version": "1.2.0",
     "model_name": "LayoutModel",
     "state": {
      "_model_module": "@jupyter-widgets/base",
      "_model_module_version": "1.2.0",
      "_model_name": "LayoutModel",
      "_view_count": null,
      "_view_module": "@jupyter-widgets/base",
      "_view_module_version": "1.2.0",
      "_view_name": "LayoutView",
      "align_content": null,
      "align_items": null,
      "align_self": null,
      "border": null,
      "bottom": null,
      "display": null,
      "flex": null,
      "flex_flow": null,
      "grid_area": null,
      "grid_auto_columns": null,
      "grid_auto_flow": null,
      "grid_auto_rows": null,
      "grid_column": null,
      "grid_gap": null,
      "grid_row": null,
      "grid_template_areas": null,
      "grid_template_columns": null,
      "grid_template_rows": null,
      "height": null,
      "justify_content": null,
      "justify_items": null,
      "left": null,
      "margin": null,
      "max_height": null,
      "max_width": null,
      "min_height": null,
      "min_width": null,
      "object_fit": null,
      "object_position": null,
      "order": null,
      "overflow": null,
      "overflow_x": null,
      "overflow_y": null,
      "padding": null,
      "right": null,
      "top": null,
      "visibility": null,
      "width": null
     }
    },
    "ac29cefeffb247b39d821ccf94f34282": {
     "model_module": "@jupyter-widgets/controls",
     "model_module_version": "1.5.0",
     "model_name": "FloatProgressModel",
     "state": {
      "_dom_classes": [],
      "_model_module": "@jupyter-widgets/controls",
      "_model_module_version": "1.5.0",
      "_model_name": "FloatProgressModel",
      "_view_count": null,
      "_view_module": "@jupyter-widgets/controls",
      "_view_module_version": "1.5.0",
      "_view_name": "ProgressView",
      "bar_style": "success",
      "description": "",
      "description_tooltip": null,
      "layout": "IPY_MODEL_e140a3226b27434c9b601c69755bf67f",
      "max": 100,
      "min": 0,
      "orientation": "horizontal",
      "style": "IPY_MODEL_11f2f97405204c959af3287b9f544010",
      "value": 100
     }
    },
    "e140a3226b27434c9b601c69755bf67f": {
     "model_module": "@jupyter-widgets/base",
     "model_module_version": "1.2.0",
     "model_name": "LayoutModel",
     "state": {
      "_model_module": "@jupyter-widgets/base",
      "_model_module_version": "1.2.0",
      "_model_name": "LayoutModel",
      "_view_count": null,
      "_view_module": "@jupyter-widgets/base",
      "_view_module_version": "1.2.0",
      "_view_name": "LayoutView",
      "align_content": null,
      "align_items": null,
      "align_self": null,
      "border": null,
      "bottom": null,
      "display": null,
      "flex": null,
      "flex_flow": null,
      "grid_area": null,
      "grid_auto_columns": null,
      "grid_auto_flow": null,
      "grid_auto_rows": null,
      "grid_column": null,
      "grid_gap": null,
      "grid_row": null,
      "grid_template_areas": null,
      "grid_template_columns": null,
      "grid_template_rows": null,
      "height": null,
      "justify_content": null,
      "justify_items": null,
      "left": null,
      "margin": null,
      "max_height": null,
      "max_width": null,
      "min_height": null,
      "min_width": null,
      "object_fit": null,
      "object_position": null,
      "order": null,
      "overflow": null,
      "overflow_x": null,
      "overflow_y": null,
      "padding": null,
      "right": null,
      "top": null,
      "visibility": null,
      "width": null
     }
    },
    "f5e8d68098c94afd8f8d6af167b20164": {
     "model_module": "@jupyter-widgets/base",
     "model_module_version": "1.2.0",
     "model_name": "LayoutModel",
     "state": {
      "_model_module": "@jupyter-widgets/base",
      "_model_module_version": "1.2.0",
      "_model_name": "LayoutModel",
      "_view_count": null,
      "_view_module": "@jupyter-widgets/base",
      "_view_module_version": "1.2.0",
      "_view_name": "LayoutView",
      "align_content": null,
      "align_items": null,
      "align_self": null,
      "border": null,
      "bottom": null,
      "display": null,
      "flex": null,
      "flex_flow": null,
      "grid_area": null,
      "grid_auto_columns": null,
      "grid_auto_flow": null,
      "grid_auto_rows": null,
      "grid_column": null,
      "grid_gap": null,
      "grid_row": null,
      "grid_template_areas": null,
      "grid_template_columns": null,
      "grid_template_rows": null,
      "height": null,
      "justify_content": null,
      "justify_items": null,
      "left": null,
      "margin": null,
      "max_height": null,
      "max_width": null,
      "min_height": null,
      "min_width": null,
      "object_fit": null,
      "object_position": null,
      "order": null,
      "overflow": null,
      "overflow_x": null,
      "overflow_y": null,
      "padding": null,
      "right": null,
      "top": null,
      "visibility": null,
      "width": null
     }
    }
   }
  }
 },
 "nbformat": 4,
 "nbformat_minor": 1
}
