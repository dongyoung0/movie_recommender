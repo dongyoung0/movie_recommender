{
  "nbformat": 4,
  "nbformat_minor": 0,
  "metadata": {
    "colab": {
      "name": "Word2Vec.ipynb",
      "provenance": [],
      "collapsed_sections": []
    },
    "kernelspec": {
      "name": "python3",
      "display_name": "Python 3"
    },
    "language_info": {
      "name": "python"
    }
  },
  "cells": [
    {
      "cell_type": "markdown",
      "source": [
        "# 데이터 불러오기 및 전처리"
      ],
      "metadata": {
        "id": "5aQEWRl1l4LG"
      }
    },
    {
      "cell_type": "markdown",
      "source": [
        "### 크롤링한 TMDB 영화 데이터 불러오기"
      ],
      "metadata": {
        "id": "Vnpa14HCdGnP"
      }
    },
    {
      "cell_type": "code",
      "source": [
        "import pandas as pd"
      ],
      "metadata": {
        "id": "I6zzdoZmdBRN"
      },
      "execution_count": null,
      "outputs": []
    },
    {
      "cell_type": "code",
      "source": [
        "movie_df = pd.read_json('tmdb_crawling.json')"
      ],
      "metadata": {
        "id": "y0ePOfBAJVgM"
      },
      "execution_count": null,
      "outputs": []
    },
    {
      "cell_type": "code",
      "source": [
        "movie_df.head(2)"
      ],
      "metadata": {
        "colab": {
          "base_uri": "https://localhost:8080/",
          "height": 349
        },
        "id": "g8cow5JQdIU_",
        "outputId": "e06ca9af-7e13-4181-c141-0e4b9e494d49"
      },
      "execution_count": null,
      "outputs": [
        {
          "output_type": "execute_result",
          "data": {
            "text/html": [
              "\n",
              "  <div id=\"df-c2fd0b83-0bf6-497c-831f-7ac48ca29154\">\n",
              "    <div class=\"colab-df-container\">\n",
              "      <div>\n",
              "<style scoped>\n",
              "    .dataframe tbody tr th:only-of-type {\n",
              "        vertical-align: middle;\n",
              "    }\n",
              "\n",
              "    .dataframe tbody tr th {\n",
              "        vertical-align: top;\n",
              "    }\n",
              "\n",
              "    .dataframe thead th {\n",
              "        text-align: right;\n",
              "    }\n",
              "</style>\n",
              "<table border=\"1\" class=\"dataframe\">\n",
              "  <thead>\n",
              "    <tr style=\"text-align: right;\">\n",
              "      <th></th>\n",
              "      <th>adult</th>\n",
              "      <th>backdrop_path</th>\n",
              "      <th>belongs_to_collection</th>\n",
              "      <th>budget</th>\n",
              "      <th>genres</th>\n",
              "      <th>homepage</th>\n",
              "      <th>id</th>\n",
              "      <th>imdb_id</th>\n",
              "      <th>original_language</th>\n",
              "      <th>original_title</th>\n",
              "      <th>overview</th>\n",
              "      <th>popularity</th>\n",
              "      <th>poster_path</th>\n",
              "      <th>production_companies</th>\n",
              "      <th>production_countries</th>\n",
              "      <th>release_date</th>\n",
              "      <th>revenue</th>\n",
              "      <th>runtime</th>\n",
              "      <th>spoken_languages</th>\n",
              "      <th>status</th>\n",
              "      <th>tagline</th>\n",
              "      <th>title</th>\n",
              "      <th>video</th>\n",
              "      <th>vote_average</th>\n",
              "      <th>vote_count</th>\n",
              "      <th>keywords</th>\n",
              "      <th>cast</th>\n",
              "      <th>crew</th>\n",
              "      <th>success</th>\n",
              "      <th>status_code</th>\n",
              "      <th>status_message</th>\n",
              "    </tr>\n",
              "  </thead>\n",
              "  <tbody>\n",
              "    <tr>\n",
              "      <th>0</th>\n",
              "      <td>0.0</td>\n",
              "      <td>/3Rfvhy1Nl6sSGJwyjb0QiZzZYlB.jpg</td>\n",
              "      <td>{'id': 10194, 'name': 'Toy Story Collection', ...</td>\n",
              "      <td>30000000.0</td>\n",
              "      <td>[{'id': 16, 'name': 'Animation'}, {'id': 12, '...</td>\n",
              "      <td>http://toystory.disney.com/toy-story</td>\n",
              "      <td>862.0</td>\n",
              "      <td>tt0114709</td>\n",
              "      <td>en</td>\n",
              "      <td>Toy Story</td>\n",
              "      <td>Led by Woody, Andy's toys live happily in his ...</td>\n",
              "      <td>204.942</td>\n",
              "      <td>/uXDfjJbdP4ijW5hWSBrPrlKpxab.jpg</td>\n",
              "      <td>[{'id': 3, 'logo_path': '/1TjvGVDMYsj6JBxOAkUH...</td>\n",
              "      <td>[{'iso_3166_1': 'US', 'name': 'United States o...</td>\n",
              "      <td>1995-10-30</td>\n",
              "      <td>373554033.0</td>\n",
              "      <td>81.0</td>\n",
              "      <td>[{'english_name': 'English', 'iso_639_1': 'en'...</td>\n",
              "      <td>Released</td>\n",
              "      <td></td>\n",
              "      <td>Toy Story</td>\n",
              "      <td>0.0</td>\n",
              "      <td>8.0</td>\n",
              "      <td>14977.0</td>\n",
              "      <td>[{'id': 779, 'name': 'martial arts'}, {'id': 9...</td>\n",
              "      <td>[{'adult': False, 'gender': 2, 'id': 31, 'know...</td>\n",
              "      <td>[{'adult': False, 'gender': 2, 'id': 7, 'known...</td>\n",
              "      <td>NaN</td>\n",
              "      <td>NaN</td>\n",
              "      <td>None</td>\n",
              "    </tr>\n",
              "    <tr>\n",
              "      <th>1</th>\n",
              "      <td>0.0</td>\n",
              "      <td>/jVeKTyFBkm6CHm2bZMJ0KXRCyzp.jpg</td>\n",
              "      <td>{'id': 495527, 'name': 'Jumanji Collection', '...</td>\n",
              "      <td>65000000.0</td>\n",
              "      <td>[{'id': 12, 'name': 'Adventure'}, {'id': 14, '...</td>\n",
              "      <td>http://www.sonypictures.com/movies/jumanji/</td>\n",
              "      <td>8844.0</td>\n",
              "      <td>tt0113497</td>\n",
              "      <td>en</td>\n",
              "      <td>Jumanji</td>\n",
              "      <td>When siblings Judy and Peter discover an encha...</td>\n",
              "      <td>20.481</td>\n",
              "      <td>/6aGn2X51bahFoOI8wE1h2VGTgcH.jpg</td>\n",
              "      <td>[{'id': 559, 'logo_path': '/jqWioYeGSyTLuHth01...</td>\n",
              "      <td>[{'iso_3166_1': 'US', 'name': 'United States o...</td>\n",
              "      <td>1995-12-15</td>\n",
              "      <td>262797249.0</td>\n",
              "      <td>104.0</td>\n",
              "      <td>[{'english_name': 'English', 'iso_639_1': 'en'...</td>\n",
              "      <td>Released</td>\n",
              "      <td>Roll the dice and unleash the excitement!</td>\n",
              "      <td>Jumanji</td>\n",
              "      <td>0.0</td>\n",
              "      <td>7.2</td>\n",
              "      <td>8732.0</td>\n",
              "      <td>[{'id': 7035, 'name': 'giant insect'}, {'id': ...</td>\n",
              "      <td>[{'adult': False, 'gender': 2, 'id': 2157, 'kn...</td>\n",
              "      <td>[{'adult': False, 'gender': 2, 'id': 511, 'kno...</td>\n",
              "      <td>NaN</td>\n",
              "      <td>NaN</td>\n",
              "      <td>None</td>\n",
              "    </tr>\n",
              "  </tbody>\n",
              "</table>\n",
              "</div>\n",
              "      <button class=\"colab-df-convert\" onclick=\"convertToInteractive('df-c2fd0b83-0bf6-497c-831f-7ac48ca29154')\"\n",
              "              title=\"Convert this dataframe to an interactive table.\"\n",
              "              style=\"display:none;\">\n",
              "        \n",
              "  <svg xmlns=\"http://www.w3.org/2000/svg\" height=\"24px\"viewBox=\"0 0 24 24\"\n",
              "       width=\"24px\">\n",
              "    <path d=\"M0 0h24v24H0V0z\" fill=\"none\"/>\n",
              "    <path d=\"M18.56 5.44l.94 2.06.94-2.06 2.06-.94-2.06-.94-.94-2.06-.94 2.06-2.06.94zm-11 1L8.5 8.5l.94-2.06 2.06-.94-2.06-.94L8.5 2.5l-.94 2.06-2.06.94zm10 10l.94 2.06.94-2.06 2.06-.94-2.06-.94-.94-2.06-.94 2.06-2.06.94z\"/><path d=\"M17.41 7.96l-1.37-1.37c-.4-.4-.92-.59-1.43-.59-.52 0-1.04.2-1.43.59L10.3 9.45l-7.72 7.72c-.78.78-.78 2.05 0 2.83L4 21.41c.39.39.9.59 1.41.59.51 0 1.02-.2 1.41-.59l7.78-7.78 2.81-2.81c.8-.78.8-2.07 0-2.86zM5.41 20L4 18.59l7.72-7.72 1.47 1.35L5.41 20z\"/>\n",
              "  </svg>\n",
              "      </button>\n",
              "      \n",
              "  <style>\n",
              "    .colab-df-container {\n",
              "      display:flex;\n",
              "      flex-wrap:wrap;\n",
              "      gap: 12px;\n",
              "    }\n",
              "\n",
              "    .colab-df-convert {\n",
              "      background-color: #E8F0FE;\n",
              "      border: none;\n",
              "      border-radius: 50%;\n",
              "      cursor: pointer;\n",
              "      display: none;\n",
              "      fill: #1967D2;\n",
              "      height: 32px;\n",
              "      padding: 0 0 0 0;\n",
              "      width: 32px;\n",
              "    }\n",
              "\n",
              "    .colab-df-convert:hover {\n",
              "      background-color: #E2EBFA;\n",
              "      box-shadow: 0px 1px 2px rgba(60, 64, 67, 0.3), 0px 1px 3px 1px rgba(60, 64, 67, 0.15);\n",
              "      fill: #174EA6;\n",
              "    }\n",
              "\n",
              "    [theme=dark] .colab-df-convert {\n",
              "      background-color: #3B4455;\n",
              "      fill: #D2E3FC;\n",
              "    }\n",
              "\n",
              "    [theme=dark] .colab-df-convert:hover {\n",
              "      background-color: #434B5C;\n",
              "      box-shadow: 0px 1px 3px 1px rgba(0, 0, 0, 0.15);\n",
              "      filter: drop-shadow(0px 1px 2px rgba(0, 0, 0, 0.3));\n",
              "      fill: #FFFFFF;\n",
              "    }\n",
              "  </style>\n",
              "\n",
              "      <script>\n",
              "        const buttonEl =\n",
              "          document.querySelector('#df-c2fd0b83-0bf6-497c-831f-7ac48ca29154 button.colab-df-convert');\n",
              "        buttonEl.style.display =\n",
              "          google.colab.kernel.accessAllowed ? 'block' : 'none';\n",
              "\n",
              "        async function convertToInteractive(key) {\n",
              "          const element = document.querySelector('#df-c2fd0b83-0bf6-497c-831f-7ac48ca29154');\n",
              "          const dataTable =\n",
              "            await google.colab.kernel.invokeFunction('convertToInteractive',\n",
              "                                                     [key], {});\n",
              "          if (!dataTable) return;\n",
              "\n",
              "          const docLinkHtml = 'Like what you see? Visit the ' +\n",
              "            '<a target=\"_blank\" href=https://colab.research.google.com/notebooks/data_table.ipynb>data table notebook</a>'\n",
              "            + ' to learn more about interactive tables.';\n",
              "          element.innerHTML = '';\n",
              "          dataTable['output_type'] = 'display_data';\n",
              "          await google.colab.output.renderOutput(dataTable, element);\n",
              "          const docLink = document.createElement('div');\n",
              "          docLink.innerHTML = docLinkHtml;\n",
              "          element.appendChild(docLink);\n",
              "        }\n",
              "      </script>\n",
              "    </div>\n",
              "  </div>\n",
              "  "
            ],
            "text/plain": [
              "   adult                     backdrop_path  ... status_code  status_message\n",
              "0    0.0  /3Rfvhy1Nl6sSGJwyjb0QiZzZYlB.jpg  ...         NaN            None\n",
              "1    0.0  /jVeKTyFBkm6CHm2bZMJ0KXRCyzp.jpg  ...         NaN            None\n",
              "\n",
              "[2 rows x 31 columns]"
            ]
          },
          "metadata": {},
          "execution_count": 5
        }
      ]
    },
    {
      "cell_type": "markdown",
      "source": [
        "### 전처리"
      ],
      "metadata": {
        "id": "zVEYPMHrl7Jd"
      }
    },
    {
      "cell_type": "markdown",
      "source": [
        "- 리스트, 딕셔너리등으로 저장되어 있던 데이터를 필요한 형태로 전처리"
      ],
      "metadata": {
        "id": "4Ba2riwsmHrZ"
      }
    },
    {
      "cell_type": "code",
      "source": [
        "movie_df = movie_df.drop(['success', 'status_code', 'status_message'], axis=1).dropna(how='all')\n",
        "movie_df['genres'] = movie_df['genres'].apply(lambda x: [genre['name'] for genre in x] if isinstance(x, list) else [])\n",
        "movie_df['keywords'] = movie_df['keywords'].apply(lambda x: [keyword['name'] for keyword in x] if isinstance(x, list) else [])\n",
        "movie_df['cast_5'] = movie_df['cast'].apply(lambda x: [cast['name'] for cast in x][:5] if isinstance(x, list) else [])\n",
        "movie_df['character_5'] = movie_df['cast'].apply(lambda x: [cast['character'] for cast in x][:5] if isinstance(x, list) else [])\n",
        "movie_df['director'] = movie_df['crew'].apply(lambda x: [crew['name'] for crew in x if crew['job'] == 'Director'] if isinstance(x, list) else [])\n",
        "movie_df['production_company'] = movie_df['production_companies'].apply(lambda x: [company['name'] for company in x] if isinstance(x, list) else [])\n",
        "movie_df['id'] = movie_df['id'].astype(int)"
      ],
      "metadata": {
        "id": "saPqDE5EdIXp"
      },
      "execution_count": null,
      "outputs": []
    },
    {
      "cell_type": "markdown",
      "source": [
        "# Word2Vec 학습 준비"
      ],
      "metadata": {
        "id": "--SiP1E0mOVy"
      }
    },
    {
      "cell_type": "markdown",
      "source": [
        "### 필요 라이브러리 import"
      ],
      "metadata": {
        "id": "YWa1o01amSGU"
      }
    },
    {
      "cell_type": "code",
      "source": [
        "from gensim.models import Word2Vec\n",
        "import os\n",
        "import pandas as pd\n",
        "from ast import literal_eval\n",
        "import nltk\n",
        "from nltk.tokenize import sent_tokenize,word_tokenize\n",
        "from nltk.corpus import stopwords\n",
        "from nltk.stem import SnowballStemmer\n",
        "import re\n",
        "\n",
        "import multiprocessing\n",
        "import warnings\n",
        "warnings.filterwarnings(\"ignore\")"
      ],
      "metadata": {
        "id": "CSaYBJ5jdIfG"
      },
      "execution_count": null,
      "outputs": []
    },
    {
      "cell_type": "markdown",
      "source": [
        "### 학습 데이터 전처리"
      ],
      "metadata": {
        "id": "P5rXOPcCmUD6"
      }
    },
    {
      "cell_type": "markdown",
      "source": [
        "영화간의 유사도를 구하기 위해 키워드, 장르, 제목, 감독, 배우, 캐릭터, 제작사를 한 문장(corpus)로 만들어 주기"
      ],
      "metadata": {
        "id": "h7gBo95QmVyH"
      }
    },
    {
      "cell_type": "code",
      "source": [
        "features = ['keywords', 'genres', 'title', 'director', 'cast_5', 'character_5', 'production_company']\n",
        "\n",
        "movie_df['corpus']  = ''\n",
        "\n",
        "for feat in features:\n",
        "    if feat == 'title':\n",
        "        movie_df['corpus'] += \" \" + movie_df[feat].apply(lambda x : x.replace(' ', '').lower())\n",
        "    elif feat in ['keywords', 'genres']:\n",
        "        movie_df['corpus'] += \" \" + movie_df[feat].apply(lambda x: \" \".join(x))\n",
        "    else:\n",
        "        movie_df['corpus'] += \" \" + movie_df[feat].apply(lambda x: \" \".join([xx.replace(\" \", \"\") for xx in x if isinstance(xx, str)]))"
      ],
      "metadata": {
        "id": "nbtUtv1EdIhL"
      },
      "execution_count": null,
      "outputs": []
    },
    {
      "cell_type": "code",
      "source": [
        "movie_df['corpus'][0]"
      ],
      "metadata": {
        "colab": {
          "base_uri": "https://localhost:8080/",
          "height": 72
        },
        "id": "fDlanC8uf571",
        "outputId": "0ba1f353-3e93-4448-ace3-d882341dc4bb"
      },
      "execution_count": null,
      "outputs": [
        {
          "output_type": "execute_result",
          "data": {
            "application/vnd.google.colaboratory.intrinsic+json": {
              "type": "string"
            },
            "text/plain": [
              "' martial arts jealousy friendship bullying elementary school friends rivalry rescue mission buddy walkie talkie boy next door new toy neighborhood toy comes to life resourcefulness Animation Adventure Family Comedy toystory JohnLasseter TomHanks TimAllen DonRickles JimVarney WallaceShawn Woody(voice) BuzzLightyear(voice) Mr.PotatoHead(voice) SlinkyDog(voice) Rex(voice) Pixar'"
            ]
          },
          "metadata": {},
          "execution_count": 9
        }
      ]
    },
    {
      "cell_type": "markdown",
      "source": [
        "corpus 전처리"
      ],
      "metadata": {
        "id": "XabSFrtNmhEh"
      }
    },
    {
      "cell_type": "code",
      "source": [
        "# 모든 문자를 소문자로\n",
        "movie_df['corpus'] = movie_df['corpus'].apply(lambda x : x.lower())\n",
        "\n",
        "# 정규표현식 적용 -> 특수문자 제거\n",
        "movie_df['corpus'] = movie_df['corpus'].apply(lambda x : re.sub(\"[^a-zA-Z]\",\" \",x))"
      ],
      "metadata": {
        "id": "s13ncuhWjXkO"
      },
      "execution_count": null,
      "outputs": []
    },
    {
      "cell_type": "markdown",
      "source": [
        "tokenize"
      ],
      "metadata": {
        "id": "RtywyyVJmvkZ"
      }
    },
    {
      "cell_type": "code",
      "source": [
        "# corpus(말뭉치)를 tokenize\n",
        "def tokenize(data):\n",
        "    temp = list(data)\n",
        "    temp = [str.lower(i) for i in temp]\n",
        "    temp = [list(i.split(' ')) for i in temp]\n",
        "\n",
        "    return temp\n",
        "\n",
        "tokenized_data = tokenize(movie_df[\"corpus\"])"
      ],
      "metadata": {
        "id": "MlzgJH_kmtxe"
      },
      "execution_count": null,
      "outputs": []
    },
    {
      "cell_type": "markdown",
      "source": [
        "불용어 제거"
      ],
      "metadata": {
        "id": "94axPGLTmr76"
      }
    },
    {
      "cell_type": "code",
      "source": [
        "# 불용어 제거\n",
        "\n",
        "# 불용어 목록 다운로드\n",
        "nltk.download('stopwords')\n",
        "\n",
        "def remove_stop_words(data):\n",
        "    # 불용어(영어) 목록 불러오기\n",
        "    stoplist=set(stopwords.words('english'))\n",
        "    text=[]\n",
        "    # 불용어 제거\n",
        "    for i in data:\n",
        "        text.append([word.replace('.', '') for word in i if word not in stoplist ])\n",
        "    return text\n",
        "\n",
        "# 공백 '' 제거\n",
        "def remove_empty(data):\n",
        "    text = []\n",
        "    for i in data:\n",
        "        text.append([word for word in i if word != ''])\n",
        "    return text\n",
        "\n",
        "tokenized_data = remove_stop_words(tokenized_data)\n",
        "tokenized_data = remove_empty(tokenized_data)"
      ],
      "metadata": {
        "colab": {
          "base_uri": "https://localhost:8080/"
        },
        "id": "KzsFDYXbkw6S",
        "outputId": "7840c837-6001-47e8-9789-bf7ccdf53f62"
      },
      "execution_count": null,
      "outputs": [
        {
          "output_type": "stream",
          "name": "stdout",
          "text": [
            "[nltk_data] Downloading package stopwords to /root/nltk_data...\n",
            "[nltk_data]   Unzipping corpora/stopwords.zip.\n"
          ]
        }
      ]
    },
    {
      "cell_type": "markdown",
      "source": [
        "# Word2Vec 학습"
      ],
      "metadata": {
        "id": "T4OA7ZSmm2BR"
      }
    },
    {
      "cell_type": "code",
      "source": [
        "# Word2Vec 모델 정의\n",
        "# window : window size, 주변 몇개 단어까지 볼지\n",
        "# min_count : min_count 개수 이하로 등장한 단어는 사용 안함\n",
        "# sg : skipgram을 사용한다는 뜻 (CBOW 말고)\n",
        "# workers : multiprocess? 계산하는데 좋다는데 잘 모르는데 복붙함\n",
        "def train_model(data):\n",
        "    model_=Word2Vec(data, window=10, min_count=1, sg=1, workers = multiprocessing.cpu_count())\n",
        "    return model_\n",
        "\n",
        "w2v_model = train_model(tokenized_data)\n"
      ],
      "metadata": {
        "id": "o5xv6o2ak390"
      },
      "execution_count": null,
      "outputs": []
    },
    {
      "cell_type": "markdown",
      "source": [
        "모델 저장"
      ],
      "metadata": {
        "id": "OusYMLgJnN4H"
      }
    },
    {
      "cell_type": "code",
      "source": [
        "# w2v_model.save('word2vec_tmdb.model')"
      ],
      "metadata": {
        "id": "TPTM5efHlxKl"
      },
      "execution_count": null,
      "outputs": []
    },
    {
      "cell_type": "markdown",
      "source": [
        "모델 불러오기"
      ],
      "metadata": {
        "id": "WmwpWR9qnM5b"
      }
    },
    {
      "cell_type": "code",
      "source": [
        "# from gensim.models import Word2Vec\n",
        "# model = Word2Vec.load('word2vec_tmdb.model')"
      ],
      "metadata": {
        "id": "dSkxVeTYnL1U"
      },
      "execution_count": null,
      "outputs": []
    },
    {
      "cell_type": "markdown",
      "source": [
        "# 추천"
      ],
      "metadata": {
        "id": "rwJtO7uam-Tq"
      }
    },
    {
      "cell_type": "markdown",
      "source": [
        "각 영화에 해당하는 말뭉치(corpus) 간의 n_similarity 계산"
      ],
      "metadata": {
        "id": "eyLBZq29nB8B"
      }
    },
    {
      "cell_type": "code",
      "source": [
        "# 추천 함수 정의\n",
        "def recommend1(movie_id, model, topn=10):\n",
        "    # 추천 목록 저장할 리스트 정의\n",
        "    feats = ['title', 'keywords', 'genres', 'director', 'cast_5', 'character_5', 'poster_path', 'popularity', 'tokenized_data']\n",
        "    similar_df = movie_df[feats].copy()\n",
        "\n",
        "    corpus_search = movie_df.loc[movie_id]['tokenized_data']\n",
        "    similar_df['score'] = similar_df['tokenized_data'].apply(lambda x: model.n_similarity(x, corpus_search))\n",
        "\n",
        "    # 데이터프레임을 유사도순으로 정렬 후\n",
        "    # 상위 topn(기본 10)개 만큼 출력\n",
        "    return similar_df.sort_values(by='score',ascending=False)[:topn]#['title']"
      ],
      "metadata": {
        "id": "QwdSYb9cwhUM"
      },
      "execution_count": null,
      "outputs": []
    },
    {
      "cell_type": "code",
      "source": [
        "recommend1(0, model)"
      ],
      "metadata": {
        "colab": {
          "base_uri": "https://localhost:8080/",
          "height": 1000
        },
        "id": "vnkDOMlp_61g",
        "outputId": "414442ba-8411-4166-bb7d-d506712f03a8"
      },
      "execution_count": null,
      "outputs": [
        {
          "output_type": "execute_result",
          "data": {
            "text/html": [
              "\n",
              "  <div id=\"df-0bf34b6d-014f-40d5-a93a-55a8e400970a\">\n",
              "    <div class=\"colab-df-container\">\n",
              "      <div>\n",
              "<style scoped>\n",
              "    .dataframe tbody tr th:only-of-type {\n",
              "        vertical-align: middle;\n",
              "    }\n",
              "\n",
              "    .dataframe tbody tr th {\n",
              "        vertical-align: top;\n",
              "    }\n",
              "\n",
              "    .dataframe thead th {\n",
              "        text-align: right;\n",
              "    }\n",
              "</style>\n",
              "<table border=\"1\" class=\"dataframe\">\n",
              "  <thead>\n",
              "    <tr style=\"text-align: right;\">\n",
              "      <th></th>\n",
              "      <th>title</th>\n",
              "      <th>keywords</th>\n",
              "      <th>genres</th>\n",
              "      <th>director</th>\n",
              "      <th>cast_5</th>\n",
              "      <th>character_5</th>\n",
              "      <th>poster_path</th>\n",
              "      <th>popularity</th>\n",
              "      <th>tokenized_data</th>\n",
              "      <th>score</th>\n",
              "    </tr>\n",
              "  </thead>\n",
              "  <tbody>\n",
              "    <tr>\n",
              "      <th>0</th>\n",
              "      <td>Toy Story</td>\n",
              "      <td>[martial arts, jealousy, friendship, bullying,...</td>\n",
              "      <td>[Animation, Adventure, Family, Comedy]</td>\n",
              "      <td>[John Lasseter]</td>\n",
              "      <td>[Tom Hanks, Tim Allen, Don Rickles, Jim Varney...</td>\n",
              "      <td>[Woody (voice), Buzz Lightyear (voice), Mr. Po...</td>\n",
              "      <td>/uXDfjJbdP4ijW5hWSBrPrlKpxab.jpg</td>\n",
              "      <td>204.942</td>\n",
              "      <td>[martial, arts, jealousy, friendship, bullying...</td>\n",
              "      <td>1.000000</td>\n",
              "    </tr>\n",
              "    <tr>\n",
              "      <th>3003</th>\n",
              "      <td>Toy Story 2</td>\n",
              "      <td>[museum, prosecution, identity crisis, airplan...</td>\n",
              "      <td>[Animation, Comedy, Family]</td>\n",
              "      <td>[John Lasseter]</td>\n",
              "      <td>[Tom Hanks, Tim Allen, Joan Cusack, Kelsey Gra...</td>\n",
              "      <td>[Woody (voice), Buzz Lightyear (voice), Jessie...</td>\n",
              "      <td>/xVhEI1WCgNCCa5I86AqiwuZoog3.jpg</td>\n",
              "      <td>178.279</td>\n",
              "      <td>[museum, prosecution, identity, crisis, airpla...</td>\n",
              "      <td>0.993318</td>\n",
              "    </tr>\n",
              "    <tr>\n",
              "      <th>4761</th>\n",
              "      <td>Monsters, Inc.</td>\n",
              "      <td>[monster, cheating, kidnapping, infant, villai...</td>\n",
              "      <td>[Animation, Comedy, Family]</td>\n",
              "      <td>[Pete Docter]</td>\n",
              "      <td>[John Goodman, Billy Crystal, Mary Gibbs, Stev...</td>\n",
              "      <td>[James 'Sulley' Sullivan (voice), Mike Wazowsk...</td>\n",
              "      <td>/sgheSKxZkttIe8ONsf2sWXPgip3.jpg</td>\n",
              "      <td>215.682</td>\n",
              "      <td>[monster, cheating, kidnapping, infant, villai...</td>\n",
              "      <td>0.992313</td>\n",
              "    </tr>\n",
              "    <tr>\n",
              "      <th>21195</th>\n",
              "      <td>Mr. Peabody &amp; Sherman</td>\n",
              "      <td>[parent child relationship, egypt, intelligenc...</td>\n",
              "      <td>[Animation, Adventure, Family]</td>\n",
              "      <td>[Rob Minkoff]</td>\n",
              "      <td>[Ty Burrell, Max Charles, Ariel Winter, Alliso...</td>\n",
              "      <td>[Mr. Peabody (voice), Sherman (voice), Penny P...</td>\n",
              "      <td>/c6kZC5pvwNIRSxiLL2JFGGc46He.jpg</td>\n",
              "      <td>46.865</td>\n",
              "      <td>[parent, child, relationship, egypt, intellige...</td>\n",
              "      <td>0.989791</td>\n",
              "    </tr>\n",
              "    <tr>\n",
              "      <th>37082</th>\n",
              "      <td>Zootopia</td>\n",
              "      <td>[allegory, lion, hippopotamus, fox, elephant, ...</td>\n",
              "      <td>[Animation, Adventure, Family, Comedy]</td>\n",
              "      <td>[Byron Howard, Rich Moore]</td>\n",
              "      <td>[Jason Bateman, Ginnifer Goodwin, Idris Elba, ...</td>\n",
              "      <td>[Nick Wilde (voice), Judy Hopps (voice), Chief...</td>\n",
              "      <td>/hlK0e0wAQ3VLuJcsfIYPvb4JVud.jpg</td>\n",
              "      <td>110.009</td>\n",
              "      <td>[allegory, lion, hippopotamus, fox, elephant, ...</td>\n",
              "      <td>0.989486</td>\n",
              "    </tr>\n",
              "    <tr>\n",
              "      <th>12725</th>\n",
              "      <td>Madagascar: Escape 2 Africa</td>\n",
              "      <td>[africa, jealousy, dance, hunger, lion, zoo, h...</td>\n",
              "      <td>[Family, Adventure, Animation, Comedy]</td>\n",
              "      <td>[Eric Darnell, Tom McGrath]</td>\n",
              "      <td>[Ben Stiller, Chris Rock, David Schwimmer, Jad...</td>\n",
              "      <td>[Alex (voice), Marty / Additional Zebras (voic...</td>\n",
              "      <td>/agRbLOHgN46TQO4YdKR462iR7To.jpg</td>\n",
              "      <td>79.366</td>\n",
              "      <td>[africa, jealousy, dance, hunger, lion, zoo, h...</td>\n",
              "      <td>0.989058</td>\n",
              "    </tr>\n",
              "    <tr>\n",
              "      <th>29749</th>\n",
              "      <td>Inside Out</td>\n",
              "      <td>[san francisco, california, minnesota, dream, ...</td>\n",
              "      <td>[Animation, Family, Adventure, Drama, Comedy]</td>\n",
              "      <td>[Pete Docter]</td>\n",
              "      <td>[Amy Poehler, Phyllis Smith, Bill Hader, Kaitl...</td>\n",
              "      <td>[Joy (voice), Sadness (voice), Fear (voice), R...</td>\n",
              "      <td>/2H1TmgdfNtsKlU9jKdeNyYL5y8T.jpg</td>\n",
              "      <td>115.190</td>\n",
              "      <td>[san, francisco, california, minnesota, dream,...</td>\n",
              "      <td>0.988289</td>\n",
              "    </tr>\n",
              "    <tr>\n",
              "      <th>11219</th>\n",
              "      <td>Charlotte's Web</td>\n",
              "      <td>[hero, barn, spider, pig, friendship, spring, ...</td>\n",
              "      <td>[Comedy, Family, Fantasy]</td>\n",
              "      <td>[Gary Winick]</td>\n",
              "      <td>[Dakota Fanning, Julia Roberts, Steve Buscemi,...</td>\n",
              "      <td>[Fern Arable, Charlotte the Spider (voice), Te...</td>\n",
              "      <td>/gqg3ruuEDQ6XmXjFGrTDrk58xJg.jpg</td>\n",
              "      <td>18.907</td>\n",
              "      <td>[hero, barn, spider, pig, friendship, spring, ...</td>\n",
              "      <td>0.988009</td>\n",
              "    </tr>\n",
              "    <tr>\n",
              "      <th>18684</th>\n",
              "      <td>Wreck-It Ralph</td>\n",
              "      <td>[support group, product placement, bullying, j...</td>\n",
              "      <td>[Family, Animation, Comedy, Adventure]</td>\n",
              "      <td>[Rich Moore]</td>\n",
              "      <td>[John C. Reilly, Sarah Silverman, Jack McBraye...</td>\n",
              "      <td>[Wreck-It Ralph (voice), Vanellope von Schweet...</td>\n",
              "      <td>/tlboPAzzBu04D89hJ57CZXmF1fx.jpg</td>\n",
              "      <td>136.867</td>\n",
              "      <td>[support, group, product, placement, bullying,...</td>\n",
              "      <td>0.987947</td>\n",
              "    </tr>\n",
              "    <tr>\n",
              "      <th>39405</th>\n",
              "      <td>The Angry Birds Movie</td>\n",
              "      <td>[island, pig, rivalry, anthropomorphism, based...</td>\n",
              "      <td>[Animation, Adventure, Comedy]</td>\n",
              "      <td>[Fergal Reilly, Clay Kaytis]</td>\n",
              "      <td>[Jason Sudeikis, Josh Gad, Danny McBride, Maya...</td>\n",
              "      <td>[Red (voice), Chuck (voice), Bomb (voice), Mat...</td>\n",
              "      <td>/nsaaZryqabtrdKwXcNud2Bm39mu.jpg</td>\n",
              "      <td>47.088</td>\n",
              "      <td>[island, pig, rivalry, anthropomorphism, based...</td>\n",
              "      <td>0.987153</td>\n",
              "    </tr>\n",
              "  </tbody>\n",
              "</table>\n",
              "</div>\n",
              "      <button class=\"colab-df-convert\" onclick=\"convertToInteractive('df-0bf34b6d-014f-40d5-a93a-55a8e400970a')\"\n",
              "              title=\"Convert this dataframe to an interactive table.\"\n",
              "              style=\"display:none;\">\n",
              "        \n",
              "  <svg xmlns=\"http://www.w3.org/2000/svg\" height=\"24px\"viewBox=\"0 0 24 24\"\n",
              "       width=\"24px\">\n",
              "    <path d=\"M0 0h24v24H0V0z\" fill=\"none\"/>\n",
              "    <path d=\"M18.56 5.44l.94 2.06.94-2.06 2.06-.94-2.06-.94-.94-2.06-.94 2.06-2.06.94zm-11 1L8.5 8.5l.94-2.06 2.06-.94-2.06-.94L8.5 2.5l-.94 2.06-2.06.94zm10 10l.94 2.06.94-2.06 2.06-.94-2.06-.94-.94-2.06-.94 2.06-2.06.94z\"/><path d=\"M17.41 7.96l-1.37-1.37c-.4-.4-.92-.59-1.43-.59-.52 0-1.04.2-1.43.59L10.3 9.45l-7.72 7.72c-.78.78-.78 2.05 0 2.83L4 21.41c.39.39.9.59 1.41.59.51 0 1.02-.2 1.41-.59l7.78-7.78 2.81-2.81c.8-.78.8-2.07 0-2.86zM5.41 20L4 18.59l7.72-7.72 1.47 1.35L5.41 20z\"/>\n",
              "  </svg>\n",
              "      </button>\n",
              "      \n",
              "  <style>\n",
              "    .colab-df-container {\n",
              "      display:flex;\n",
              "      flex-wrap:wrap;\n",
              "      gap: 12px;\n",
              "    }\n",
              "\n",
              "    .colab-df-convert {\n",
              "      background-color: #E8F0FE;\n",
              "      border: none;\n",
              "      border-radius: 50%;\n",
              "      cursor: pointer;\n",
              "      display: none;\n",
              "      fill: #1967D2;\n",
              "      height: 32px;\n",
              "      padding: 0 0 0 0;\n",
              "      width: 32px;\n",
              "    }\n",
              "\n",
              "    .colab-df-convert:hover {\n",
              "      background-color: #E2EBFA;\n",
              "      box-shadow: 0px 1px 2px rgba(60, 64, 67, 0.3), 0px 1px 3px 1px rgba(60, 64, 67, 0.15);\n",
              "      fill: #174EA6;\n",
              "    }\n",
              "\n",
              "    [theme=dark] .colab-df-convert {\n",
              "      background-color: #3B4455;\n",
              "      fill: #D2E3FC;\n",
              "    }\n",
              "\n",
              "    [theme=dark] .colab-df-convert:hover {\n",
              "      background-color: #434B5C;\n",
              "      box-shadow: 0px 1px 3px 1px rgba(0, 0, 0, 0.15);\n",
              "      filter: drop-shadow(0px 1px 2px rgba(0, 0, 0, 0.3));\n",
              "      fill: #FFFFFF;\n",
              "    }\n",
              "  </style>\n",
              "\n",
              "      <script>\n",
              "        const buttonEl =\n",
              "          document.querySelector('#df-0bf34b6d-014f-40d5-a93a-55a8e400970a button.colab-df-convert');\n",
              "        buttonEl.style.display =\n",
              "          google.colab.kernel.accessAllowed ? 'block' : 'none';\n",
              "\n",
              "        async function convertToInteractive(key) {\n",
              "          const element = document.querySelector('#df-0bf34b6d-014f-40d5-a93a-55a8e400970a');\n",
              "          const dataTable =\n",
              "            await google.colab.kernel.invokeFunction('convertToInteractive',\n",
              "                                                     [key], {});\n",
              "          if (!dataTable) return;\n",
              "\n",
              "          const docLinkHtml = 'Like what you see? Visit the ' +\n",
              "            '<a target=\"_blank\" href=https://colab.research.google.com/notebooks/data_table.ipynb>data table notebook</a>'\n",
              "            + ' to learn more about interactive tables.';\n",
              "          element.innerHTML = '';\n",
              "          dataTable['output_type'] = 'display_data';\n",
              "          await google.colab.output.renderOutput(dataTable, element);\n",
              "          const docLink = document.createElement('div');\n",
              "          docLink.innerHTML = docLinkHtml;\n",
              "          element.appendChild(docLink);\n",
              "        }\n",
              "      </script>\n",
              "    </div>\n",
              "  </div>\n",
              "  "
            ],
            "text/plain": [
              "                             title  ...     score\n",
              "0                        Toy Story  ...  1.000000\n",
              "3003                   Toy Story 2  ...  0.993318\n",
              "4761                Monsters, Inc.  ...  0.992313\n",
              "21195        Mr. Peabody & Sherman  ...  0.989791\n",
              "37082                     Zootopia  ...  0.989486\n",
              "12725  Madagascar: Escape 2 Africa  ...  0.989058\n",
              "29749                   Inside Out  ...  0.988289\n",
              "11219              Charlotte's Web  ...  0.988009\n",
              "18684               Wreck-It Ralph  ...  0.987947\n",
              "39405        The Angry Birds Movie  ...  0.987153\n",
              "\n",
              "[10 rows x 10 columns]"
            ]
          },
          "metadata": {},
          "execution_count": 30
        }
      ]
    },
    {
      "cell_type": "markdown",
      "source": [
        "## Similarity Matrix 만들기"
      ],
      "metadata": {
        "id": "VaWnZ7Vqne5p"
      }
    },
    {
      "cell_type": "markdown",
      "source": [
        "- 영화 추천시마다 n_similarity 계산하면 시간이 너무 오래 걸림\n",
        "- Similarity Matrix를 미리 계산 후 저장해놓고 추천시 사용"
      ],
      "metadata": {
        "id": "u01HgqeQnkgF"
      }
    },
    {
      "cell_type": "markdown",
      "source": [
        "### 데이터 전처리"
      ],
      "metadata": {
        "id": "8Bv-U0TroWEj"
      }
    },
    {
      "cell_type": "markdown",
      "source": [
        ">모든 영화 데이터간의(62316개)의 유사도를 모두 계산하기에는 메모리가 부족함  \n",
        " -> popularity가 20 이상인 영화만 골라서 계산"
      ],
      "metadata": {
        "id": "m1FRbDWNoYN2"
      }
    },
    {
      "cell_type": "code",
      "source": [
        "# tokenize 및 전처리 했던 단어들 데이터프레임에 저장\n",
        "movie_df['tokenized_data'] = tokenized_data\n",
        "# 결측치 제거\n",
        "movie_df= movie_df.drop(movie_df[movie_df['tokenized_data'].apply(len) == 0].index)\n",
        "# popularity 20 이상인 영화만 저장\n",
        "movie_df = movie_df[movie_df.popularity > 20]"
      ],
      "metadata": {
        "id": "0C3iEgbxu35J"
      },
      "execution_count": null,
      "outputs": []
    },
    {
      "cell_type": "markdown",
      "source": [
        "> 각 문장을 벡터로 변환  \n",
        "`gensim`의 `n_similarity` 계산 방식: 각 문장 내 단어 벡터들의 평균으로 계산"
      ],
      "metadata": {
        "id": "Ca9WJwrKpJ74"
      }
    },
    {
      "cell_type": "code",
      "source": [
        "from tqdm.notebook import tqdm\n",
        "tqdm.pandas()\n",
        "\n",
        "def text2vec(word_list, model=model):\n",
        "    total_vec = np.zeros(100,)\n",
        "    cnt = 0\n",
        "    for word in word_list:\n",
        "        try:\n",
        "            total_vec += model.wv.word_vec(word)\n",
        "            cnt += 1\n",
        "        except:\n",
        "            pass\n",
        "    total_vec /= cnt\n",
        "    return total_vec\n",
        "\n",
        "movie_df['word_vec'] = movie_df['tokenized_data'].progress_apply(text2vec)"
      ],
      "metadata": {
        "colab": {
          "base_uri": "https://localhost:8080/",
          "height": 49,
          "referenced_widgets": [
            "6711ee82ed454297acb006d6ba577538",
            "22a15e65a84f42b5822ad32a8b5b34d8",
            "20067b23696440948a29df3b25c7f4e6",
            "1a6075a320e9402fa978884851dd16d4",
            "e7107a762af74bf2949e3b2a282814e9",
            "2b682104ffd74b7d85713e18e9e43a60",
            "db564d4639c645258490f32568562e64",
            "9d8b1af6803042819851b3f02c5b2cbe",
            "2ffd49018cbb4063953afc2a92392447",
            "b152b8da9e2847989390d870ad5f2cf5",
            "8c9a746f51ad44dbb4bf5557672e29c2"
          ]
        },
        "id": "b2n3Jzni992v",
        "outputId": "7acbd734-7b5a-4252-9c1d-9c6daa0500a7"
      },
      "execution_count": null,
      "outputs": [
        {
          "output_type": "display_data",
          "data": {
            "application/vnd.jupyter.widget-view+json": {
              "model_id": "6711ee82ed454297acb006d6ba577538",
              "version_minor": 0,
              "version_major": 2
            },
            "text/plain": [
              "  0%|          | 0/22824 [00:00<?, ?it/s]"
            ]
          },
          "metadata": {}
        }
      ]
    },
    {
      "cell_type": "markdown",
      "source": [
        "> 문장 벡터들간의 코사인 유사도 계산"
      ],
      "metadata": {
        "id": "Meamlt86plJs"
      }
    },
    {
      "cell_type": "code",
      "source": [
        "from sklearn.metrics.pairwise import cosine_similarity\n",
        "\n",
        "similarity_matrix = cosine_similarity(np.array([list(x) for x in movie_df['word_vec']]))"
      ],
      "metadata": {
        "id": "BfucbdTT-Z58"
      },
      "execution_count": null,
      "outputs": []
    },
    {
      "cell_type": "markdown",
      "source": [
        "> 저장"
      ],
      "metadata": {
        "id": "Y9LZy040po4y"
      }
    },
    {
      "cell_type": "code",
      "source": [
        "import pickle\n",
        "pickle.dump(similarity_matrix,open('similarity_matrix.pkl','wb'))\n",
        "\n",
        "# 영화 추천시 필요한 feature들만 뽑아서 저장\n",
        "features = ['id', 'imdb_id', 'title', 'overview', 'genres', 'keywords', 'poster_path', 'popularity', \n",
        "            'production_company', 'director', 'character_5', 'cast_5', \n",
        "            'vote_count', 'vote_average', 'runtime', 'release_date',\n",
        "            'production_companies', 'original_language']\n",
        "\n",
        "movie_df[features].to_json('tmdb_popular.json')"
      ],
      "metadata": {
        "id": "eccw3gVN-yyT"
      },
      "execution_count": null,
      "outputs": []
    },
    {
      "cell_type": "markdown",
      "source": [
        "### Similarity matrix 기반으로 영화 추천"
      ],
      "metadata": {
        "id": "TfKYjsHqpquV"
      }
    },
    {
      "cell_type": "code",
      "source": [
        "def recommend_mat(movie_id):\n",
        "    sim = sorted(list(enumerate(similarity_matrix[movie_id])), reverse=True, key = lambda x: x[1])\n",
        "    for i in sim[:10]:\n",
        "        print(movie_df.iloc[i[0]].title, i[0])"
      ],
      "metadata": {
        "id": "xECr_vUeAjIL"
      },
      "execution_count": null,
      "outputs": []
    },
    {
      "cell_type": "code",
      "source": [
        "recommend_mat(12320)"
      ],
      "metadata": {
        "colab": {
          "base_uri": "https://localhost:8080/"
        },
        "id": "fwzT8vetByfM",
        "outputId": "f8d787dc-f960-475f-bf19-57653da3488c"
      },
      "execution_count": null,
      "outputs": [
        {
          "output_type": "stream",
          "name": "stdout",
          "text": [
            "Captain America: The Winter Soldier 12320\n",
            "Iron Man 2 9717\n",
            "Avengers: Age of Ultron 13533\n",
            "Avengers: Infinity War 13541\n",
            "Captain America: Civil War 13545\n",
            "Iron Man 3 11675\n",
            "The Avengers 10610\n",
            "Iron Man 8518\n",
            "Man of Steel 11734\n",
            "Thor: Ragnarok 13543\n"
          ]
        }
      ]
    }
  ]
}