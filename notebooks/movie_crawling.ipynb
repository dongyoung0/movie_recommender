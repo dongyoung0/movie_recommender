{
  "nbformat": 4,
  "nbformat_minor": 0,
  "metadata": {
    "colab": {
      "name": "movie_crawling.ipynb",
      "provenance": [],
      "collapsed_sections": []
    },
    "kernelspec": {
      "name": "python3",
      "display_name": "Python 3"
    },
    "language_info": {
      "name": "python"
    }
  },
  "cells": [
    {
      "cell_type": "markdown",
      "source": [
        "## 메타데이터 불러오기"
      ],
      "metadata": {
        "id": "GPKoL3tmrCjA"
      }
    },
    {
      "cell_type": "markdown",
      "source": [
        "- MovieLens 25M Dataset(https://grouplens.org/datasets/movielens/25m/) 기준\n",
        "- 위 데이터에 없는 keyword, poster_path, 감독, 출연진 등 정보들 크롤링"
      ],
      "metadata": {
        "id": "SbCgQkQprEcx"
      }
    },
    {
      "cell_type": "code",
      "execution_count": null,
      "metadata": {
        "id": "ojHepsaAqsZl"
      },
      "outputs": [],
      "source": [
        "import pandas as pd\n",
        "import json\n",
        "\n",
        "metadata_df = pd.read_json('../movie_dataset_public_final/raw/metadata.json', lines=True)"
      ]
    },
    {
      "cell_type": "markdown",
      "source": [
        "## IMDB 크롤링"
      ],
      "metadata": {
        "id": "X1DcnLOzTtQu"
      }
    },
    {
      "cell_type": "code",
      "source": [
        "!pip install imdbpy"
      ],
      "metadata": {
        "colab": {
          "base_uri": "https://localhost:8080/"
        },
        "id": "Y-3tdUJrdOAl",
        "outputId": "d8718618-667d-44b7-a07c-d43684544d00"
      },
      "execution_count": null,
      "outputs": [
        {
          "output_type": "stream",
          "name": "stdout",
          "text": [
            "Collecting imdbpy\n",
            "  Downloading IMDbPY-2021.4.18-py3-none-any.whl (298 kB)\n",
            "\u001b[?25l\r\u001b[K     |█                               | 10 kB 24.3 MB/s eta 0:00:01\r\u001b[K     |██▏                             | 20 kB 28.1 MB/s eta 0:00:01\r\u001b[K     |███▎                            | 30 kB 31.0 MB/s eta 0:00:01\r\u001b[K     |████▍                           | 40 kB 34.7 MB/s eta 0:00:01\r\u001b[K     |█████▌                          | 51 kB 36.8 MB/s eta 0:00:01\r\u001b[K     |██████▋                         | 61 kB 27.3 MB/s eta 0:00:01\r\u001b[K     |███████▊                        | 71 kB 22.7 MB/s eta 0:00:01\r\u001b[K     |████████▉                       | 81 kB 23.7 MB/s eta 0:00:01\r\u001b[K     |█████████▉                      | 92 kB 22.2 MB/s eta 0:00:01\r\u001b[K     |███████████                     | 102 kB 23.6 MB/s eta 0:00:01\r\u001b[K     |████████████                    | 112 kB 23.6 MB/s eta 0:00:01\r\u001b[K     |█████████████▏                  | 122 kB 23.6 MB/s eta 0:00:01\r\u001b[K     |██████████████▎                 | 133 kB 23.6 MB/s eta 0:00:01\r\u001b[K     |███████████████▍                | 143 kB 23.6 MB/s eta 0:00:01\r\u001b[K     |████████████████▌               | 153 kB 23.6 MB/s eta 0:00:01\r\u001b[K     |█████████████████▋              | 163 kB 23.6 MB/s eta 0:00:01\r\u001b[K     |██████████████████▋             | 174 kB 23.6 MB/s eta 0:00:01\r\u001b[K     |███████████████████▊            | 184 kB 23.6 MB/s eta 0:00:01\r\u001b[K     |████████████████████▉           | 194 kB 23.6 MB/s eta 0:00:01\r\u001b[K     |██████████████████████          | 204 kB 23.6 MB/s eta 0:00:01\r\u001b[K     |███████████████████████         | 215 kB 23.6 MB/s eta 0:00:01\r\u001b[K     |████████████████████████▏       | 225 kB 23.6 MB/s eta 0:00:01\r\u001b[K     |█████████████████████████▎      | 235 kB 23.6 MB/s eta 0:00:01\r\u001b[K     |██████████████████████████▍     | 245 kB 23.6 MB/s eta 0:00:01\r\u001b[K     |███████████████████████████▍    | 256 kB 23.6 MB/s eta 0:00:01\r\u001b[K     |████████████████████████████▌   | 266 kB 23.6 MB/s eta 0:00:01\r\u001b[K     |█████████████████████████████▋  | 276 kB 23.6 MB/s eta 0:00:01\r\u001b[K     |██████████████████████████████▊ | 286 kB 23.6 MB/s eta 0:00:01\r\u001b[K     |███████████████████████████████▉| 296 kB 23.6 MB/s eta 0:00:01\r\u001b[K     |████████████████████████████████| 298 kB 23.6 MB/s \n",
            "\u001b[?25hRequirement already satisfied: SQLAlchemy in /usr/local/lib/python3.7/dist-packages (from imdbpy) (1.4.31)\n",
            "Requirement already satisfied: lxml in /usr/local/lib/python3.7/dist-packages (from imdbpy) (4.2.6)\n",
            "Requirement already satisfied: importlib-metadata in /usr/local/lib/python3.7/dist-packages (from SQLAlchemy->imdbpy) (4.10.1)\n",
            "Requirement already satisfied: greenlet!=0.4.17 in /usr/local/lib/python3.7/dist-packages (from SQLAlchemy->imdbpy) (1.1.2)\n",
            "Requirement already satisfied: typing-extensions>=3.6.4 in /usr/local/lib/python3.7/dist-packages (from importlib-metadata->SQLAlchemy->imdbpy) (3.10.0.2)\n",
            "Requirement already satisfied: zipp>=0.5 in /usr/local/lib/python3.7/dist-packages (from importlib-metadata->SQLAlchemy->imdbpy) (3.7.0)\n",
            "Installing collected packages: imdbpy\n",
            "Successfully installed imdbpy-2021.4.18\n"
          ]
        }
      ]
    },
    {
      "cell_type": "code",
      "source": [
        "from imdb import IMDb\n",
        "import requests"
      ],
      "metadata": {
        "id": "mGQur0WYcpEJ"
      },
      "execution_count": null,
      "outputs": []
    },
    {
      "cell_type": "code",
      "source": [
        "ia = IMDb()\n",
        "\n",
        "id2metadata = {}\n",
        "\n",
        "for idx, imdbId in tqdm(enumerate(metadata_df['imdbId']), total = len(metadata_df)):\n",
        "    movie = ia.get_movie(imdbId)\n",
        "    temp_metadata = {}\n",
        "    for key in ['title', 'year', 'genre', 'runtimes', 'countries', 'languages', 'box office', 'kind', 'rating', 'votes', 'plot', 'synopsis', 'cover url', 'full-size cover url']:\n",
        "        try: \n",
        "            temp_metadata[key] = movie[key]\n",
        "        except:\n",
        "            temp_metadata[key] = 'No'\n",
        "    id2metadata[imdbId] = temp_metadata\n",
        "    \n",
        "    # if (idx+1) % 1000 == 0:\n",
        "    #     with open('IMDB.json', 'w') as f:\n",
        "    #         json.dump(id2metadata, f)\n",
        "    #     pd.DataFrame(id2metadata).transpose().to_csv('IMDB.csv')"
      ],
      "metadata": {
        "id": "Ra_INTCJdL-_"
      },
      "execution_count": null,
      "outputs": []
    },
    {
      "cell_type": "markdown",
      "source": [
        "# TMDB 크롤링"
      ],
      "metadata": {
        "id": "V41bPwjPcuEx"
      }
    },
    {
      "cell_type": "code",
      "source": [
        "my_key = 'TMDB API key'\n",
        "\n",
        "total_info = []\n",
        "for idx, movie_id in tqdm(enumerate(tmdb_id), total=len(tmdb_id)):\n",
        "\n",
        "    movie_url= f\"https://api.themoviedb.org/3/movie/{movie_id}?api_key={my_key}\"\n",
        "    keyword_url = f\"https://api.themoviedb.org/3/movie/{movie_id}/keywords?api_key={my_key}\"\n",
        "    credit_url = f\"https://api.themoviedb.org/3/movie/{movie_id}/credits?api_key={my_key}\"\n",
        "\n",
        "    movie_response = requests.get(movie_url)\n",
        "    keyword_response = requests.get(keyword_url)\n",
        "    credit_response = requests.get(credit_url)\n",
        "\n",
        "    movie_dict = movie_response.json()\n",
        "    keyword_dict = keyword_response.json()\n",
        "    credit_dict = credit_response.json()\n",
        "\n",
        "    info = {**movie_dict, **keyword_dict, **credit_dict}\n",
        "\n",
        "    # total_info.append(info)\n",
        "    # if idx % 1000 == 0:\n",
        "    #     pd.DataFrame(total_info).to_json('tmdb_crawling.json')\n",
        "    #     pd.DataFrame(total_info).to_csv('tmdb_crawling.csv')\n"
      ],
      "metadata": {
        "colab": {
          "base_uri": "https://localhost:8080/",
          "height": 49,
          "referenced_widgets": [
            "f7df957afe7943aa84d7c0d37c682321",
            "c510d6735ce8474f89fc13a0f0ebb78f",
            "d0fe8cffece546d7af8078a7247494c8",
            "9738cae5e7bd47598cc39cf239b99e30",
            "0891fdc4421f4dd49b1370277481bfb1",
            "63dd175dd47745f6bc7cc586e8f9be4a",
            "e50ce37ce15f4960ae8f9cfe5e19fe72",
            "36e20ed8d9534a10936283f1de838ca2",
            "ca5321acfbe045cc93b7ed34dd5ab97a",
            "b739883880e3489cab8a82c056bb1927",
            "59bdef7aa5a04bdfa86baf772b3d184b"
          ]
        },
        "id": "95ky-zxycwRS",
        "outputId": "6c741957-632e-4f62-a408-4e7eca279add"
      },
      "execution_count": null,
      "outputs": [
        {
          "output_type": "display_data",
          "data": {
            "application/vnd.jupyter.widget-view+json": {
              "model_id": "f7df957afe7943aa84d7c0d37c682321",
              "version_minor": 0,
              "version_major": 2
            },
            "text/plain": [
              "  0%|          | 0/62316 [00:00<?, ?it/s]"
            ]
          },
          "metadata": {}
        }
      ]
    }
  ]
}