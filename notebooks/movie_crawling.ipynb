{
 "cells": [
  {
   "cell_type": "markdown",
   "metadata": {
    "id": "GPKoL3tmrCjA"
   },
   "source": [
    "## 메타데이터 불러오기"
   ]
  },
  {
   "cell_type": "markdown",
   "metadata": {
    "id": "SbCgQkQprEcx"
   },
   "source": [
    "- MovieLens 25M Dataset(https://grouplens.org/datasets/movielens/25m/) 기준\n",
    "- 위 데이터에 없는 keyword, poster_path, 감독, 출연진 등 정보들 크롤링"
   ]
  },
  {
   "cell_type": "code",
   "execution_count": null,
   "metadata": {
    "id": "ojHepsaAqsZl"
   },
   "outputs": [],
   "source": [
    "import pandas as pd\n",
    "import json\n",
    "\n",
    "metadata_df = pd.read_json('../movie_dataset_public_final/raw/metadata.json', lines=True)"
   ]
  },
  {
   "cell_type": "markdown",
   "metadata": {
    "id": "X1DcnLOzTtQu"
   },
   "source": [
    "## IMDB 크롤링"
   ]
  },
  {
   "cell_type": "code",
   "execution_count": null,
   "metadata": {
    "colab": {
     "base_uri": "https://localhost:8080/"
    },
    "id": "Y-3tdUJrdOAl",
    "outputId": "d8718618-667d-44b7-a07c-d43684544d00"
   },
   "outputs": [
    {
     "name": "stdout",
     "output_type": "stream",
     "text": [
      "Collecting imdbpy\n",
      "  Downloading IMDbPY-2021.4.18-py3-none-any.whl (298 kB)\n",
      "\u001b[?25l\r",
      "\u001b[K     |█                               | 10 kB 24.3 MB/s eta 0:00:01\r",
      "\u001b[K     |██▏                             | 20 kB 28.1 MB/s eta 0:00:01\r",
      "\u001b[K     |███▎                            | 30 kB 31.0 MB/s eta 0:00:01\r",
      "\u001b[K     |████▍                           | 40 kB 34.7 MB/s eta 0:00:01\r",
      "\u001b[K     |█████▌                          | 51 kB 36.8 MB/s eta 0:00:01\r",
      "\u001b[K     |██████▋                         | 61 kB 27.3 MB/s eta 0:00:01\r",
      "\u001b[K     |███████▊                        | 71 kB 22.7 MB/s eta 0:00:01\r",
      "\u001b[K     |████████▉                       | 81 kB 23.7 MB/s eta 0:00:01\r",
      "\u001b[K     |█████████▉                      | 92 kB 22.2 MB/s eta 0:00:01\r",
      "\u001b[K     |███████████                     | 102 kB 23.6 MB/s eta 0:00:01\r",
      "\u001b[K     |████████████                    | 112 kB 23.6 MB/s eta 0:00:01\r",
      "\u001b[K     |█████████████▏                  | 122 kB 23.6 MB/s eta 0:00:01\r",
      "\u001b[K     |██████████████▎                 | 133 kB 23.6 MB/s eta 0:00:01\r",
      "\u001b[K     |███████████████▍                | 143 kB 23.6 MB/s eta 0:00:01\r",
      "\u001b[K     |████████████████▌               | 153 kB 23.6 MB/s eta 0:00:01\r",
      "\u001b[K     |█████████████████▋              | 163 kB 23.6 MB/s eta 0:00:01\r",
      "\u001b[K     |██████████████████▋             | 174 kB 23.6 MB/s eta 0:00:01\r",
      "\u001b[K     |███████████████████▊            | 184 kB 23.6 MB/s eta 0:00:01\r",
      "\u001b[K     |████████████████████▉           | 194 kB 23.6 MB/s eta 0:00:01\r",
      "\u001b[K     |██████████████████████          | 204 kB 23.6 MB/s eta 0:00:01\r",
      "\u001b[K     |███████████████████████         | 215 kB 23.6 MB/s eta 0:00:01\r",
      "\u001b[K     |████████████████████████▏       | 225 kB 23.6 MB/s eta 0:00:01\r",
      "\u001b[K     |█████████████████████████▎      | 235 kB 23.6 MB/s eta 0:00:01\r",
      "\u001b[K     |██████████████████████████▍     | 245 kB 23.6 MB/s eta 0:00:01\r",
      "\u001b[K     |███████████████████████████▍    | 256 kB 23.6 MB/s eta 0:00:01\r",
      "\u001b[K     |████████████████████████████▌   | 266 kB 23.6 MB/s eta 0:00:01\r",
      "\u001b[K     |█████████████████████████████▋  | 276 kB 23.6 MB/s eta 0:00:01\r",
      "\u001b[K     |██████████████████████████████▊ | 286 kB 23.6 MB/s eta 0:00:01\r",
      "\u001b[K     |███████████████████████████████▉| 296 kB 23.6 MB/s eta 0:00:01\r",
      "\u001b[K     |████████████████████████████████| 298 kB 23.6 MB/s \n",
      "\u001b[?25hRequirement already satisfied: SQLAlchemy in /usr/local/lib/python3.7/dist-packages (from imdbpy) (1.4.31)\n",
      "Requirement already satisfied: lxml in /usr/local/lib/python3.7/dist-packages (from imdbpy) (4.2.6)\n",
      "Requirement already satisfied: importlib-metadata in /usr/local/lib/python3.7/dist-packages (from SQLAlchemy->imdbpy) (4.10.1)\n",
      "Requirement already satisfied: greenlet!=0.4.17 in /usr/local/lib/python3.7/dist-packages (from SQLAlchemy->imdbpy) (1.1.2)\n",
      "Requirement already satisfied: typing-extensions>=3.6.4 in /usr/local/lib/python3.7/dist-packages (from importlib-metadata->SQLAlchemy->imdbpy) (3.10.0.2)\n",
      "Requirement already satisfied: zipp>=0.5 in /usr/local/lib/python3.7/dist-packages (from importlib-metadata->SQLAlchemy->imdbpy) (3.7.0)\n",
      "Installing collected packages: imdbpy\n",
      "Successfully installed imdbpy-2021.4.18\n"
     ]
    }
   ],
   "source": [
    "!pip install imdbpy"
   ]
  },
  {
   "cell_type": "code",
   "execution_count": null,
   "metadata": {
    "id": "mGQur0WYcpEJ"
   },
   "outputs": [],
   "source": [
    "from imdb import IMDb\n",
    "import requests"
   ]
  },
  {
   "cell_type": "code",
   "execution_count": null,
   "metadata": {
    "id": "Ra_INTCJdL-_"
   },
   "outputs": [],
   "source": [
    "ia = IMDb()\n",
    "\n",
    "id2metadata = {}\n",
    "\n",
    "for idx, imdbId in tqdm(enumerate(metadata_df['imdbId']), total = len(metadata_df)):\n",
    "    movie = ia.get_movie(imdbId)\n",
    "    temp_metadata = {}\n",
    "    for key in ['title', 'year', 'genre', 'runtimes', 'countries', 'languages', 'box office', 'kind', 'rating', 'votes', 'plot', 'synopsis', 'cover url', 'full-size cover url']:\n",
    "        try: \n",
    "            temp_metadata[key] = movie[key]\n",
    "        except:\n",
    "            temp_metadata[key] = 'No'\n",
    "    id2metadata[imdbId] = temp_metadata\n",
    "    \n",
    "    # if (idx+1) % 1000 == 0:\n",
    "    #     with open('IMDB.json', 'w') as f:\n",
    "    #         json.dump(id2metadata, f)\n",
    "    #     pd.DataFrame(id2metadata).transpose().to_csv('IMDB.csv')"
   ]
  },
  {
   "cell_type": "markdown",
   "metadata": {
    "id": "V41bPwjPcuEx"
   },
   "source": [
    "## TMDB 크롤링"
   ]
  },
  {
   "cell_type": "code",
   "execution_count": null,
   "metadata": {
    "colab": {
     "base_uri": "https://localhost:8080/",
     "height": 49,
     "referenced_widgets": [
      "f7df957afe7943aa84d7c0d37c682321",
      "c510d6735ce8474f89fc13a0f0ebb78f",
      "d0fe8cffece546d7af8078a7247494c8",
      "9738cae5e7bd47598cc39cf239b99e30",
      "0891fdc4421f4dd49b1370277481bfb1",
      "63dd175dd47745f6bc7cc586e8f9be4a",
      "e50ce37ce15f4960ae8f9cfe5e19fe72",
      "36e20ed8d9534a10936283f1de838ca2",
      "ca5321acfbe045cc93b7ed34dd5ab97a",
      "b739883880e3489cab8a82c056bb1927",
      "59bdef7aa5a04bdfa86baf772b3d184b"
     ]
    },
    "id": "95ky-zxycwRS",
    "outputId": "6c741957-632e-4f62-a408-4e7eca279add"
   },
   "outputs": [
    {
     "data": {
      "application/vnd.jupyter.widget-view+json": {
       "model_id": "f7df957afe7943aa84d7c0d37c682321",
       "version_major": 2,
       "version_minor": 0
      },
      "text/plain": [
       "  0%|          | 0/62316 [00:00<?, ?it/s]"
      ]
     },
     "metadata": {},
     "output_type": "display_data"
    }
   ],
   "source": [
    "my_key = 'TMDB API key'\n",
    "\n",
    "total_info = []\n",
    "for idx, movie_id in tqdm(enumerate(tmdb_id), total=len(tmdb_id)):\n",
    "\n",
    "    movie_url= f\"https://api.themoviedb.org/3/movie/{movie_id}?api_key={my_key}\"\n",
    "    keyword_url = f\"https://api.themoviedb.org/3/movie/{movie_id}/keywords?api_key={my_key}\"\n",
    "    credit_url = f\"https://api.themoviedb.org/3/movie/{movie_id}/credits?api_key={my_key}\"\n",
    "\n",
    "    movie_response = requests.get(movie_url)\n",
    "    keyword_response = requests.get(keyword_url)\n",
    "    credit_response = requests.get(credit_url)\n",
    "\n",
    "    movie_dict = movie_response.json()\n",
    "    keyword_dict = keyword_response.json()\n",
    "    credit_dict = credit_response.json()\n",
    "\n",
    "    info = {**movie_dict, **keyword_dict, **credit_dict}\n",
    "\n",
    "    # total_info.append(info)\n",
    "    # if idx % 1000 == 0:\n",
    "    #     pd.DataFrame(total_info).to_json('tmdb_crawling.json')\n",
    "    #     pd.DataFrame(total_info).to_csv('tmdb_crawling.csv')\n"
   ]
  },
  {
   "cell_type": "markdown",
   "metadata": {},
   "source": [
    "## MovieLens 크롤링\n",
    "> Grouplens의 MovieLens Dataset보다 더 최근 영화들의 정보를 얻고자 Selenium을 통해 MovieLens(https://movielens.org) 크롤링"
   ]
  },
  {
   "cell_type": "code",
   "execution_count": null,
   "metadata": {},
   "outputs": [],
   "source": [
    "# 필요패키지 import\n",
    "import numpy as np\n",
    "import pandas as pd\n",
    "import time\n",
    "import requests # 크롤링에 사용하는 패키지\n",
    "from bs4 import BeautifulSoup # html 변환에 사용함\n",
    "import json\n",
    "from selenium import webdriver\n",
    "from selenium.webdriver.common.keys import Keys\n",
    "\n",
    "driver = webdriver.Chrome('.//chromedriver.exe')\n",
    "url = f'https://movielens.org/movies/{id_list[0]}'\n",
    "driver.get(url)\n",
    "\n",
    "cnt = 0\n",
    "err_cnt = 0\n",
    "for movieId in id_list:\n",
    "    url = f'https://movielens.org/movies/{movieId}'\n",
    "    driver.get(url)\n",
    "    cnt += 1\n",
    "    tt = 1 + np.random.rand(1)[0]        \n",
    "    time.sleep(tt)\n",
    "    try:\n",
    "        text_list.append({'id':movieId, 'raw':raw})\n",
    "        title = driver.find_element_by_xpath('//*[@id=\"main-container\"]/ui-view/movie-page/div/div[1]/div[2]/h1').text\n",
    "        genre = driver.find_element_by_xpath('//*[@id=\"main-container\"]/ui-view/movie-page/div/div[1]/div[2]/div[3]/div[2]/div[1]').text\n",
    "        #genre = genre.split('\\n')[1:]\n",
    "        overview = driver.find_element_by_xpath('//*[@id=\"main-container\"]/ui-view/movie-page/div/div[2]/div[1]/p').text\n",
    "        \n",
    "        director = driver.find_element_by_xpath('//*[@id=\"main-container\"]/ui-view/movie-page/div/div[2]/div[2]/div[2]/span/a').text\n",
    "        cast = driver.find_element_by_xpath('//*[@id=\"main-container\"]/ui-view/movie-page/div/div[2]/div[2]/div[3]').text\n",
    "        #cast = cast.split('\\n')[1].split(',')[:-1]\n",
    "        movie_dict = {'id':movieId, 'title':title, 'genre':genre, 'overview':overview, 'director':director, 'cast':cast}\n",
    "        datas.append(movie_dict)\n",
    "    except:\n",
    "        movie_dict = {'id':movieId, 'title':0, 'genre':0, 'overview':0, 'director':0, 'cast':0}\n",
    "        datas.append(movie_dict)\n",
    "        err_cnt += 1\n",
    "        print(f'{cnt}번째 영화에서 {err_cnt}번째 error')\n",
    "        \n",
    "    if cnt % 300 == 0:\n",
    "        df = pd.DataFrame(datas)\n",
    "        df.to_csv(f'dt0_{cnt}.csv', index=False)\n",
    "        datas = []\n",
    "df = pd.DataFrame(datas)\n",
    "df.to_csv(f'dt0_{cnt}.csv', index=False)"
   ]
  }
 ],
 "metadata": {
  "colab": {
   "collapsed_sections": [],
   "name": "movie_crawling.ipynb",
   "provenance": []
  },
  "kernelspec": {
   "display_name": "Python 3",
   "language": "python",
   "name": "python3"
  },
  "language_info": {
   "codemirror_mode": {
    "name": "ipython",
    "version": 3
   },
   "file_extension": ".py",
   "mimetype": "text/x-python",
   "name": "python",
   "nbconvert_exporter": "python",
   "pygments_lexer": "ipython3",
   "version": "3.7.4"
  },
  "toc": {
   "base_numbering": 1,
   "nav_menu": {},
   "number_sections": true,
   "sideBar": true,
   "skip_h1_title": false,
   "title_cell": "Table of Contents",
   "title_sidebar": "Contents",
   "toc_cell": false,
   "toc_position": {},
   "toc_section_display": true,
   "toc_window_display": false
  },
  "varInspector": {
   "cols": {
    "lenName": 16,
    "lenType": 16,
    "lenVar": 40
   },
   "kernels_config": {
    "python": {
     "delete_cmd_postfix": "",
     "delete_cmd_prefix": "del ",
     "library": "var_list.py",
     "varRefreshCmd": "print(var_dic_list())"
    },
    "r": {
     "delete_cmd_postfix": ") ",
     "delete_cmd_prefix": "rm(",
     "library": "var_list.r",
     "varRefreshCmd": "cat(var_dic_list()) "
    }
   },
   "types_to_exclude": [
    "module",
    "function",
    "builtin_function_or_method",
    "instance",
    "_Feature"
   ],
   "window_display": false
  }
 },
 "nbformat": 4,
 "nbformat_minor": 1
}
